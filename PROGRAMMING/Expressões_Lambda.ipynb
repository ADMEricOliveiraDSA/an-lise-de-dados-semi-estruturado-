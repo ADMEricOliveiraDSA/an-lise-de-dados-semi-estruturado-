{
 "cells": [
  {
   "cell_type": "markdown",
   "metadata": {},
   "source": [
    "## EXPRESSÕES LAMBDA "
   ]
  },
  {
   "cell_type": "markdown",
   "metadata": {},
   "source": [
    "#### Os objetos de função retornados em expressões lambda funcionam exatamente como os criados e chamados por defs.  Há diferença fundamental que torna a lambda útil em papéis especializados é que o corpo da lambda é uma expressão única, não um bloco de declarações.  O corpo da lambda é semelhante ao que colocamos na declaração de retorno do corpo def.  Simplesmente escrevemos o resultado como uma expressão em vez de devolvê-lo explicitamente.  Como é limitado a uma expressão, uma lambda é menos complexa que um def.  A lambda foi projetada para codificar funções simples e de manipulação como tarefas maiores."
   ]
  },
  {
   "cell_type": "code",
   "execution_count": 1,
   "metadata": {},
   "outputs": [
    {
     "data": {
      "text/plain": [
       "16"
      ]
     },
     "execution_count": 1,
     "metadata": {},
     "output_type": "execute_result"
    }
   ],
   "source": [
    "# Corpo de função eleva ao quadrado \n",
    "eleva_quadrado = lambda num: num**2\n",
    "eleva_quadrado(4)"
   ]
  },
  {
   "cell_type": "code",
   "execution_count": 2,
   "metadata": {},
   "outputs": [
    {
     "data": {
      "text/plain": [
       "False"
      ]
     },
     "execution_count": 2,
     "metadata": {},
     "output_type": "execute_result"
    }
   ],
   "source": [
    "# Verificar se um número é par (se é par retorna True senão False)\n",
    "par = lambda x:x % 2 == 0\n",
    "par(3)"
   ]
  },
  {
   "cell_type": "code",
   "execution_count": 3,
   "metadata": {},
   "outputs": [
    {
     "data": {
      "text/plain": [
       "'P'"
      ]
     },
     "execution_count": 3,
     "metadata": {},
     "output_type": "execute_result"
    }
   ],
   "source": [
    "# Pega o primeiro caráctere de uma string \n",
    "primeiro = lambda s: s[0]\n",
    "primeiro(\"Python\")    "
   ]
  },
  {
   "cell_type": "code",
   "execution_count": 4,
   "metadata": {},
   "outputs": [
    {
     "data": {
      "text/plain": [
       "'nohtyP euq od rohlem é R'"
      ]
     },
     "execution_count": 4,
     "metadata": {},
     "output_type": "execute_result"
    }
   ],
   "source": [
    "# Inverter uma string \n",
    "inverte = lambda s: s[::-1]\n",
    "inverte(\"R é melhor do que Python\")"
   ]
  },
  {
   "cell_type": "code",
   "execution_count": 5,
   "metadata": {},
   "outputs": [
    {
     "data": {
      "text/plain": [
       "10"
      ]
     },
     "execution_count": 5,
     "metadata": {},
     "output_type": "execute_result"
    }
   ],
   "source": [
    "# Usando mais de um parâmetro na expressão lambda para adição de 2 números \n",
    "adicao = lambda x,y: x+y \n",
    "adicao(5,5)"
   ]
  }
 ],
 "metadata": {
  "kernelspec": {
   "display_name": "Python 3",
   "language": "python",
   "name": "python3"
  },
  "language_info": {
   "codemirror_mode": {
    "name": "ipython",
    "version": 3
   },
   "file_extension": ".py",
   "mimetype": "text/x-python",
   "name": "python",
   "nbconvert_exporter": "python",
   "pygments_lexer": "ipython3",
   "version": "3.8.3"
  }
 },
 "nbformat": 4,
 "nbformat_minor": 4
}
