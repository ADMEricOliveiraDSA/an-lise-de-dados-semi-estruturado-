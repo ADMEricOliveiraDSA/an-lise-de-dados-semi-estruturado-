{
 "cells": [
  {
   "cell_type": "markdown",
   "metadata": {},
   "source": [
    "## RASPAGEM DE DADOS DA WEB "
   ]
  },
  {
   "cell_type": "markdown",
   "metadata": {},
   "source": [
    "### No exemplo a seguir, fazemos uma solicitação para que uma url seja carregada no ambiente Python.  Em seguida, usa-se o parâmetro do analisador html para ler todo o arquivo html.  Em seguida, imprimimos as primeiras linhas da página html."
   ]
  },
  {
   "cell_type": "code",
   "execution_count": 1,
   "metadata": {},
   "outputs": [
    {
     "name": "stdout",
     "output_type": "stream",
     "text": [
      "<!DOCTYPE html>\n",
      "<html lang=\"en-US\">\n",
      " <head>\n",
      "  <title>\n",
      "   Python - Overview - Tutorialspoint\n",
      "  </title>\n",
      "  <meta charset=\"utf-8\"/>\n",
      "  <meta content=\"Python - Overview - Python is a high-level, interpreted, interactive and object\n"
     ]
    }
   ],
   "source": [
    "#Importações \n",
    "from urllib.request import urlopen\n",
    "from bs4            import BeautifulSoup\n",
    "\n",
    "# Busca o arquivo html na página web / Leitura \n",
    "response = urlopen('http://tutorialspoint.com/python/python_overview.htm')\n",
    "html_doc = response.read()\n",
    "\n",
    "# Analisa o arquivo html / parse \n",
    "soup = BeautifulSoup(html_doc,'html.parser')\n",
    "\n",
    "# Formata o arquivo html analisado\n",
    "str_htm = soup.prettify()\n",
    "\n",
    "# Imprime os primeiros caracteres\n",
    "print (str_htm[:225])\n"
   ]
  },
  {
   "cell_type": "markdown",
   "metadata": {},
   "source": [
    "## EXTRAINDO VALORES DAS TAGS HTML "
   ]
  },
  {
   "cell_type": "markdown",
   "metadata": {},
   "source": [
    "### Podemos extrair o valor da tag da primeira instância da tag usando o código a seguir."
   ]
  },
  {
   "cell_type": "code",
   "execution_count": 2,
   "metadata": {},
   "outputs": [
    {
     "name": "stdout",
     "output_type": "stream",
     "text": [
      "<title>Python - Overview - Tutorialspoint</title>\n",
      "Python - Overview - Tutorialspoint\n",
      "None\n",
      "Python is Interpreted\n"
     ]
    }
   ],
   "source": [
    "# Imprimir títulos e caracteres das TAGS HTML da página \n",
    "print (soup.title)\n",
    "print(soup.title.string)\n",
    "print(soup.a.string)\n",
    "print(soup.b.string)"
   ]
  },
  {
   "cell_type": "markdown",
   "metadata": {},
   "source": [
    "## CONTEÚDO DE TOGAS TAGS"
   ]
  },
  {
   "cell_type": "markdown",
   "metadata": {},
   "source": [
    "### Podemos extrair o valor da tag de todas as instâncias de uma tag usando o código a seguir."
   ]
  },
  {
   "cell_type": "code",
   "execution_count": 3,
   "metadata": {},
   "outputs": [
    {
     "name": "stdout",
     "output_type": "stream",
     "text": [
      "Python is Interpreted\n",
      "Python is Interactive\n",
      "Python is Object-Oriented\n",
      "Python is a Beginner's Language\n",
      "Easy-to-learn\n",
      "Easy-to-read\n",
      "Easy-to-maintain\n",
      "A broad standard library\n",
      "Interactive Mode\n",
      "Portable\n",
      "Extendable\n",
      "Databases\n",
      "GUI Programming\n",
      "Scalable\n"
     ]
    }
   ],
   "source": [
    "# Pata cada TAG -(x)- com marcação de corpo ('b' ou <body/>) pega essa TAG\n",
    "# Imprimir na tela \n",
    "for x in soup.find_all('b'): print(x.string)"
   ]
  }
 ],
 "metadata": {
  "kernelspec": {
   "display_name": "Python 3",
   "language": "python",
   "name": "python3"
  },
  "language_info": {
   "codemirror_mode": {
    "name": "ipython",
    "version": 3
   },
   "file_extension": ".py",
   "mimetype": "text/x-python",
   "name": "python",
   "nbconvert_exporter": "python",
   "pygments_lexer": "ipython3",
   "version": "3.8.3"
  }
 },
 "nbformat": 4,
 "nbformat_minor": 4
}
