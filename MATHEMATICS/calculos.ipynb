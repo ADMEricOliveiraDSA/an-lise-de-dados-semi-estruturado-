{
 "cells": [
  {
   "cell_type": "markdown",
   "metadata": {},
   "source": [
    "## PRODUZA CALCULOS A MÃO COM A BIBLIOTECA HANDCALCS"
   ]
  },
  {
   "cell_type": "code",
   "execution_count": 1,
   "metadata": {},
   "outputs": [],
   "source": [
    "from math  import sqrt \n",
    "import sympy   as sp \n",
    "import handcalcs.render "
   ]
  },
  {
   "cell_type": "code",
   "execution_count": 2,
   "metadata": {},
   "outputs": [
    {
     "data": {
      "text/latex": [
       "\\[\n",
       "\\begin{aligned}\n",
       "a &= 2 \\; \n",
       "\\\\[10pt]\n",
       "b &= -5 \\; \n",
       "\\\\[10pt]\n",
       "c &= 3 \\; \n",
       "\\end{aligned}\n",
       "\\]"
      ],
      "text/plain": [
       "<IPython.core.display.Latex object>"
      ]
     },
     "metadata": {},
     "output_type": "display_data"
    }
   ],
   "source": [
    "%%render   # código mágico jupyter \n",
    "#PARAMETROS \n",
    "a = 2  \n",
    "b = -5 \n",
    "c = 3"
   ]
  },
  {
   "cell_type": "markdown",
   "metadata": {},
   "source": [
    "## FORMULA DE BHASKARA "
   ]
  },
  {
   "cell_type": "code",
   "execution_count": 3,
   "metadata": {},
   "outputs": [
    {
     "data": {
      "text/latex": [
       "\\[\n",
       "\\begin{aligned}\n",
       "x &= \\left( \\left( - b \\right) + \\frac{ \\sqrt { \\left( b \\right) ^{ 2 } - 4 \\cdot a \\cdot c } }{ 2 \\cdot a } \\right)  = \\left( \\left( - -5 \\right) + \\frac{ \\sqrt { \\left( -5 \\right) ^{ 2 } - 4 \\cdot 2 \\cdot 3 } }{ 2 \\cdot 2 } \\right) &= 5.25  \n",
       "\\end{aligned}\n",
       "\\]"
      ],
      "text/plain": [
       "<IPython.core.display.Latex object>"
      ]
     },
     "metadata": {},
     "output_type": "display_data"
    }
   ],
   "source": [
    "%%render\n",
    "x = (-b + sqrt(b**2 - 4*a*c) / (2*a))"
   ]
  },
  {
   "cell_type": "markdown",
   "metadata": {},
   "source": [
    "## CALCULAR INTEGRAIS "
   ]
  },
  {
   "cell_type": "code",
   "execution_count": 5,
   "metadata": {},
   "outputs": [],
   "source": [
    "a, b, c = sp.symbols('a b c')"
   ]
  },
  {
   "cell_type": "code",
   "execution_count": 6,
   "metadata": {},
   "outputs": [
    {
     "data": {
      "text/latex": [
       "$\\displaystyle \\frac{a^{3}}{3} + \\frac{a^{2} b}{2}$"
      ],
      "text/plain": [
       "a**3/3 + a**2*b/2"
      ]
     },
     "execution_count": 6,
     "metadata": {},
     "output_type": "execute_result"
    }
   ],
   "source": [
    "d = a**2 + b*a\n",
    "f = sp.integrate (d,a)\n",
    "f"
   ]
  },
  {
   "cell_type": "code",
   "execution_count": 7,
   "metadata": {},
   "outputs": [
    {
     "data": {
      "text/latex": [
       "\\[\n",
       "\\begin{aligned}\n",
       "a &= 5 \\; \n",
       "\\\\[10pt]\n",
       "b &= 10 \\; \n",
       "\\\\[10pt]\n",
       "x &= \\frac{ \\left( a \\right) ^{ 3 } }{ 3 } + \\left( a \\right) ^{ 2 } \\cdot \\frac{ b }{ 2 }  = \\frac{ \\left( 5 \\right) ^{ 3 } }{ 3 } + \\left( 5 \\right) ^{ 2 } \\cdot \\frac{ 10 }{ 2 } &= 166.667  \n",
       "\\end{aligned}\n",
       "\\]"
      ],
      "text/plain": [
       "<IPython.core.display.Latex object>"
      ]
     },
     "metadata": {},
     "output_type": "display_data"
    }
   ],
   "source": [
    "%%render sympy\n",
    "a = 5\n",
    "b = 10\n",
    "x = f"
   ]
  }
 ],
 "metadata": {
  "kernelspec": {
   "display_name": "Python 3",
   "language": "python",
   "name": "python3"
  },
  "language_info": {
   "codemirror_mode": {
    "name": "ipython",
    "version": 3
   },
   "file_extension": ".py",
   "mimetype": "text/x-python",
   "name": "python",
   "nbconvert_exporter": "python",
   "pygments_lexer": "ipython3",
   "version": "3.8.3"
  }
 },
 "nbformat": 4,
 "nbformat_minor": 4
}
