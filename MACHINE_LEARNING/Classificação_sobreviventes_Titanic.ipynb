{
  "nbformat": 4,
  "nbformat_minor": 0,
  "metadata": {
    "colab": {
      "name": "Classificação_sobreviventes_Titanic.ipynb",
      "provenance": [],
      "collapsed_sections": []
    },
    "kernelspec": {
      "name": "python3",
      "display_name": "Python 3"
    }
  },
  "cells": [
    {
      "cell_type": "markdown",
      "metadata": {
        "id": "U3UYaxZj1rwQ"
      },
      "source": [
        "CLASSIFICANDO SOBREVIVENTES OU NÃO NO NAUFRÁGIO DO TITANIC."
      ]
    },
    {
      "cell_type": "markdown",
      "metadata": {
        "id": "ia3SUIMcpTQU"
      },
      "source": [
        "Bom a proposta da análise é classificar os passageiros entre sobreviventes ou não, logo tenho um problema de classificação, para resolver este tipo de problema usa-se modelos de aprendizado supervisionado para classificação."
      ]
    },
    {
      "cell_type": "markdown",
      "metadata": {
        "id": "UT-gmnAHCRTm"
      },
      "source": [
        "## Importes"
      ]
    },
    {
      "cell_type": "code",
      "metadata": {
        "id": "QZl8ciglFUqt"
      },
      "source": [
        "# importando bibliotecas para analises\n",
        "import pandas            as pd \n",
        "import numpy             as np\n",
        "import matplotlib.pyplot as plt\n",
        "import seaborn           as sns"
      ],
      "execution_count": null,
      "outputs": []
    },
    {
      "cell_type": "code",
      "metadata": {
        "id": "UK-UhY9xFu4Z"
      },
      "source": [
        "# Carregando o dataset através da biblioteca seaborn \n",
        "titanic = sns.load_dataset('titanic')"
      ],
      "execution_count": null,
      "outputs": []
    },
    {
      "cell_type": "code",
      "metadata": {
        "id": "Uz3IQtw4F1mf",
        "colab": {
          "base_uri": "https://localhost:8080/",
          "height": 224
        },
        "outputId": "c0c0fbdb-df23-4d50-917b-35c728ec9c3c"
      },
      "source": [
        " \n",
        "# Visualizando primeiras linhas do conjunto de dados \n",
        "titanic.head ()"
      ],
      "execution_count": null,
      "outputs": [
        {
          "output_type": "execute_result",
          "data": {
            "text/html": [
              "<div>\n",
              "<style scoped>\n",
              "    .dataframe tbody tr th:only-of-type {\n",
              "        vertical-align: middle;\n",
              "    }\n",
              "\n",
              "    .dataframe tbody tr th {\n",
              "        vertical-align: top;\n",
              "    }\n",
              "\n",
              "    .dataframe thead th {\n",
              "        text-align: right;\n",
              "    }\n",
              "</style>\n",
              "<table border=\"1\" class=\"dataframe\">\n",
              "  <thead>\n",
              "    <tr style=\"text-align: right;\">\n",
              "      <th></th>\n",
              "      <th>survived</th>\n",
              "      <th>pclass</th>\n",
              "      <th>sex</th>\n",
              "      <th>age</th>\n",
              "      <th>sibsp</th>\n",
              "      <th>parch</th>\n",
              "      <th>fare</th>\n",
              "      <th>embarked</th>\n",
              "      <th>class</th>\n",
              "      <th>who</th>\n",
              "      <th>adult_male</th>\n",
              "      <th>deck</th>\n",
              "      <th>embark_town</th>\n",
              "      <th>alive</th>\n",
              "      <th>alone</th>\n",
              "    </tr>\n",
              "  </thead>\n",
              "  <tbody>\n",
              "    <tr>\n",
              "      <th>0</th>\n",
              "      <td>0</td>\n",
              "      <td>3</td>\n",
              "      <td>male</td>\n",
              "      <td>22.0</td>\n",
              "      <td>1</td>\n",
              "      <td>0</td>\n",
              "      <td>7.2500</td>\n",
              "      <td>S</td>\n",
              "      <td>Third</td>\n",
              "      <td>man</td>\n",
              "      <td>True</td>\n",
              "      <td>NaN</td>\n",
              "      <td>Southampton</td>\n",
              "      <td>no</td>\n",
              "      <td>False</td>\n",
              "    </tr>\n",
              "    <tr>\n",
              "      <th>1</th>\n",
              "      <td>1</td>\n",
              "      <td>1</td>\n",
              "      <td>female</td>\n",
              "      <td>38.0</td>\n",
              "      <td>1</td>\n",
              "      <td>0</td>\n",
              "      <td>71.2833</td>\n",
              "      <td>C</td>\n",
              "      <td>First</td>\n",
              "      <td>woman</td>\n",
              "      <td>False</td>\n",
              "      <td>C</td>\n",
              "      <td>Cherbourg</td>\n",
              "      <td>yes</td>\n",
              "      <td>False</td>\n",
              "    </tr>\n",
              "    <tr>\n",
              "      <th>2</th>\n",
              "      <td>1</td>\n",
              "      <td>3</td>\n",
              "      <td>female</td>\n",
              "      <td>26.0</td>\n",
              "      <td>0</td>\n",
              "      <td>0</td>\n",
              "      <td>7.9250</td>\n",
              "      <td>S</td>\n",
              "      <td>Third</td>\n",
              "      <td>woman</td>\n",
              "      <td>False</td>\n",
              "      <td>NaN</td>\n",
              "      <td>Southampton</td>\n",
              "      <td>yes</td>\n",
              "      <td>True</td>\n",
              "    </tr>\n",
              "    <tr>\n",
              "      <th>3</th>\n",
              "      <td>1</td>\n",
              "      <td>1</td>\n",
              "      <td>female</td>\n",
              "      <td>35.0</td>\n",
              "      <td>1</td>\n",
              "      <td>0</td>\n",
              "      <td>53.1000</td>\n",
              "      <td>S</td>\n",
              "      <td>First</td>\n",
              "      <td>woman</td>\n",
              "      <td>False</td>\n",
              "      <td>C</td>\n",
              "      <td>Southampton</td>\n",
              "      <td>yes</td>\n",
              "      <td>False</td>\n",
              "    </tr>\n",
              "    <tr>\n",
              "      <th>4</th>\n",
              "      <td>0</td>\n",
              "      <td>3</td>\n",
              "      <td>male</td>\n",
              "      <td>35.0</td>\n",
              "      <td>0</td>\n",
              "      <td>0</td>\n",
              "      <td>8.0500</td>\n",
              "      <td>S</td>\n",
              "      <td>Third</td>\n",
              "      <td>man</td>\n",
              "      <td>True</td>\n",
              "      <td>NaN</td>\n",
              "      <td>Southampton</td>\n",
              "      <td>no</td>\n",
              "      <td>True</td>\n",
              "    </tr>\n",
              "  </tbody>\n",
              "</table>\n",
              "</div>"
            ],
            "text/plain": [
              "   survived  pclass     sex   age  ...  deck  embark_town  alive  alone\n",
              "0         0       3    male  22.0  ...   NaN  Southampton     no  False\n",
              "1         1       1  female  38.0  ...     C    Cherbourg    yes  False\n",
              "2         1       3  female  26.0  ...   NaN  Southampton    yes   True\n",
              "3         1       1  female  35.0  ...     C  Southampton    yes  False\n",
              "4         0       3    male  35.0  ...   NaN  Southampton     no   True\n",
              "\n",
              "[5 rows x 15 columns]"
            ]
          },
          "metadata": {
            "tags": []
          },
          "execution_count": 3
        }
      ]
    },
    {
      "cell_type": "markdown",
      "metadata": {
        "id": "9m9OqEYgqCOT"
      },
      "source": [
        "##Análise Exploratória de Dados"
      ]
    },
    {
      "cell_type": "code",
      "metadata": {
        "id": "4J7rn4o6R6QR",
        "colab": {
          "base_uri": "https://localhost:8080/"
        },
        "outputId": "e413b928-8c87-4868-c4e9-c8fa87e23596"
      },
      "source": [
        " \n",
        "# Visualizando informações de todas as colunas do dataframe  \n",
        "titanic.info ()"
      ],
      "execution_count": null,
      "outputs": [
        {
          "output_type": "stream",
          "text": [
            "<class 'pandas.core.frame.DataFrame'>\n",
            "RangeIndex: 891 entries, 0 to 890\n",
            "Data columns (total 15 columns):\n",
            " #   Column       Non-Null Count  Dtype   \n",
            "---  ------       --------------  -----   \n",
            " 0   survived     891 non-null    int64   \n",
            " 1   pclass       891 non-null    int64   \n",
            " 2   sex          891 non-null    object  \n",
            " 3   age          714 non-null    float64 \n",
            " 4   sibsp        891 non-null    int64   \n",
            " 5   parch        891 non-null    int64   \n",
            " 6   fare         891 non-null    float64 \n",
            " 7   embarked     889 non-null    object  \n",
            " 8   class        891 non-null    category\n",
            " 9   who          891 non-null    object  \n",
            " 10  adult_male   891 non-null    bool    \n",
            " 11  deck         203 non-null    category\n",
            " 12  embark_town  889 non-null    object  \n",
            " 13  alive        891 non-null    object  \n",
            " 14  alone        891 non-null    bool    \n",
            "dtypes: bool(2), category(2), float64(2), int64(4), object(5)\n",
            "memory usage: 80.6+ KB\n"
          ],
          "name": "stdout"
        }
      ]
    },
    {
      "cell_type": "code",
      "metadata": {
        "id": "2E599mN-GnFR",
        "colab": {
          "base_uri": "https://localhost:8080/",
          "height": 317
        },
        "outputId": "4a5db195-fb10-4d1c-9979-4d8f5f5f3f69"
      },
      "source": [
        "# Visualizando valores descritivos \n",
        "titanic.describe ()"
      ],
      "execution_count": null,
      "outputs": [
        {
          "output_type": "execute_result",
          "data": {
            "text/html": [
              "<div>\n",
              "<style scoped>\n",
              "    .dataframe tbody tr th:only-of-type {\n",
              "        vertical-align: middle;\n",
              "    }\n",
              "\n",
              "    .dataframe tbody tr th {\n",
              "        vertical-align: top;\n",
              "    }\n",
              "\n",
              "    .dataframe thead th {\n",
              "        text-align: right;\n",
              "    }\n",
              "</style>\n",
              "<table border=\"1\" class=\"dataframe\">\n",
              "  <thead>\n",
              "    <tr style=\"text-align: right;\">\n",
              "      <th></th>\n",
              "      <th>survived</th>\n",
              "      <th>pclass</th>\n",
              "      <th>age</th>\n",
              "      <th>sibsp</th>\n",
              "      <th>parch</th>\n",
              "      <th>fare</th>\n",
              "    </tr>\n",
              "  </thead>\n",
              "  <tbody>\n",
              "    <tr>\n",
              "      <th>count</th>\n",
              "      <td>891.000000</td>\n",
              "      <td>891.000000</td>\n",
              "      <td>714.000000</td>\n",
              "      <td>891.000000</td>\n",
              "      <td>891.000000</td>\n",
              "      <td>891.000000</td>\n",
              "    </tr>\n",
              "    <tr>\n",
              "      <th>mean</th>\n",
              "      <td>0.383838</td>\n",
              "      <td>2.308642</td>\n",
              "      <td>29.699118</td>\n",
              "      <td>0.523008</td>\n",
              "      <td>0.381594</td>\n",
              "      <td>32.204208</td>\n",
              "    </tr>\n",
              "    <tr>\n",
              "      <th>std</th>\n",
              "      <td>0.486592</td>\n",
              "      <td>0.836071</td>\n",
              "      <td>14.526497</td>\n",
              "      <td>1.102743</td>\n",
              "      <td>0.806057</td>\n",
              "      <td>49.693429</td>\n",
              "    </tr>\n",
              "    <tr>\n",
              "      <th>min</th>\n",
              "      <td>0.000000</td>\n",
              "      <td>1.000000</td>\n",
              "      <td>0.420000</td>\n",
              "      <td>0.000000</td>\n",
              "      <td>0.000000</td>\n",
              "      <td>0.000000</td>\n",
              "    </tr>\n",
              "    <tr>\n",
              "      <th>25%</th>\n",
              "      <td>0.000000</td>\n",
              "      <td>2.000000</td>\n",
              "      <td>20.125000</td>\n",
              "      <td>0.000000</td>\n",
              "      <td>0.000000</td>\n",
              "      <td>7.910400</td>\n",
              "    </tr>\n",
              "    <tr>\n",
              "      <th>50%</th>\n",
              "      <td>0.000000</td>\n",
              "      <td>3.000000</td>\n",
              "      <td>28.000000</td>\n",
              "      <td>0.000000</td>\n",
              "      <td>0.000000</td>\n",
              "      <td>14.454200</td>\n",
              "    </tr>\n",
              "    <tr>\n",
              "      <th>75%</th>\n",
              "      <td>1.000000</td>\n",
              "      <td>3.000000</td>\n",
              "      <td>38.000000</td>\n",
              "      <td>1.000000</td>\n",
              "      <td>0.000000</td>\n",
              "      <td>31.000000</td>\n",
              "    </tr>\n",
              "    <tr>\n",
              "      <th>max</th>\n",
              "      <td>1.000000</td>\n",
              "      <td>3.000000</td>\n",
              "      <td>80.000000</td>\n",
              "      <td>8.000000</td>\n",
              "      <td>6.000000</td>\n",
              "      <td>512.329200</td>\n",
              "    </tr>\n",
              "  </tbody>\n",
              "</table>\n",
              "</div>"
            ],
            "text/plain": [
              "         survived      pclass         age       sibsp       parch        fare\n",
              "count  891.000000  891.000000  714.000000  891.000000  891.000000  891.000000\n",
              "mean     0.383838    2.308642   29.699118    0.523008    0.381594   32.204208\n",
              "std      0.486592    0.836071   14.526497    1.102743    0.806057   49.693429\n",
              "min      0.000000    1.000000    0.420000    0.000000    0.000000    0.000000\n",
              "25%      0.000000    2.000000   20.125000    0.000000    0.000000    7.910400\n",
              "50%      0.000000    3.000000   28.000000    0.000000    0.000000   14.454200\n",
              "75%      1.000000    3.000000   38.000000    1.000000    0.000000   31.000000\n",
              "max      1.000000    3.000000   80.000000    8.000000    6.000000  512.329200"
            ]
          },
          "metadata": {
            "tags": []
          },
          "execution_count": 5
        }
      ]
    },
    {
      "cell_type": "code",
      "metadata": {
        "id": "qP2Wp7J2bWZI",
        "colab": {
          "base_uri": "https://localhost:8080/"
        },
        "outputId": "bcef6f9b-d32c-4b07-d766-729c105b85b4"
      },
      "source": [
        "# Visualizando a totalidade de valores nulos nos dados\n",
        "titanic.isnull().sum()"
      ],
      "execution_count": null,
      "outputs": [
        {
          "output_type": "execute_result",
          "data": {
            "text/plain": [
              "survived         0\n",
              "pclass           0\n",
              "sex              0\n",
              "age            177\n",
              "sibsp            0\n",
              "parch            0\n",
              "fare             0\n",
              "embarked         2\n",
              "class            0\n",
              "who              0\n",
              "adult_male       0\n",
              "deck           688\n",
              "embark_town      2\n",
              "alive            0\n",
              "alone            0\n",
              "dtype: int64"
            ]
          },
          "metadata": {
            "tags": []
          },
          "execution_count": 6
        }
      ]
    },
    {
      "cell_type": "code",
      "metadata": {
        "id": "ZisYXeKrUuto",
        "colab": {
          "base_uri": "https://localhost:8080/"
        },
        "outputId": "fd8ad4d7-b51d-459c-e353-770661bfdf58"
      },
      "source": [
        "#Visualizando distribuição de pessoas por sexo entre os integrantes abordo \n",
        "titanic.sex.value_counts ()"
      ],
      "execution_count": null,
      "outputs": [
        {
          "output_type": "execute_result",
          "data": {
            "text/plain": [
              "male      577\n",
              "female    314\n",
              "Name: sex, dtype: int64"
            ]
          },
          "metadata": {
            "tags": []
          },
          "execution_count": 7
        }
      ]
    },
    {
      "cell_type": "code",
      "metadata": {
        "id": "F7BmbFpEZgtQ",
        "colab": {
          "base_uri": "https://localhost:8080/",
          "height": 128
        },
        "outputId": "4db2e714-3a5d-4e70-c8a7-d03c70a0f61f"
      },
      "source": [
        "# Visualizando correlações entre variáveis \n",
        "correlacao = titanic.corr()\n",
        "plt.figure(figsize=(16,6))\n",
        "sns.heatmap(data=correlacao,annot=True);"
      ],
      "execution_count": null,
      "outputs": [
        {
          "output_type": "display_data",
          "data": {
            "image/png": "[encoded data removed]",
            "text/plain": [
              "<Figure size 1152x432 with 2 Axes>"
            ]
          },
          "metadata": {
            "tags": [],
            "needs_background": "light"
          }
        }
      ]
    },
    {
      "cell_type": "code",
      "metadata": {
        "colab": {
          "base_uri": "https://localhost:8080/",
          "height": 210
        },
        "id": "Nx048DMthj_g",
        "outputId": "291f234f-f65c-489d-c9f8-616160f8ea1a"
      },
      "source": [
        "sns.countplot(x = titanic.sex, data=titanic,)\n",
        "plt.title(\"Números de passageiros por sexo\");"
      ],
      "execution_count": null,
      "outputs": [
        {
          "output_type": "display_data",
          "data": {
            "image/png": "[encoded data removed]",
            "text/plain": [
              "<Figure size 432x288 with 1 Axes>"
            ]
          },
          "metadata": {
            "tags": [],
            "needs_background": "light"
          }
        }
      ]
    },
    {
      "cell_type": "code",
      "metadata": {
        "colab": {
          "base_uri": "https://localhost:8080/",
          "height": 247
        },
        "id": "DA6-18P8jje3",
        "outputId": "28befef7-9685-4fff-d1e2-50c7c85e9634"
      },
      "source": [
        "sns.countplot(x=titanic.survived , data=titanic);\n",
        "plt.title(\" 0 indica morte / 1 indica sobrevivente\")"
      ],
      "execution_count": null,
      "outputs": [
        {
          "output_type": "execute_result",
          "data": {
            "text/plain": [
              "Text(0.5, 1.0, ' 0 indica morte / 1 indica sobrevivente')"
            ]
          },
          "metadata": {
            "tags": []
          },
          "execution_count": 10
        },
        {
          "output_type": "display_data",
          "data": {
            "image/png": "[encoded data removed]",
            "text/plain": [
              "<Figure size 432x288 with 1 Axes>"
            ]
          },
          "metadata": {
            "tags": [],
            "needs_background": "light"
          }
        }
      ]
    },
    {
      "cell_type": "markdown",
      "metadata": {
        "id": "FNuY0bITinuV"
      },
      "source": [
        "Percebe-se que a classe dependente  encontra-se desbalanceada em uma distribuição similar a bernouli."
      ]
    },
    {
      "cell_type": "code",
      "metadata": {
        "colab": {
          "base_uri": "https://localhost:8080/"
        },
        "id": "t7CsiFspmtSm",
        "outputId": "88575652-51c3-4a8c-fac7-a8d749add7b7"
      },
      "source": [
        "# Verificando a distribuição entre os sobreviventes ou não de acordo as classes\n",
        "titanic.survived.value_counts ()"
      ],
      "execution_count": null,
      "outputs": [
        {
          "output_type": "execute_result",
          "data": {
            "text/plain": [
              "0    549\n",
              "1    342\n",
              "Name: survived, dtype: int64"
            ]
          },
          "metadata": {
            "tags": []
          },
          "execution_count": 11
        }
      ]
    },
    {
      "cell_type": "markdown",
      "metadata": {
        "id": "32KoJxBt1BRo"
      },
      "source": [
        "## Engenharia de Atributos"
      ]
    },
    {
      "cell_type": "code",
      "metadata": {
        "id": "mP5rUd2BSW_C"
      },
      "source": [
        "# transformar os valores de sexo que estão como objetos \n",
        "# Para números inteiros onde o número 0 representa \"Homens\" e o número 1 \"mulheres\"\n",
        " \n",
        "titanic[\"sexo_numerico\"] = titanic[\"sex\"].map({'male': 0, 'female': 1})"
      ],
      "execution_count": null,
      "outputs": []
    },
    {
      "cell_type": "code",
      "metadata": {
        "id": "g_su3PK4Y1Qv",
        "colab": {
          "base_uri": "https://localhost:8080/"
        },
        "outputId": "0c2748f5-0ef2-4ece-d971-af418cf376f8"
      },
      "source": [
        "# Visualizando distribuição de pessoas por sexo entre os integrantes abordo\n",
        "# Agora com sexo em formato númerico \n",
        "titanic.sexo_numerico.value_counts ()"
      ],
      "execution_count": null,
      "outputs": [
        {
          "output_type": "execute_result",
          "data": {
            "text/plain": [
              "0    577\n",
              "1    314\n",
              "Name: sexo_numerico, dtype: int64"
            ]
          },
          "metadata": {
            "tags": []
          },
          "execution_count": 13
        }
      ]
    },
    {
      "cell_type": "code",
      "metadata": {
        "id": "Q7SZHpqHlgk6"
      },
      "source": [
        " \n",
        "# Substituindo valores ausentes na coluna idade , pela própria média das idades\n",
        "# transformando coluna \"idade\" de valor flutuante para valor inteiro\n",
        "media_idade = titanic[\"age\"].mean ()\n",
        "titanic[\"age\"] = titanic[\"age\"].fillna(media_idade).astype(int)"
      ],
      "execution_count": null,
      "outputs": []
    },
    {
      "cell_type": "markdown",
      "metadata": {
        "id": "YYCLe-cjsM_E"
      },
      "source": [
        "##Modelagem"
      ]
    },
    {
      "cell_type": "code",
      "metadata": {
        "id": "LNWcGLKcXEu-"
      },
      "source": [
        "# Atribuindo as colunas preditivas a variável X\n",
        "# Atribuindo a coluna alvo a variável  y \n",
        "X = titanic[[\"age\",\"fare\",\"sexo_numerico\",\"pclass\",\"sibsp\",\"parch\"]]\n",
        "y = titanic[\"survived\"]"
      ],
      "execution_count": null,
      "outputs": []
    },
    {
      "cell_type": "code",
      "metadata": {
        "id": "ir64HVJ0QdPN"
      },
      "source": [
        "# importando bibliotecas de modelos de machine learning  \n",
        "from sklearn.ensemble        import RandomForestClassifier\n",
        "from sklearn.tree            import DecisionTreeClassifier\n",
        "from sklearn.linear_model    import LogisticRegression\n",
        "from sklearn.model_selection import train_test_split, cross_val_score"
      ],
      "execution_count": null,
      "outputs": []
    },
    {
      "cell_type": "code",
      "metadata": {
        "id": "tyhLUDg0LQ2l"
      },
      "source": [
        "# Metricas de avaliação\n",
        "from sklearn.metrics         import classification_report, confusion_matrix"
      ],
      "execution_count": null,
      "outputs": []
    },
    {
      "cell_type": "code",
      "metadata": {
        "id": "GPZdwjewA2bH"
      },
      "source": [
        "# Divisão dados de treino e teste\n",
        "np.random.seed(0)\n",
        "X_treino,X_teste,y_treino,y_teste = train_test_split (X,y,\n",
        "                                                      test_size=0.5,\n",
        "                                                      random_state=42)"
      ],
      "execution_count": null,
      "outputs": []
    },
    {
      "cell_type": "code",
      "metadata": {
        "id": "kAD1yuXEdQ0w",
        "colab": {
          "base_uri": "https://localhost:8080/"
        },
        "outputId": "a8ce9f56-f341-4320-81b9-1a4a6c481ff0"
      },
      "source": [
        " \n",
        "# A forma como os dados são divididos pelo train_test_split\n",
        "X_treino.shape,X_teste.shape,y_treino.shape,y_teste.shape"
      ],
      "execution_count": null,
      "outputs": [
        {
          "output_type": "execute_result",
          "data": {
            "text/plain": [
              "((445, 6), (446, 6), (445,), (446,))"
            ]
          },
          "metadata": {
            "tags": []
          },
          "execution_count": 19
        }
      ]
    },
    {
      "cell_type": "markdown",
      "metadata": {
        "id": "sUPOG70lD5UF"
      },
      "source": [
        "#Algoritmos"
      ]
    },
    {
      "cell_type": "markdown",
      "metadata": {
        "id": "sBmmQrt2nJcJ"
      },
      "source": [
        "##1° modelo - Floresta Aleatória"
      ]
    },
    {
      "cell_type": "code",
      "metadata": {
        "id": "uJsizOTDRPdH"
      },
      "source": [
        "# Instânciando modelo\n",
        "#1°\n",
        "clf_rf = RandomForestClassifier (bootstrap=True,\n",
        "                                 n_estimators=1000,\n",
        "                                 n_jobs=-1,\n",
        "                                 random_state=42,\n",
        "                                 max_features='sqrt')"
      ],
      "execution_count": null,
      "outputs": []
    },
    {
      "cell_type": "code",
      "metadata": {
        "id": "g65AIgUanDXv"
      },
      "source": [
        "# MODELO RANDOM FOREST CLASSIFIER \n",
        "# fit \n",
        "clf_rf.fit (X_treino,y_treino)\n",
        "# predict\n",
        "y_pred = clf_rf.predict(X_teste)"
      ],
      "execution_count": null,
      "outputs": []
    },
    {
      "cell_type": "code",
      "metadata": {
        "id": "FybzNam2sfKg",
        "colab": {
          "base_uri": "https://localhost:8080/"
        },
        "outputId": "0cccddca-1e03-4ed3-de26-bd03415595c1"
      },
      "source": [
        " # Avaliação do modelo nos dados de teste\n",
        " \n",
        "clf_rf.score(X_teste,y_teste)"
      ],
      "execution_count": null,
      "outputs": [
        {
          "output_type": "execute_result",
          "data": {
            "text/plain": [
              "0.8318385650224215"
            ]
          },
          "metadata": {
            "tags": []
          },
          "execution_count": 22
        }
      ]
    },
    {
      "cell_type": "code",
      "metadata": {
        "id": "esva2UY5sKne"
      },
      "source": [
        "# Validação Cruzada, com 5 folds e avaliação por acuracia \n",
        " \n",
        "score = cross_val_score(clf_rf, X, y, cv=5, scoring=\"accuracy\")"
      ],
      "execution_count": null,
      "outputs": []
    },
    {
      "cell_type": "code",
      "metadata": {
        "id": "7rct7ud-ylK_",
        "colab": {
          "base_uri": "https://localhost:8080/"
        },
        "outputId": "a9420504-3f50-4dfb-c831-b706f86fbe65"
      },
      "source": [
        "# Score Validação Cruzada\n",
        "score.mean()"
      ],
      "execution_count": null,
      "outputs": [
        {
          "output_type": "execute_result",
          "data": {
            "text/plain": [
              "0.818234887954303"
            ]
          },
          "metadata": {
            "tags": []
          },
          "execution_count": 24
        }
      ]
    },
    {
      "cell_type": "code",
      "metadata": {
        "id": "mSLYCd5AFK5_",
        "colab": {
          "base_uri": "https://localhost:8080/"
        },
        "outputId": "72e6b936-a3bd-4040-b60d-9a6fd8e5e8cf"
      },
      "source": [
        "# Precisão do modelo\n",
        "print(\"clf_rf:\")\n",
        "print(classification_report(y_teste,y_pred))\n",
        "print(\"matriz_confusao:\\n%s\"%(confusion_matrix(y_teste,y_pred)))"
      ],
      "execution_count": null,
      "outputs": [
        {
          "output_type": "stream",
          "text": [
            "clf_rf:\n",
            "              precision    recall  f1-score   support\n",
            "\n",
            "           0       0.84      0.89      0.86       267\n",
            "           1       0.82      0.75      0.78       179\n",
            "\n",
            "    accuracy                           0.83       446\n",
            "   macro avg       0.83      0.82      0.82       446\n",
            "weighted avg       0.83      0.83      0.83       446\n",
            "\n",
            "matriz_confusao:\n",
            "[[237  30]\n",
            " [ 45 134]]\n"
          ],
          "name": "stdout"
        }
      ]
    },
    {
      "cell_type": "markdown",
      "metadata": {
        "id": "6JXVWkSNmTuO"
      },
      "source": [
        "##2° - Árvore de Decisão"
      ]
    },
    {
      "cell_type": "code",
      "metadata": {
        "id": "u-gUM30vBLG2"
      },
      "source": [
        "# Instanciando modelo\n",
        " #2°\n",
        "clf_Tree = DecisionTreeClassifier (max_depth=3,\n",
        "                                   max_features='sqrt',\n",
        "                                   random_state=42)"
      ],
      "execution_count": null,
      "outputs": []
    },
    {
      "cell_type": "code",
      "metadata": {
        "id": "RWU2XQrD1N-T"
      },
      "source": [
        "# MODELO ÁRVORE DE DECISÃO CLASSIFICAÇÃO \n",
        "#fit\n",
        "clf_Tree.fit (X_treino,y_treino)\n",
        "#predict\n",
        "y_pred = clf_Tree.predict(X_teste)"
      ],
      "execution_count": null,
      "outputs": []
    },
    {
      "cell_type": "code",
      "metadata": {
        "id": "b1WWUtmJqWvG",
        "colab": {
          "base_uri": "https://localhost:8080/"
        },
        "outputId": "de7e8005-bb6a-4851-b7ec-15b95e1bf015"
      },
      "source": [
        "# Avaliação do modelo nos dados de teste\n",
        " \n",
        "clf_Tree.score(X_teste,y_teste)"
      ],
      "execution_count": null,
      "outputs": [
        {
          "output_type": "execute_result",
          "data": {
            "text/plain": [
              "0.8094170403587444"
            ]
          },
          "metadata": {
            "tags": []
          },
          "execution_count": 28
        }
      ]
    },
    {
      "cell_type": "code",
      "metadata": {
        "id": "qWJfibUlxpd8"
      },
      "source": [
        " # Validação Cruzada, com 5 folds e avaliação por acuracia \n",
        " \n",
        "score = cross_val_score(clf_Tree, X, y, cv=5, scoring=\"accuracy\")"
      ],
      "execution_count": null,
      "outputs": []
    },
    {
      "cell_type": "code",
      "metadata": {
        "id": "ovvhOI4Uz-r5",
        "colab": {
          "base_uri": "https://localhost:8080/"
        },
        "outputId": "b011ed5e-8ea0-451b-82ac-fa1ff9bdf916"
      },
      "source": [
        " # Score Validação Cruzada\n",
        "score.mean ()"
      ],
      "execution_count": null,
      "outputs": [
        {
          "output_type": "execute_result",
          "data": {
            "text/plain": [
              "0.8114305442219573"
            ]
          },
          "metadata": {
            "tags": []
          },
          "execution_count": 30
        }
      ]
    },
    {
      "cell_type": "code",
      "metadata": {
        "id": "Y_8p-LsY4jCU",
        "colab": {
          "base_uri": "https://localhost:8080/"
        },
        "outputId": "d061125e-78b1-4233-ac98-66b1689a798b"
      },
      "source": [
        " # Precisão do modelo\n",
        "print(\"clf_Tree:\")\n",
        "print(classification_report(y_teste,y_pred))\n",
        "print(\"matriz_confusao:\\n%s\"%(confusion_matrix(y_teste, y_pred)))"
      ],
      "execution_count": null,
      "outputs": [
        {
          "output_type": "stream",
          "text": [
            "clf_Tree:\n",
            "              precision    recall  f1-score   support\n",
            "\n",
            "           0       0.80      0.91      0.85       267\n",
            "           1       0.83      0.66      0.74       179\n",
            "\n",
            "    accuracy                           0.81       446\n",
            "   macro avg       0.81      0.79      0.79       446\n",
            "weighted avg       0.81      0.81      0.80       446\n",
            "\n",
            "matriz_confusao:\n",
            "[[242  25]\n",
            " [ 60 119]]\n"
          ],
          "name": "stdout"
        }
      ]
    },
    {
      "cell_type": "markdown",
      "metadata": {
        "id": "QQJ7iNPumsRY"
      },
      "source": [
        "##3°- Regressão Logística"
      ]
    },
    {
      "cell_type": "code",
      "metadata": {
        "id": "H1tgZOoYEq0b"
      },
      "source": [
        "# Instanciando modelo\n",
        "#3°\n",
        "clf_lr = LogisticRegression(n_jobs=-1,\n",
        "                            random_state=42)"
      ],
      "execution_count": null,
      "outputs": []
    },
    {
      "cell_type": "code",
      "metadata": {
        "id": "GN-ijXdcJZvS"
      },
      "source": [
        "# MODELO REGRESSÃO LOGÍSTICA \n",
        "#fit\n",
        "clf_lr.fit(X_treino,y_treino)\n",
        "#predict\n",
        "y_pred = clf_lr.predict(X_teste)"
      ],
      "execution_count": null,
      "outputs": []
    },
    {
      "cell_type": "code",
      "metadata": {
        "id": "-dPAY7k5sT5v",
        "colab": {
          "base_uri": "https://localhost:8080/"
        },
        "outputId": "30ff5e90-2fb3-49ce-bd44-086a262ab4ae"
      },
      "source": [
        " # Avaliação do modelo nos dados de teste\n",
        " \n",
        "clf_lr.score(X_teste,y_teste)"
      ],
      "execution_count": null,
      "outputs": [
        {
          "output_type": "execute_result",
          "data": {
            "text/plain": [
              "0.804932735426009"
            ]
          },
          "metadata": {
            "tags": []
          },
          "execution_count": 34
        }
      ]
    },
    {
      "cell_type": "code",
      "metadata": {
        "id": "LyV_KIyDxwN6"
      },
      "source": [
        " # Validação Cruzada, com 5 folds e avaliação por acuracia \n",
        " \n",
        "score = cross_val_score(clf_lr, X, y, cv=5, scoring=\"accuracy\")"
      ],
      "execution_count": null,
      "outputs": []
    },
    {
      "cell_type": "code",
      "metadata": {
        "id": "Yzo0vKXt0MDz",
        "colab": {
          "base_uri": "https://localhost:8080/"
        },
        "outputId": "e4a870fb-83fe-447f-ee62-9f9a9032f24c"
      },
      "source": [
        " # Score Validação Cruzada\n",
        "score.mean()"
      ],
      "execution_count": null,
      "outputs": [
        {
          "output_type": "execute_result",
          "data": {
            "text/plain": [
              "0.7856317870817903"
            ]
          },
          "metadata": {
            "tags": []
          },
          "execution_count": 36
        }
      ]
    },
    {
      "cell_type": "code",
      "metadata": {
        "id": "QLFmQtRKKGTS",
        "colab": {
          "base_uri": "https://localhost:8080/"
        },
        "outputId": "e7801200-0df9-4677-a8af-884473cfcada"
      },
      "source": [
        " # Precisão do modelo\n",
        "print(\"clf_lr:\")\n",
        "print(classification_report(y_teste,y_pred))\n",
        "print(\"matriz_confusao:\\n%s\"%(confusion_matrix(y_teste,y_pred)))"
      ],
      "execution_count": null,
      "outputs": [
        {
          "output_type": "stream",
          "text": [
            "clf_lr:\n",
            "              precision    recall  f1-score   support\n",
            "\n",
            "           0       0.81      0.87      0.84       267\n",
            "           1       0.79      0.70      0.74       179\n",
            "\n",
            "    accuracy                           0.80       446\n",
            "   macro avg       0.80      0.79      0.79       446\n",
            "weighted avg       0.80      0.80      0.80       446\n",
            "\n",
            "matriz_confusao:\n",
            "[[233  34]\n",
            " [ 53 126]]\n"
          ],
          "name": "stdout"
        }
      ]
    },
    {
      "cell_type": "markdown",
      "metadata": {
        "id": "iODLK1g05UCg"
      },
      "source": [
        "###Vou verificar se eu e minha família sobreviveriamos ao naufrágio  do Titanic fazendo uma requisição ao modelo.\n",
        " \n",
        "No array do numpy vou considerar a idade do tripulante,valor médio de embarque(32.20),sexo(0 = homem,1 = mulher),número da classe (2, segunda classe),acompanhados(1,sim), quantidade de pais e filhos a bordo(2)"
      ]
    },
    {
      "cell_type": "code",
      "metadata": {
        "id": "qboOLX2Gn5Yd"
      },
      "source": [
        "# Listando os atributos de acordo aos dados de treino (X) recebidos no período de seleção de features(variáveis preditoras) no início da análise.\n",
        " \n",
        "Eric = np.array([22, 32.2, 0, 2, 1, 2]).reshape((1, -1))\n",
        "Emily = np.array([14, 32.2, 1, 2, 1, 2]).reshape((1, -1))\n",
        "Maria = np.array([47, 32.2, 1, 2, 1, 2]).reshape((1, -1))\n",
        "Antonio = np.array([57, 32.2, 0, 2, 1, 2]).reshape((1, -1))"
      ],
      "execution_count": null,
      "outputs": []
    },
    {
      "cell_type": "code",
      "metadata": {
        "id": "hN7yLh7N1vBM",
        "colab": {
          "base_uri": "https://localhost:8080/"
        },
        "outputId": "0b2d1ce3-f276-4b4c-c4c4-b916b0b61836"
      },
      "source": [
        "print(\"Eric:   \\t{}\".format(clf_rf.predict(Eric)[0]))\n",
        "print(\"Emily:  \\t{}\".format(clf_rf.predict(Emily)[0]))\n",
        "print(\"Maria:  \\t{}\".format(clf_rf.predict(Maria)[0]))\n",
        "print(\"Antonio:\\t{}\".format(clf_rf.predict(Antonio)[0]))\n",
        " \n",
        "print(\"O RESULTADO COM  NÚMERO (1) SIGNIFICA QUE É SOBREVIVENTE E COM (0) NÃO\")"
      ],
      "execution_count": null,
      "outputs": [
        {
          "output_type": "stream",
          "text": [
            "Eric:   \t0\n",
            "Emily:  \t1\n",
            "Maria:  \t1\n",
            "Antonio:\t0\n",
            "O RESULTADO COM  NÚMERO (1) SIGNIFICA QUE É SOBREVIVENTE E COM (0) NÃO\n"
          ],
          "name": "stdout"
        }
      ]
    },
    {
      "cell_type": "markdown",
      "metadata": {
        "id": "cgC7jdBFESiK"
      },
      "source": [
        "ISTO É O FIM OBRIGADO !"
      ]
    }
  ]
}