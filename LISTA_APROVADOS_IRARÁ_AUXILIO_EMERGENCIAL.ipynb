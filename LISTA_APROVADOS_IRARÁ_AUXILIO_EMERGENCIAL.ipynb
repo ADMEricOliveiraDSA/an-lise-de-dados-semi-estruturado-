{
  "nbformat": 4,
  "nbformat_minor": 0,
  "metadata": {
    "kernelspec": {
      "display_name": "Python 3",
      "language": "python",
      "name": "python3"
    },
    "language_info": {
      "codemirror_mode": {
        "name": "ipython",
        "version": 3
      },
      "file_extension": ".py",
      "mimetype": "text/x-python",
      "name": "python",
      "nbconvert_exporter": "python",
      "pygments_lexer": "ipython3",
      "version": "3.7.2"
    },
    "colab": {
      "name": "LISTA-APROVADOS-IRARÁ-AUXILIO-EMERGENCIAL.ipynb",
      "provenance": [],
      "collapsed_sections": [],
      "include_colab_link": true
    }
  },
  "cells": [
    {
      "cell_type": "markdown",
      "metadata": {
        "id": "view-in-github",
        "colab_type": "text"
      },
      "source": [
        "<a href=\"https://colab.research.google.com/github/EricOliveira17/Estudos-em-Data-Science-/blob/master/LISTA_APROVADOS_IRAR%C3%81_AUXILIO_EMERGENCIAL.ipynb\" target=\"_parent\"><img src=\"https://colab.research.google.com/assets/colab-badge.svg\" alt=\"Open In Colab\"/></a>"
      ]
    },
    {
      "cell_type": "code",
      "metadata": {
        "id": "GUPKkqj3k1a7",
        "colab_type": "code",
        "colab": {
          "base_uri": "https://localhost:8080/",
          "height": 54
        },
        "outputId": "c651e4c0-3dea-4b70-aba4-4d12563416a9"
      },
      "source": [
        "from google.colab import drive\n",
        "drive.mount('/content/drive')"
      ],
      "execution_count": 1,
      "outputs": [
        {
          "output_type": "stream",
          "text": [
            "Drive already mounted at /content/drive; to attempt to forcibly remount, call drive.mount(\"/content/drive\", force_remount=True).\n"
          ],
          "name": "stdout"
        }
      ]
    },
    {
      "cell_type": "code",
      "metadata": {
        "id": "gUqhgbBxjlOG",
        "colab_type": "code",
        "colab": {
          "base_uri": "https://localhost:8080/",
          "height": 71
        },
        "outputId": "86b341d9-8be6-405a-9d2c-b384ab6ed453"
      },
      "source": [
        "# FAZENDO IMPORTES DAS BIBLIOTECAS PARA ANÁLISES E VISUALIZAÇÕES \n",
        "import pandas as pd \n",
        "import numpy as np\n",
        "import matplotlib.pyplot as plt  \n",
        "import seaborn as sns\n",
        "plt.style.use = \"ggplot\"\n",
        "sns.set_style(\"darkgrid\")"
      ],
      "execution_count": 2,
      "outputs": [
        {
          "output_type": "stream",
          "text": [
            "/usr/local/lib/python3.6/dist-packages/statsmodels/tools/_testing.py:19: FutureWarning: pandas.util.testing is deprecated. Use the functions in the public API at pandas.testing instead.\n",
            "  import pandas.util.testing as tm\n"
          ],
          "name": "stderr"
        }
      ]
    },
    {
      "cell_type": "code",
      "metadata": {
        "id": "xzUfZLwajlOl",
        "colab_type": "code",
        "colab": {}
      },
      "source": [
        " \n",
        "# ARMAZENANDO DATAFRAME('TABELA DOS DADOS\"), NA VARIÁVEL irara_auxilio \n",
        "irara_auxilio= pd.read_csv('/content/drive/My Drive/Colab Notebooks/lista-aprovados-auxilio-IRARÁ.csv', usecols =[\"municipio\",\"enquadramento\",\"valor\",\"parcela\"])"
      ],
      "execution_count": 3,
      "outputs": []
    },
    {
      "cell_type": "code",
      "metadata": {
        "id": "_OcKNYBgjlO4",
        "colab_type": "code",
        "colab": {
          "base_uri": "https://localhost:8080/",
          "height": 224
        },
        "outputId": "be64752d-4c74-4ad1-dd71-265008a690d6"
      },
      "source": [
        " \n",
        "# VENDO PRIMEIRAS 5 LINHAS DA TABELA DAS RELAÇÕES DE BENEFICIÁRIOS DO AUXÍLIO EMERGENCIAL DA CIDADE DE IRARÁ \n",
        "irara_auxilio.head ()"
      ],
      "execution_count": 4,
      "outputs": [
        {
          "output_type": "execute_result",
          "data": {
            "text/html": [
              "<div>\n",
              "<style scoped>\n",
              "    .dataframe tbody tr th:only-of-type {\n",
              "        vertical-align: middle;\n",
              "    }\n",
              "\n",
              "    .dataframe tbody tr th {\n",
              "        vertical-align: top;\n",
              "    }\n",
              "\n",
              "    .dataframe thead th {\n",
              "        text-align: right;\n",
              "    }\n",
              "</style>\n",
              "<table border=\"1\" class=\"dataframe\">\n",
              "  <thead>\n",
              "    <tr style=\"text-align: right;\">\n",
              "      <th></th>\n",
              "      <th>municipio</th>\n",
              "      <th>enquadramento</th>\n",
              "      <th>parcela</th>\n",
              "      <th>valor</th>\n",
              "    </tr>\n",
              "  </thead>\n",
              "  <tbody>\n",
              "    <tr>\n",
              "      <th>0</th>\n",
              "      <td>Irará</td>\n",
              "      <td>EXTRA CADUN</td>\n",
              "      <td>1</td>\n",
              "      <td>600.0</td>\n",
              "    </tr>\n",
              "    <tr>\n",
              "      <th>1</th>\n",
              "      <td>Irará</td>\n",
              "      <td>EXTRA CADUN</td>\n",
              "      <td>1</td>\n",
              "      <td>600.0</td>\n",
              "    </tr>\n",
              "    <tr>\n",
              "      <th>2</th>\n",
              "      <td>Irará</td>\n",
              "      <td>EXTRA CADUN</td>\n",
              "      <td>1</td>\n",
              "      <td>600.0</td>\n",
              "    </tr>\n",
              "    <tr>\n",
              "      <th>3</th>\n",
              "      <td>Irará</td>\n",
              "      <td>EXTRA CADUN</td>\n",
              "      <td>1</td>\n",
              "      <td>600.0</td>\n",
              "    </tr>\n",
              "    <tr>\n",
              "      <th>4</th>\n",
              "      <td>Irará</td>\n",
              "      <td>EXTRA CADUN</td>\n",
              "      <td>1</td>\n",
              "      <td>600.0</td>\n",
              "    </tr>\n",
              "  </tbody>\n",
              "</table>\n",
              "</div>"
            ],
            "text/plain": [
              "  municipio enquadramento  parcela  valor\n",
              "0     Irará   EXTRA CADUN        1  600.0\n",
              "1     Irará   EXTRA CADUN        1  600.0\n",
              "2     Irará   EXTRA CADUN        1  600.0\n",
              "3     Irará   EXTRA CADUN        1  600.0\n",
              "4     Irará   EXTRA CADUN        1  600.0"
            ]
          },
          "metadata": {
            "tags": []
          },
          "execution_count": 4
        }
      ]
    },
    {
      "cell_type": "code",
      "metadata": {
        "id": "va1yFi8KoevG",
        "colab_type": "code",
        "colab": {
          "base_uri": "https://localhost:8080/",
          "height": 223
        },
        "outputId": "bd6ee934-8ad9-4a61-d5ef-d405896b6e12"
      },
      "source": [
        "# VENDO A QUANTIDADE DISTRIBUÍDA DOS VALORES RECEBIDOS PELOS BENEFICIÁRIOS \n",
        "irara_auxilio['valor'].value_counts ().plot(kind='bar',color=['g','y'])\n",
        "plt.yticks([0,2097,9995])\n",
        "plt.xticks(rotation=45)\n",
        "plt.title('Beneficiários Auxilio Emergencial IRARÁ 1° Parcela')\n",
        "plt.ylabel('Beneficiários')\n",
        "plt.xlabel('Valor Recebido $')\n",
        "plt.show();"
      ],
      "execution_count": 5,
      "outputs": [
        {
          "output_type": "display_data",
          "data": {
            "image/png": "[encoded data removed]",
            "text/plain": [
              "<Figure size 432x288 with 1 Axes>"
            ]
          },
          "metadata": {
            "tags": []
          }
        }
      ]
    },
    {
      "cell_type": "markdown",
      "metadata": {
        "id": "2mfQqnntjlP5",
        "colab_type": "text"
      },
      "source": [
        "DAS 12.072 PESSOAS ,9975 RECEBERAM VALOR IGUAL A R$ 600,00 TOTALIZANDO CERCA DE 82% DO TOTAL DOS BENEFICIÁRIOS DA CIDADE."
      ]
    },
    {
      "cell_type": "markdown",
      "metadata": {
        "id": "-V2TKCUmjlQP",
        "colab_type": "text"
      },
      "source": [
        "DOS 12.072 BENEFICIÁRIOS DO AUXÍLIO EMERGENCIAL 2.097 RECEBERAM PARCELAS NO VALOR DE R$ 1.200,00 TOTALIZANDO CERCA DE 17% DOS BENEFICIÁRIOS TOTAIS."
      ]
    },
    {
      "cell_type": "markdown",
      "metadata": {
        "id": "XADkYCcBjlQp",
        "colab_type": "text"
      },
      "source": [
        "OS DADOS DOS AUXÍLIOS NO VALOR DE 1.800.00 É FEITO ATRAVÉS DO PROCESSO  ADJUNTO DA SOMA DE 1.200.00 DAS MÃES SOLTEIRAS E 600.00 DE SEUS RESPECTIVOS FILHOS TOTALIZANDO O VALOR MÁXIMO DE 1.800.00 ISSO PARA AS MÃES SOLTEIRAS QUE SE ENQUADRAM PARA RECEBER ESTE RESPECTIVO VALOR."
      ]
    },
    {
      "cell_type": "code",
      "metadata": {
        "id": "fB5m69P1jlRB",
        "colab_type": "code",
        "colab": {}
      },
      "source": [
        "# ATRIBUINDO VARIÁVEL irara_enquadramento AO RESULTADO DA OPERAÇÃO DE SELECIONAR A COLUNA ENQUADRAMENTO E PEGAR SEUS RESPECTIVOS VALORES POR CATEGORIAS \n",
        "irara_enquadramento=irara_auxilio['enquadramento'].value_counts ().to_frame ().reset_index ()"
      ],
      "execution_count": 6,
      "outputs": []
    },
    {
      "cell_type": "code",
      "metadata": {
        "id": "qtbwsfAVjlRj",
        "colab_type": "code",
        "colab": {}
      },
      "source": [
        "# ATRIBUINDO VARIÁVEL X e Y PARA COMPOR O GRÁFICO\n",
        "x=irara_enquadramento['index']\n",
        "y=irara_enquadramento['enquadramento']"
      ],
      "execution_count": 7,
      "outputs": []
    },
    {
      "cell_type": "code",
      "metadata": {
        "id": "rgeo3chzjlR2",
        "colab_type": "code",
        "colab": {
          "base_uri": "https://localhost:8080/",
          "height": 276
        },
        "outputId": "71464876-4c4f-4466-bff9-a29123aa68f4"
      },
      "source": [
        "sns.barplot (data=irara_enquadramento,x=x,y=y)\n",
        "plt.title('Beneficiários Auxilio Emergencial IRARÁ 1° Parcela Por Enquadramento')\n",
        "plt.ylabel('Números de Beneficiários')\n",
        "plt.xlabel('Categoria de Enquadramento')\n",
        "plt.show();\n",
        "print(irara_enquadramento)"
      ],
      "execution_count": 8,
      "outputs": [
        {
          "output_type": "display_data",
          "data": {
            "image/png": "[encoded data removed]",
            "text/plain": [
              "<Figure size 432x288 with 1 Axes>"
            ]
          },
          "metadata": {
            "tags": []
          }
        },
        {
          "output_type": "stream",
          "text": [
            "             index  enquadramento\n",
            "0    BOLSA FAMILIA           9155\n",
            "1      EXTRA CADUN           1645\n",
            "2  CADUN NAO BOLSA           1272\n"
          ],
          "name": "stdout"
        }
      ]
    },
    {
      "cell_type": "code",
      "metadata": {
        "id": "FQvp2BBajlSY",
        "colab_type": "code",
        "colab": {}
      },
      "source": [
        ""
      ],
      "execution_count": 8,
      "outputs": []
    }
  ]
}