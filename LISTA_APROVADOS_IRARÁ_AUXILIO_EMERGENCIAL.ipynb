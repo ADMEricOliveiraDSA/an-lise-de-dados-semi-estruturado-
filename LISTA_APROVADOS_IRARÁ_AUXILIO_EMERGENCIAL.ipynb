{
  "nbformat": 4,
  "nbformat_minor": 0,
  "metadata": {
    "kernelspec": {
      "display_name": "Python 3",
      "language": "python",
      "name": "python3"
    },
    "language_info": {
      "codemirror_mode": {
        "name": "ipython",
        "version": 3
      },
      "file_extension": ".py",
      "mimetype": "text/x-python",
      "name": "python",
      "nbconvert_exporter": "python",
      "pygments_lexer": "ipython3",
      "version": "3.7.2"
    },
    "colab": {
      "name": "LISTA_APROVADOS_IRARÁ_AUXILIO_EMERGENCIAL.ipynb",
      "provenance": [],
      "include_colab_link": true
    }
  },
  "cells": [
    {
      "cell_type": "markdown",
      "metadata": {
        "id": "view-in-github",
        "colab_type": "text"
      },
      "source": [
        "<a href=\"https://colab.research.google.com/github/ADMEricOliveiraDSA/an-lise-de-dados-semi-estruturado-/blob/master/LISTA_APROVADOS_IRAR%C3%81_AUXILIO_EMERGENCIAL.ipynb\" target=\"_parent\"><img src=\"https://colab.research.google.com/assets/colab-badge.svg\" alt=\"Open In Colab\"/></a>"
      ]
    },
    {
      "cell_type": "code",
      "metadata": {
        "id": "sWQqEc-bQ8BO",
        "colab_type": "code",
        "outputId": "a4272778-cfed-407a-c21e-1c0eb4071112",
        "colab": {
          "base_uri": "https://localhost:8080/",
          "height": 122
        }
      },
      "source": [
        "from google.colab import drive\n",
        "drive.mount('/content/drive')"
      ],
      "execution_count": 0,
      "outputs": [
        {
          "output_type": "stream",
          "text": [
            "Go to this URL in a browser: https://accounts.google.com/o/oauth2/auth?client_id=947318989803-6bn6qk8qdgf4n4g3pfee6491hc0brc4i.apps.googleusercontent.com&redirect_uri=urn%3aietf%3awg%3aoauth%3a2.0%3aoob&response_type=code&scope=email%20https%3a%2f%2fwww.googleapis.com%2fauth%2fdocs.test%20https%3a%2f%2fwww.googleapis.com%2fauth%2fdrive%20https%3a%2f%2fwww.googleapis.com%2fauth%2fdrive.photos.readonly%20https%3a%2f%2fwww.googleapis.com%2fauth%2fpeopleapi.readonly\n",
            "\n",
            "Enter your authorization code:\n",
            "··········\n",
            "Mounted at /content/drive\n"
          ],
          "name": "stdout"
        }
      ]
    },
    {
      "cell_type": "code",
      "metadata": {
        "id": "xVfuwpuwPj9S",
        "colab_type": "code",
        "outputId": "77b9140c-51c0-4d71-a233-d8794d0661f6",
        "colab": {
          "base_uri": "https://localhost:8080/",
          "height": 71
        }
      },
      "source": [
        "# FAZENDO IMPORTES DAS BIBLIOTECAS PARA ANÁLISES E VISUALIZAÇÃO \n",
        "import pandas as pd \n",
        "import numpy as np \n",
        "import matplotlib.pyplot as plt \n",
        "%matplotlib inline  \n",
        "import seaborn as sns \n",
        "import plotly.graph_objects as go\n",
        "import plotly.offline as py\n",
        "py.init_notebook_mode(connected=True)"
      ],
      "execution_count": 0,
      "outputs": [
        {
          "output_type": "stream",
          "text": [
            "/usr/local/lib/python3.6/dist-packages/statsmodels/tools/_testing.py:19: FutureWarning: pandas.util.testing is deprecated. Use the functions in the public API at pandas.testing instead.\n",
            "  import pandas.util.testing as tm\n"
          ],
          "name": "stderr"
        },
        {
          "output_type": "display_data",
          "data": {
            "text/html": [
              "        <script type=\"text/javascript\">\n",
              "        window.PlotlyConfig = {MathJaxConfig: 'local'};\n",
              "        if (window.MathJax) {MathJax.Hub.Config({SVG: {font: \"STIX-Web\"}});}\n",
              "        if (typeof require !== 'undefined') {\n",
              "        require.undef(\"plotly\");\n",
              "        requirejs.config({\n",
              "            paths: {\n",
              "                'plotly': ['https://cdn.plot.ly/plotly-latest.min']\n",
              "            }\n",
              "        });\n",
              "        require(['plotly'], function(Plotly) {\n",
              "            window._Plotly = Plotly;\n",
              "        });\n",
              "        }\n",
              "        </script>\n",
              "        "
            ]
          },
          "metadata": {
            "tags": []
          }
        }
      ]
    },
    {
      "cell_type": "markdown",
      "metadata": {
        "id": "JrGo3I01Pj-O",
        "colab_type": "text"
      },
      "source": [
        "FONTE DOS DADOS ENCONTRA-SE NO SITE: \n",
        "https://brasil.io/dataset/govbr/auxilio_emergencial/"
      ]
    },
    {
      "cell_type": "markdown",
      "metadata": {
        "id": "FpUK7MqiPj-V",
        "colab_type": "text"
      },
      "source": [
        "ANÁLISE  EXPLORATÓRIA DOS DADOS DA LISTA DE BENEFICIÁRIOS DO AUXÍLIO EMERGENCIAL REFERENTE A PRIMEIRA PARCELA DA CIDADE DE IRARÁ.\n",
        " \n",
        "CONTRIBUIDOR: ERIC OLIVEIRA,\n",
        "FORMAÇÕES ACADÊMICAS:\n",
        "1-ADMINISTRAÇÃO \n",
        "2-CIÊNCIA DE DADOS \n",
        "3-EM CURSO- ADMINISTRAÇÃO ORGANIZACIONAL E INOVAÇÃO \n",
        " \n",
        "E-MAIL: ericoliveira1717@gmail.com \n",
        "INSTAGRAM: @eric_oliveira_17\n",
        "GITHUB: https://github.com/ADMEricOliveiraDSA/"
      ]
    },
    {
      "cell_type": "code",
      "metadata": {
        "id": "eIuK_b7_Pj-y",
        "colab_type": "code",
        "colab": {}
      },
      "source": [
        "# FAZENDO LEITURA DO ARQUIVO CSV DA LISTA DE BENEFICIÁRIOS DO AUXÍLIO EMERGENCIAL DA CIDADE DE IRARÁ \n",
        "irara_auxilio= pd.read_csv('/content/drive/My Drive/Colab Notebooks/lista-aprovados-auxilio-IRARÁ.csv')"
      ],
      "execution_count": 0,
      "outputs": []
    },
    {
      "cell_type": "code",
      "metadata": {
        "id": "q1dUrFvgPkAX",
        "colab_type": "code",
        "outputId": "d63eb975-5672-43e0-ea61-eed8b4b4a30e",
        "colab": {
          "base_uri": "https://localhost:8080/",
          "height": 428
        }
      },
      "source": [
        "# VISUALIZANDO AS PRIMEIRAS 5 LINHAS DA TABELA \n",
        "irara_auxilio.head ()"
      ],
      "execution_count": 0,
      "outputs": [
        {
          "output_type": "execute_result",
          "data": {
            "text/html": [
              "<div>\n",
              "<style scoped>\n",
              "    .dataframe tbody tr th:only-of-type {\n",
              "        vertical-align: middle;\n",
              "    }\n",
              "\n",
              "    .dataframe tbody tr th {\n",
              "        vertical-align: top;\n",
              "    }\n",
              "\n",
              "    .dataframe thead th {\n",
              "        text-align: right;\n",
              "    }\n",
              "</style>\n",
              "<table border=\"1\" class=\"dataframe\">\n",
              "  <thead>\n",
              "    <tr style=\"text-align: right;\">\n",
              "      <th></th>\n",
              "      <th>ano_mes</th>\n",
              "      <th>uf</th>\n",
              "      <th>municipio</th>\n",
              "      <th>nis_beneficiario</th>\n",
              "      <th>cpf_beneficiario</th>\n",
              "      <th>beneficiario</th>\n",
              "      <th>nis_responsavel</th>\n",
              "      <th>cpf_responsavel</th>\n",
              "      <th>responsavel</th>\n",
              "      <th>enquadramento</th>\n",
              "      <th>parcela</th>\n",
              "      <th>valor</th>\n",
              "    </tr>\n",
              "  </thead>\n",
              "  <tbody>\n",
              "    <tr>\n",
              "      <th>0</th>\n",
              "      <td>202005</td>\n",
              "      <td>BA</td>\n",
              "      <td>Irará</td>\n",
              "      <td>NaN</td>\n",
              "      <td>***442135**</td>\n",
              "      <td>ADEILSON DE JESUS ALMEIDA</td>\n",
              "      <td>-2</td>\n",
              "      <td>NaN</td>\n",
              "      <td>NaN</td>\n",
              "      <td>EXTRA CADUN</td>\n",
              "      <td>1</td>\n",
              "      <td>600.0</td>\n",
              "    </tr>\n",
              "    <tr>\n",
              "      <th>1</th>\n",
              "      <td>202005</td>\n",
              "      <td>BA</td>\n",
              "      <td>Irará</td>\n",
              "      <td>NaN</td>\n",
              "      <td>***640285**</td>\n",
              "      <td>ADEMAR VIEIRA DO ROSARIO</td>\n",
              "      <td>-2</td>\n",
              "      <td>NaN</td>\n",
              "      <td>NaN</td>\n",
              "      <td>EXTRA CADUN</td>\n",
              "      <td>1</td>\n",
              "      <td>600.0</td>\n",
              "    </tr>\n",
              "    <tr>\n",
              "      <th>2</th>\n",
              "      <td>202005</td>\n",
              "      <td>BA</td>\n",
              "      <td>Irará</td>\n",
              "      <td>NaN</td>\n",
              "      <td>***066935**</td>\n",
              "      <td>ADENIZA DOS SANTOS BITENCOURT TELES</td>\n",
              "      <td>-2</td>\n",
              "      <td>NaN</td>\n",
              "      <td>NaN</td>\n",
              "      <td>EXTRA CADUN</td>\n",
              "      <td>1</td>\n",
              "      <td>600.0</td>\n",
              "    </tr>\n",
              "    <tr>\n",
              "      <th>3</th>\n",
              "      <td>202005</td>\n",
              "      <td>BA</td>\n",
              "      <td>Irará</td>\n",
              "      <td>NaN</td>\n",
              "      <td>***756255**</td>\n",
              "      <td>ADRIANA MIRANDA DE JESUS ALMEIDA</td>\n",
              "      <td>-2</td>\n",
              "      <td>NaN</td>\n",
              "      <td>NaN</td>\n",
              "      <td>EXTRA CADUN</td>\n",
              "      <td>1</td>\n",
              "      <td>600.0</td>\n",
              "    </tr>\n",
              "    <tr>\n",
              "      <th>4</th>\n",
              "      <td>202005</td>\n",
              "      <td>BA</td>\n",
              "      <td>Irará</td>\n",
              "      <td>NaN</td>\n",
              "      <td>***952595**</td>\n",
              "      <td>ADRIANA SANTOS PEREIRA</td>\n",
              "      <td>-2</td>\n",
              "      <td>NaN</td>\n",
              "      <td>NaN</td>\n",
              "      <td>EXTRA CADUN</td>\n",
              "      <td>1</td>\n",
              "      <td>600.0</td>\n",
              "    </tr>\n",
              "  </tbody>\n",
              "</table>\n",
              "</div>"
            ],
            "text/plain": [
              "   ano_mes  uf municipio  ...  enquadramento parcela  valor\n",
              "0   202005  BA     Irará  ...    EXTRA CADUN       1  600.0\n",
              "1   202005  BA     Irará  ...    EXTRA CADUN       1  600.0\n",
              "2   202005  BA     Irará  ...    EXTRA CADUN       1  600.0\n",
              "3   202005  BA     Irará  ...    EXTRA CADUN       1  600.0\n",
              "4   202005  BA     Irará  ...    EXTRA CADUN       1  600.0\n",
              "\n",
              "[5 rows x 12 columns]"
            ]
          },
          "metadata": {
            "tags": []
          },
          "execution_count": 5
        }
      ]
    },
    {
      "cell_type": "code",
      "metadata": {
        "id": "uNOkr-srPkBX",
        "colab_type": "code",
        "outputId": "5a28bd30-889e-4491-ea52-2ec631f69057",
        "colab": {
          "base_uri": "https://localhost:8080/",
          "height": 317
        }
      },
      "source": [
        "# VISUALIZANDO RESUMO ESTATÍSTICO DO CONJUNTO DE DADOS \n",
        "irara_auxilio.describe()"
      ],
      "execution_count": 0,
      "outputs": [
        {
          "output_type": "execute_result",
          "data": {
            "text/html": [
              "<div>\n",
              "<style scoped>\n",
              "    .dataframe tbody tr th:only-of-type {\n",
              "        vertical-align: middle;\n",
              "    }\n",
              "\n",
              "    .dataframe tbody tr th {\n",
              "        vertical-align: top;\n",
              "    }\n",
              "\n",
              "    .dataframe thead th {\n",
              "        text-align: right;\n",
              "    }\n",
              "</style>\n",
              "<table border=\"1\" class=\"dataframe\">\n",
              "  <thead>\n",
              "    <tr style=\"text-align: right;\">\n",
              "      <th></th>\n",
              "      <th>ano_mes</th>\n",
              "      <th>nis_beneficiario</th>\n",
              "      <th>nis_responsavel</th>\n",
              "      <th>parcela</th>\n",
              "      <th>valor</th>\n",
              "    </tr>\n",
              "  </thead>\n",
              "  <tbody>\n",
              "    <tr>\n",
              "      <th>count</th>\n",
              "      <td>12072.000000</td>\n",
              "      <td>1.041800e+04</td>\n",
              "      <td>1.207200e+04</td>\n",
              "      <td>12072.0</td>\n",
              "      <td>12072.000000</td>\n",
              "    </tr>\n",
              "    <tr>\n",
              "      <th>mean</th>\n",
              "      <td>202004.023111</td>\n",
              "      <td>1.752600e+10</td>\n",
              "      <td>1.324843e+10</td>\n",
              "      <td>1.0</td>\n",
              "      <td>704.224652</td>\n",
              "    </tr>\n",
              "    <tr>\n",
              "      <th>std</th>\n",
              "      <td>0.150263</td>\n",
              "      <td>2.979433e+09</td>\n",
              "      <td>7.831429e+09</td>\n",
              "      <td>0.0</td>\n",
              "      <td>227.324204</td>\n",
              "    </tr>\n",
              "    <tr>\n",
              "      <th>min</th>\n",
              "      <td>202004.000000</td>\n",
              "      <td>1.002940e+10</td>\n",
              "      <td>-2.000000e+00</td>\n",
              "      <td>1.0</td>\n",
              "      <td>600.000000</td>\n",
              "    </tr>\n",
              "    <tr>\n",
              "      <th>25%</th>\n",
              "      <td>202004.000000</td>\n",
              "      <td>1.615286e+10</td>\n",
              "      <td>1.227387e+10</td>\n",
              "      <td>1.0</td>\n",
              "      <td>600.000000</td>\n",
              "    </tr>\n",
              "    <tr>\n",
              "      <th>50%</th>\n",
              "      <td>202004.000000</td>\n",
              "      <td>1.648450e+10</td>\n",
              "      <td>1.628366e+10</td>\n",
              "      <td>1.0</td>\n",
              "      <td>600.000000</td>\n",
              "    </tr>\n",
              "    <tr>\n",
              "      <th>75%</th>\n",
              "      <td>202004.000000</td>\n",
              "      <td>2.031935e+10</td>\n",
              "      <td>2.001110e+10</td>\n",
              "      <td>1.0</td>\n",
              "      <td>600.000000</td>\n",
              "    </tr>\n",
              "    <tr>\n",
              "      <th>max</th>\n",
              "      <td>202005.000000</td>\n",
              "      <td>2.389439e+10</td>\n",
              "      <td>2.388762e+10</td>\n",
              "      <td>1.0</td>\n",
              "      <td>1200.000000</td>\n",
              "    </tr>\n",
              "  </tbody>\n",
              "</table>\n",
              "</div>"
            ],
            "text/plain": [
              "             ano_mes  nis_beneficiario  nis_responsavel  parcela         valor\n",
              "count   12072.000000      1.041800e+04     1.207200e+04  12072.0  12072.000000\n",
              "mean   202004.023111      1.752600e+10     1.324843e+10      1.0    704.224652\n",
              "std         0.150263      2.979433e+09     7.831429e+09      0.0    227.324204\n",
              "min    202004.000000      1.002940e+10    -2.000000e+00      1.0    600.000000\n",
              "25%    202004.000000      1.615286e+10     1.227387e+10      1.0    600.000000\n",
              "50%    202004.000000      1.648450e+10     1.628366e+10      1.0    600.000000\n",
              "75%    202004.000000      2.031935e+10     2.001110e+10      1.0    600.000000\n",
              "max    202005.000000      2.389439e+10     2.388762e+10      1.0   1200.000000"
            ]
          },
          "metadata": {
            "tags": []
          },
          "execution_count": 6
        }
      ]
    },
    {
      "cell_type": "code",
      "metadata": {
        "id": "uzCIMCnbPkCl",
        "colab_type": "code",
        "outputId": "0c3f6e76-39d2-45e2-e4bc-f0b8065af588",
        "colab": {
          "base_uri": "https://localhost:8080/",
          "height": 796
        }
      },
      "source": [
        "# IDENTIFICAR VALOR DE BENEFÍCIOS IGUAIS A R$ 600.00\n",
        "irara_auxilio[irara_auxilio['valor']==600]"
      ],
      "execution_count": 0,
      "outputs": [
        {
          "output_type": "execute_result",
          "data": {
            "text/html": [
              "<div>\n",
              "<style scoped>\n",
              "    .dataframe tbody tr th:only-of-type {\n",
              "        vertical-align: middle;\n",
              "    }\n",
              "\n",
              "    .dataframe tbody tr th {\n",
              "        vertical-align: top;\n",
              "    }\n",
              "\n",
              "    .dataframe thead th {\n",
              "        text-align: right;\n",
              "    }\n",
              "</style>\n",
              "<table border=\"1\" class=\"dataframe\">\n",
              "  <thead>\n",
              "    <tr style=\"text-align: right;\">\n",
              "      <th></th>\n",
              "      <th>ano_mes</th>\n",
              "      <th>uf</th>\n",
              "      <th>municipio</th>\n",
              "      <th>nis_beneficiario</th>\n",
              "      <th>cpf_beneficiario</th>\n",
              "      <th>beneficiario</th>\n",
              "      <th>nis_responsavel</th>\n",
              "      <th>cpf_responsavel</th>\n",
              "      <th>responsavel</th>\n",
              "      <th>enquadramento</th>\n",
              "      <th>parcela</th>\n",
              "      <th>valor</th>\n",
              "    </tr>\n",
              "  </thead>\n",
              "  <tbody>\n",
              "    <tr>\n",
              "      <th>0</th>\n",
              "      <td>202005</td>\n",
              "      <td>BA</td>\n",
              "      <td>Irará</td>\n",
              "      <td>NaN</td>\n",
              "      <td>***442135**</td>\n",
              "      <td>ADEILSON DE JESUS ALMEIDA</td>\n",
              "      <td>-2</td>\n",
              "      <td>NaN</td>\n",
              "      <td>NaN</td>\n",
              "      <td>EXTRA CADUN</td>\n",
              "      <td>1</td>\n",
              "      <td>600.0</td>\n",
              "    </tr>\n",
              "    <tr>\n",
              "      <th>1</th>\n",
              "      <td>202005</td>\n",
              "      <td>BA</td>\n",
              "      <td>Irará</td>\n",
              "      <td>NaN</td>\n",
              "      <td>***640285**</td>\n",
              "      <td>ADEMAR VIEIRA DO ROSARIO</td>\n",
              "      <td>-2</td>\n",
              "      <td>NaN</td>\n",
              "      <td>NaN</td>\n",
              "      <td>EXTRA CADUN</td>\n",
              "      <td>1</td>\n",
              "      <td>600.0</td>\n",
              "    </tr>\n",
              "    <tr>\n",
              "      <th>2</th>\n",
              "      <td>202005</td>\n",
              "      <td>BA</td>\n",
              "      <td>Irará</td>\n",
              "      <td>NaN</td>\n",
              "      <td>***066935**</td>\n",
              "      <td>ADENIZA DOS SANTOS BITENCOURT TELES</td>\n",
              "      <td>-2</td>\n",
              "      <td>NaN</td>\n",
              "      <td>NaN</td>\n",
              "      <td>EXTRA CADUN</td>\n",
              "      <td>1</td>\n",
              "      <td>600.0</td>\n",
              "    </tr>\n",
              "    <tr>\n",
              "      <th>3</th>\n",
              "      <td>202005</td>\n",
              "      <td>BA</td>\n",
              "      <td>Irará</td>\n",
              "      <td>NaN</td>\n",
              "      <td>***756255**</td>\n",
              "      <td>ADRIANA MIRANDA DE JESUS ALMEIDA</td>\n",
              "      <td>-2</td>\n",
              "      <td>NaN</td>\n",
              "      <td>NaN</td>\n",
              "      <td>EXTRA CADUN</td>\n",
              "      <td>1</td>\n",
              "      <td>600.0</td>\n",
              "    </tr>\n",
              "    <tr>\n",
              "      <th>4</th>\n",
              "      <td>202005</td>\n",
              "      <td>BA</td>\n",
              "      <td>Irará</td>\n",
              "      <td>NaN</td>\n",
              "      <td>***952595**</td>\n",
              "      <td>ADRIANA SANTOS PEREIRA</td>\n",
              "      <td>-2</td>\n",
              "      <td>NaN</td>\n",
              "      <td>NaN</td>\n",
              "      <td>EXTRA CADUN</td>\n",
              "      <td>1</td>\n",
              "      <td>600.0</td>\n",
              "    </tr>\n",
              "    <tr>\n",
              "      <th>...</th>\n",
              "      <td>...</td>\n",
              "      <td>...</td>\n",
              "      <td>...</td>\n",
              "      <td>...</td>\n",
              "      <td>...</td>\n",
              "      <td>...</td>\n",
              "      <td>...</td>\n",
              "      <td>...</td>\n",
              "      <td>...</td>\n",
              "      <td>...</td>\n",
              "      <td>...</td>\n",
              "      <td>...</td>\n",
              "    </tr>\n",
              "    <tr>\n",
              "      <th>12066</th>\n",
              "      <td>202004</td>\n",
              "      <td>BA</td>\n",
              "      <td>Irará</td>\n",
              "      <td>1.660757e+10</td>\n",
              "      <td>***179335**</td>\n",
              "      <td>ZIZETE RIBEIRO BISPO CAMPOS</td>\n",
              "      <td>-2</td>\n",
              "      <td>NaN</td>\n",
              "      <td>NaN</td>\n",
              "      <td>CADUN NAO BOLSA</td>\n",
              "      <td>1</td>\n",
              "      <td>600.0</td>\n",
              "    </tr>\n",
              "    <tr>\n",
              "      <th>12067</th>\n",
              "      <td>202004</td>\n",
              "      <td>BA</td>\n",
              "      <td>Irará</td>\n",
              "      <td>1.653450e+10</td>\n",
              "      <td>***768965**</td>\n",
              "      <td>ZULEIDE DOS SANTOS SOBRINHO</td>\n",
              "      <td>16534501881</td>\n",
              "      <td>***768965**</td>\n",
              "      <td>ZULEIDE DOS SANTOS SOBRINHO</td>\n",
              "      <td>BOLSA FAMILIA</td>\n",
              "      <td>1</td>\n",
              "      <td>600.0</td>\n",
              "    </tr>\n",
              "    <tr>\n",
              "      <th>12068</th>\n",
              "      <td>202004</td>\n",
              "      <td>BA</td>\n",
              "      <td>Irará</td>\n",
              "      <td>2.031940e+10</td>\n",
              "      <td>***394685**</td>\n",
              "      <td>ZULEIDE MARTINS OLIVEIRA MOREIRA</td>\n",
              "      <td>20319403003</td>\n",
              "      <td>***394685**</td>\n",
              "      <td>ZULEIDE MARTINS OLIVEIRA MOREIRA</td>\n",
              "      <td>BOLSA FAMILIA</td>\n",
              "      <td>1</td>\n",
              "      <td>600.0</td>\n",
              "    </tr>\n",
              "    <tr>\n",
              "      <th>12069</th>\n",
              "      <td>202004</td>\n",
              "      <td>BA</td>\n",
              "      <td>Irará</td>\n",
              "      <td>2.031940e+10</td>\n",
              "      <td>***198655**</td>\n",
              "      <td>ZULMIRO XAVIER DE JESUS</td>\n",
              "      <td>20319395825</td>\n",
              "      <td>***198655**</td>\n",
              "      <td>ZULMIRO XAVIER DE JESUS</td>\n",
              "      <td>BOLSA FAMILIA</td>\n",
              "      <td>1</td>\n",
              "      <td>600.0</td>\n",
              "    </tr>\n",
              "    <tr>\n",
              "      <th>12070</th>\n",
              "      <td>202004</td>\n",
              "      <td>BA</td>\n",
              "      <td>Irará</td>\n",
              "      <td>1.283330e+10</td>\n",
              "      <td>***208975**</td>\n",
              "      <td>ZUMARA MOREIRA</td>\n",
              "      <td>12833296055</td>\n",
              "      <td>***208975**</td>\n",
              "      <td>ZUMARA MOREIRA</td>\n",
              "      <td>BOLSA FAMILIA</td>\n",
              "      <td>1</td>\n",
              "      <td>600.0</td>\n",
              "    </tr>\n",
              "  </tbody>\n",
              "</table>\n",
              "<p>9975 rows × 12 columns</p>\n",
              "</div>"
            ],
            "text/plain": [
              "       ano_mes  uf municipio  ...    enquadramento parcela  valor\n",
              "0       202005  BA     Irará  ...      EXTRA CADUN       1  600.0\n",
              "1       202005  BA     Irará  ...      EXTRA CADUN       1  600.0\n",
              "2       202005  BA     Irará  ...      EXTRA CADUN       1  600.0\n",
              "3       202005  BA     Irará  ...      EXTRA CADUN       1  600.0\n",
              "4       202005  BA     Irará  ...      EXTRA CADUN       1  600.0\n",
              "...        ...  ..       ...  ...              ...     ...    ...\n",
              "12066   202004  BA     Irará  ...  CADUN NAO BOLSA       1  600.0\n",
              "12067   202004  BA     Irará  ...    BOLSA FAMILIA       1  600.0\n",
              "12068   202004  BA     Irará  ...    BOLSA FAMILIA       1  600.0\n",
              "12069   202004  BA     Irará  ...    BOLSA FAMILIA       1  600.0\n",
              "12070   202004  BA     Irará  ...    BOLSA FAMILIA       1  600.0\n",
              "\n",
              "[9975 rows x 12 columns]"
            ]
          },
          "metadata": {
            "tags": []
          },
          "execution_count": 7
        }
      ]
    },
    {
      "cell_type": "markdown",
      "metadata": {
        "id": "hAvWh7qmPkDp",
        "colab_type": "text"
      },
      "source": [
        "DAS 12.072 PESSOAS ,9975 RECEBERAM VALOR IGUAL A R$ 600,00 TOTALIZANDO CERCA DE 82% DO TOTAL DOS BENEFICIÁRIOS DA CIDADE."
      ]
    },
    {
      "cell_type": "code",
      "metadata": {
        "id": "7ZeGY_wrPkEu",
        "colab_type": "code",
        "outputId": "a2a06daa-9399-4287-8573-b7b08b3e7d2d",
        "colab": {
          "base_uri": "https://localhost:8080/",
          "height": 779
        }
      },
      "source": [
        "# IDENTIFICAR VALOR DE BENEFÍCIOS MAIORES QUE R$ 600.00\n",
        "irara_auxilio[irara_auxilio['valor']>600]"
      ],
      "execution_count": 0,
      "outputs": [
        {
          "output_type": "execute_result",
          "data": {
            "text/html": [
              "<div>\n",
              "<style scoped>\n",
              "    .dataframe tbody tr th:only-of-type {\n",
              "        vertical-align: middle;\n",
              "    }\n",
              "\n",
              "    .dataframe tbody tr th {\n",
              "        vertical-align: top;\n",
              "    }\n",
              "\n",
              "    .dataframe thead th {\n",
              "        text-align: right;\n",
              "    }\n",
              "</style>\n",
              "<table border=\"1\" class=\"dataframe\">\n",
              "  <thead>\n",
              "    <tr style=\"text-align: right;\">\n",
              "      <th></th>\n",
              "      <th>ano_mes</th>\n",
              "      <th>uf</th>\n",
              "      <th>municipio</th>\n",
              "      <th>nis_beneficiario</th>\n",
              "      <th>cpf_beneficiario</th>\n",
              "      <th>beneficiario</th>\n",
              "      <th>nis_responsavel</th>\n",
              "      <th>cpf_responsavel</th>\n",
              "      <th>responsavel</th>\n",
              "      <th>enquadramento</th>\n",
              "      <th>parcela</th>\n",
              "      <th>valor</th>\n",
              "    </tr>\n",
              "  </thead>\n",
              "  <tbody>\n",
              "    <tr>\n",
              "      <th>19</th>\n",
              "      <td>202005</td>\n",
              "      <td>BA</td>\n",
              "      <td>Irará</td>\n",
              "      <td>NaN</td>\n",
              "      <td>***493035**</td>\n",
              "      <td>ANA PAULA MARTINS VIEIRA</td>\n",
              "      <td>-2</td>\n",
              "      <td>NaN</td>\n",
              "      <td>NaN</td>\n",
              "      <td>EXTRA CADUN</td>\n",
              "      <td>1</td>\n",
              "      <td>1200.0</td>\n",
              "    </tr>\n",
              "    <tr>\n",
              "      <th>45</th>\n",
              "      <td>202005</td>\n",
              "      <td>BA</td>\n",
              "      <td>Irará</td>\n",
              "      <td>NaN</td>\n",
              "      <td>***413725**</td>\n",
              "      <td>DANIELA DOS SANTOS SILVA</td>\n",
              "      <td>-2</td>\n",
              "      <td>NaN</td>\n",
              "      <td>NaN</td>\n",
              "      <td>EXTRA CADUN</td>\n",
              "      <td>1</td>\n",
              "      <td>1200.0</td>\n",
              "    </tr>\n",
              "    <tr>\n",
              "      <th>61</th>\n",
              "      <td>202005</td>\n",
              "      <td>BA</td>\n",
              "      <td>Irará</td>\n",
              "      <td>NaN</td>\n",
              "      <td>***912635**</td>\n",
              "      <td>ELIANA DOMINGAS DE JESUS OLIVEIRA</td>\n",
              "      <td>-2</td>\n",
              "      <td>NaN</td>\n",
              "      <td>NaN</td>\n",
              "      <td>EXTRA CADUN</td>\n",
              "      <td>1</td>\n",
              "      <td>1200.0</td>\n",
              "    </tr>\n",
              "    <tr>\n",
              "      <th>124</th>\n",
              "      <td>202005</td>\n",
              "      <td>BA</td>\n",
              "      <td>Irará</td>\n",
              "      <td>NaN</td>\n",
              "      <td>***997325**</td>\n",
              "      <td>JOSELIA DE JESUS DA RESSURREICAO</td>\n",
              "      <td>-2</td>\n",
              "      <td>NaN</td>\n",
              "      <td>NaN</td>\n",
              "      <td>EXTRA CADUN</td>\n",
              "      <td>1</td>\n",
              "      <td>1200.0</td>\n",
              "    </tr>\n",
              "    <tr>\n",
              "      <th>158</th>\n",
              "      <td>202005</td>\n",
              "      <td>BA</td>\n",
              "      <td>Irará</td>\n",
              "      <td>NaN</td>\n",
              "      <td>***628705**</td>\n",
              "      <td>LUCIANA DE JESUS BRITO CERQUEIRA</td>\n",
              "      <td>-2</td>\n",
              "      <td>NaN</td>\n",
              "      <td>NaN</td>\n",
              "      <td>EXTRA CADUN</td>\n",
              "      <td>1</td>\n",
              "      <td>1200.0</td>\n",
              "    </tr>\n",
              "    <tr>\n",
              "      <th>...</th>\n",
              "      <td>...</td>\n",
              "      <td>...</td>\n",
              "      <td>...</td>\n",
              "      <td>...</td>\n",
              "      <td>...</td>\n",
              "      <td>...</td>\n",
              "      <td>...</td>\n",
              "      <td>...</td>\n",
              "      <td>...</td>\n",
              "      <td>...</td>\n",
              "      <td>...</td>\n",
              "      <td>...</td>\n",
              "    </tr>\n",
              "    <tr>\n",
              "      <th>12056</th>\n",
              "      <td>202004</td>\n",
              "      <td>BA</td>\n",
              "      <td>Irará</td>\n",
              "      <td>1.656724e+10</td>\n",
              "      <td>***701675**</td>\n",
              "      <td>ZENILDA REGIS DOS SANTOS</td>\n",
              "      <td>16567237008</td>\n",
              "      <td>***701675**</td>\n",
              "      <td>ZENILDA REGIS DOS SANTOS</td>\n",
              "      <td>BOLSA FAMILIA</td>\n",
              "      <td>1</td>\n",
              "      <td>1200.0</td>\n",
              "    </tr>\n",
              "    <tr>\n",
              "      <th>12059</th>\n",
              "      <td>202004</td>\n",
              "      <td>BA</td>\n",
              "      <td>Irará</td>\n",
              "      <td>1.652899e+10</td>\n",
              "      <td>***774805**</td>\n",
              "      <td>ZENILDE DAS VIRGENS CERQUEIRA</td>\n",
              "      <td>16528988987</td>\n",
              "      <td>***774805**</td>\n",
              "      <td>ZENILDE DAS VIRGENS CERQUEIRA</td>\n",
              "      <td>BOLSA FAMILIA</td>\n",
              "      <td>1</td>\n",
              "      <td>1200.0</td>\n",
              "    </tr>\n",
              "    <tr>\n",
              "      <th>12063</th>\n",
              "      <td>202004</td>\n",
              "      <td>BA</td>\n",
              "      <td>Irará</td>\n",
              "      <td>1.653071e+10</td>\n",
              "      <td>***682475**</td>\n",
              "      <td>ZILDA PEREIRA DE SAO PEDRO</td>\n",
              "      <td>16530711202</td>\n",
              "      <td>***682475**</td>\n",
              "      <td>ZILDA PEREIRA DE SAO PEDRO</td>\n",
              "      <td>BOLSA FAMILIA</td>\n",
              "      <td>1</td>\n",
              "      <td>1200.0</td>\n",
              "    </tr>\n",
              "    <tr>\n",
              "      <th>12064</th>\n",
              "      <td>202004</td>\n",
              "      <td>BA</td>\n",
              "      <td>Irará</td>\n",
              "      <td>2.002311e+10</td>\n",
              "      <td>***373585**</td>\n",
              "      <td>ZILMA MORAES DE JESUS</td>\n",
              "      <td>20023106349</td>\n",
              "      <td>***373585**</td>\n",
              "      <td>ZILMA MORAES DE JESUS</td>\n",
              "      <td>BOLSA FAMILIA</td>\n",
              "      <td>1</td>\n",
              "      <td>1200.0</td>\n",
              "    </tr>\n",
              "    <tr>\n",
              "      <th>12071</th>\n",
              "      <td>202004</td>\n",
              "      <td>BA</td>\n",
              "      <td>Irará</td>\n",
              "      <td>2.004384e+10</td>\n",
              "      <td>***097145**</td>\n",
              "      <td>ZUMIRA PEREIRA BARRETO</td>\n",
              "      <td>20043837772</td>\n",
              "      <td>***097145**</td>\n",
              "      <td>ZUMIRA PEREIRA BARRETO</td>\n",
              "      <td>BOLSA FAMILIA</td>\n",
              "      <td>1</td>\n",
              "      <td>1200.0</td>\n",
              "    </tr>\n",
              "  </tbody>\n",
              "</table>\n",
              "<p>2097 rows × 12 columns</p>\n",
              "</div>"
            ],
            "text/plain": [
              "       ano_mes  uf municipio  ...  enquadramento parcela   valor\n",
              "19      202005  BA     Irará  ...    EXTRA CADUN       1  1200.0\n",
              "45      202005  BA     Irará  ...    EXTRA CADUN       1  1200.0\n",
              "61      202005  BA     Irará  ...    EXTRA CADUN       1  1200.0\n",
              "124     202005  BA     Irará  ...    EXTRA CADUN       1  1200.0\n",
              "158     202005  BA     Irará  ...    EXTRA CADUN       1  1200.0\n",
              "...        ...  ..       ...  ...            ...     ...     ...\n",
              "12056   202004  BA     Irará  ...  BOLSA FAMILIA       1  1200.0\n",
              "12059   202004  BA     Irará  ...  BOLSA FAMILIA       1  1200.0\n",
              "12063   202004  BA     Irará  ...  BOLSA FAMILIA       1  1200.0\n",
              "12064   202004  BA     Irará  ...  BOLSA FAMILIA       1  1200.0\n",
              "12071   202004  BA     Irará  ...  BOLSA FAMILIA       1  1200.0\n",
              "\n",
              "[2097 rows x 12 columns]"
            ]
          },
          "metadata": {
            "tags": []
          },
          "execution_count": 8
        }
      ]
    },
    {
      "cell_type": "markdown",
      "metadata": {
        "id": "WcX4O-YGPkFK",
        "colab_type": "text"
      },
      "source": [
        "DOS 12.072 BENEFICIÁRIOS DO AUXÍLIO EMERGENCIAL 2.097 RECEBERAM PARCELAS NO VALOR DE R$ 1.200,00 TOTALIZANDO CERCA DE 17% DOS BENEFICIÁRIOS TOTAIS."
      ]
    },
    {
      "cell_type": "code",
      "metadata": {
        "id": "MvA2x2SUPkFQ",
        "colab_type": "code",
        "outputId": "ec8fbc22-ddf2-488c-c6ea-2e5f8bdabcd7",
        "colab": {
          "base_uri": "https://localhost:8080/",
          "height": 69
        }
      },
      "source": [
        "# IDENTIFICAR VALOR DE BENEFÍCIOS MAIORES QUE R$ 1.200.00\n",
        "irara_auxilio[irara_auxilio['valor']>1200]"
      ],
      "execution_count": 0,
      "outputs": [
        {
          "output_type": "execute_result",
          "data": {
            "text/html": [
              "<div>\n",
              "<style scoped>\n",
              "    .dataframe tbody tr th:only-of-type {\n",
              "        vertical-align: middle;\n",
              "    }\n",
              "\n",
              "    .dataframe tbody tr th {\n",
              "        vertical-align: top;\n",
              "    }\n",
              "\n",
              "    .dataframe thead th {\n",
              "        text-align: right;\n",
              "    }\n",
              "</style>\n",
              "<table border=\"1\" class=\"dataframe\">\n",
              "  <thead>\n",
              "    <tr style=\"text-align: right;\">\n",
              "      <th></th>\n",
              "      <th>ano_mes</th>\n",
              "      <th>uf</th>\n",
              "      <th>municipio</th>\n",
              "      <th>nis_beneficiario</th>\n",
              "      <th>cpf_beneficiario</th>\n",
              "      <th>beneficiario</th>\n",
              "      <th>nis_responsavel</th>\n",
              "      <th>cpf_responsavel</th>\n",
              "      <th>responsavel</th>\n",
              "      <th>enquadramento</th>\n",
              "      <th>parcela</th>\n",
              "      <th>valor</th>\n",
              "    </tr>\n",
              "  </thead>\n",
              "  <tbody>\n",
              "  </tbody>\n",
              "</table>\n",
              "</div>"
            ],
            "text/plain": [
              "Empty DataFrame\n",
              "Columns: [ano_mes, uf, municipio, nis_beneficiario, cpf_beneficiario, beneficiario, nis_responsavel, cpf_responsavel, responsavel, enquadramento, parcela, valor]\n",
              "Index: []"
            ]
          },
          "metadata": {
            "tags": []
          },
          "execution_count": 9
        }
      ]
    },
    {
      "cell_type": "markdown",
      "metadata": {
        "id": "SgBhjdHaPkFk",
        "colab_type": "text"
      },
      "source": [
        "NÃO VEM INFORMANDO NOS DADOS AUXÍLIOS NO VALOR DE 1.800.00 PARA UM BENEFICIÁRIO POIS O PROCESSO É ADJUNTO DA SOMA DE 1.200.00 DAS MÃES SOLTEIROS E 600.00 DE SEUS RESPECTIVOS FILHOS TOTALIZANDO O VALOR MÁXIMO DE 1.800.00 "
      ]
    },
    {
      "cell_type": "code",
      "metadata": {
        "id": "VvECDODCPkFn",
        "colab_type": "code",
        "outputId": "a13a6f4e-7322-49f3-f3cb-183ba63c8e40",
        "colab": {
          "base_uri": "https://localhost:8080/",
          "height": 318
        }
      },
      "source": [
        "irara_auxilio['valor'].value_counts ().plot(kind='bar',color=['g','y'])\n",
        "plt.yticks([0,2097,9995])\n",
        "plt.xticks(rotation=45)\n",
        "plt.title('Beneficiários Auxilio Emergencial IRARÁ 1° Parcela')\n",
        "plt.ylabel('Beneficiários')\n",
        "plt.xlabel('Valor Recebido $')\n",
        "plt.show();"
      ],
      "execution_count": 0,
      "outputs": [
        {
          "output_type": "display_data",
          "data": {
            "image/png": "[encoded data removed]",
            "text/plain": [
              "<Figure size 432x288 with 1 Axes>"
            ]
          },
          "metadata": {
            "tags": [],
            "needs_background": "light"
          }
        }
      ]
    },
    {
      "cell_type": "code",
      "metadata": {
        "id": "ZdqL_R8SPkF4",
        "colab_type": "code",
        "outputId": "8bbd781c-395b-4776-ea4e-03a72034b3e7",
        "colab": {
          "base_uri": "https://localhost:8080/",
          "height": 69
        }
      },
      "source": [
        "# AQUI PARA PESQUISAR O NOME DE ALGUM BENEFICIÁRIO\n",
        "irara_auxilio[irara_auxilio['beneficiario']=='          ']"
      ],
      "execution_count": 0,
      "outputs": [
        {
          "output_type": "execute_result",
          "data": {
            "text/html": [
              "<div>\n",
              "<style scoped>\n",
              "    .dataframe tbody tr th:only-of-type {\n",
              "        vertical-align: middle;\n",
              "    }\n",
              "\n",
              "    .dataframe tbody tr th {\n",
              "        vertical-align: top;\n",
              "    }\n",
              "\n",
              "    .dataframe thead th {\n",
              "        text-align: right;\n",
              "    }\n",
              "</style>\n",
              "<table border=\"1\" class=\"dataframe\">\n",
              "  <thead>\n",
              "    <tr style=\"text-align: right;\">\n",
              "      <th></th>\n",
              "      <th>ano_mes</th>\n",
              "      <th>uf</th>\n",
              "      <th>municipio</th>\n",
              "      <th>nis_beneficiario</th>\n",
              "      <th>cpf_beneficiario</th>\n",
              "      <th>beneficiario</th>\n",
              "      <th>nis_responsavel</th>\n",
              "      <th>cpf_responsavel</th>\n",
              "      <th>responsavel</th>\n",
              "      <th>enquadramento</th>\n",
              "      <th>parcela</th>\n",
              "      <th>valor</th>\n",
              "    </tr>\n",
              "  </thead>\n",
              "  <tbody>\n",
              "  </tbody>\n",
              "</table>\n",
              "</div>"
            ],
            "text/plain": [
              "Empty DataFrame\n",
              "Columns: [ano_mes, uf, municipio, nis_beneficiario, cpf_beneficiario, beneficiario, nis_responsavel, cpf_responsavel, responsavel, enquadramento, parcela, valor]\n",
              "Index: []"
            ]
          },
          "metadata": {
            "tags": []
          },
          "execution_count": 11
        }
      ]
    },
    {
      "cell_type": "code",
      "metadata": {
        "id": "t3ApZs99PkGJ",
        "colab_type": "code",
        "colab": {}
      },
      "source": [
        "# CATEGORIZANDO A RESPOSTA DA OPERAÇÃO DE SELECIONAR A COLUNA ENQUADRAMENTO E PEGAR SEUS RESPECTIVOS VALORES \n",
        "# ATRIBUINDO O RESULTADO A VARIÁVEL irara_enquadramento \n",
        "irara_enquadramento=irara_auxilio['enquadramento'].value_counts ().to_frame ().reset_index ()"
      ],
      "execution_count": 0,
      "outputs": []
    },
    {
      "cell_type": "code",
      "metadata": {
        "scrolled": true,
        "id": "tm3P1C1WPkGZ",
        "colab_type": "code",
        "outputId": "0cb4f99b-56e9-47b7-c45f-e6bcd6ff97b6",
        "colab": {
          "base_uri": "https://localhost:8080/",
          "height": 142
        }
      },
      "source": [
        "# CHAMANDO A VARIÁVEL irara_enquadramento \n",
        "irara_enquadramento"
      ],
      "execution_count": 0,
      "outputs": [
        {
          "output_type": "execute_result",
          "data": {
            "text/html": [
              "<div>\n",
              "<style scoped>\n",
              "    .dataframe tbody tr th:only-of-type {\n",
              "        vertical-align: middle;\n",
              "    }\n",
              "\n",
              "    .dataframe tbody tr th {\n",
              "        vertical-align: top;\n",
              "    }\n",
              "\n",
              "    .dataframe thead th {\n",
              "        text-align: right;\n",
              "    }\n",
              "</style>\n",
              "<table border=\"1\" class=\"dataframe\">\n",
              "  <thead>\n",
              "    <tr style=\"text-align: right;\">\n",
              "      <th></th>\n",
              "      <th>index</th>\n",
              "      <th>enquadramento</th>\n",
              "    </tr>\n",
              "  </thead>\n",
              "  <tbody>\n",
              "    <tr>\n",
              "      <th>0</th>\n",
              "      <td>BOLSA FAMILIA</td>\n",
              "      <td>9155</td>\n",
              "    </tr>\n",
              "    <tr>\n",
              "      <th>1</th>\n",
              "      <td>EXTRA CADUN</td>\n",
              "      <td>1645</td>\n",
              "    </tr>\n",
              "    <tr>\n",
              "      <th>2</th>\n",
              "      <td>CADUN NAO BOLSA</td>\n",
              "      <td>1272</td>\n",
              "    </tr>\n",
              "  </tbody>\n",
              "</table>\n",
              "</div>"
            ],
            "text/plain": [
              "             index  enquadramento\n",
              "0    BOLSA FAMILIA           9155\n",
              "1      EXTRA CADUN           1645\n",
              "2  CADUN NAO BOLSA           1272"
            ]
          },
          "metadata": {
            "tags": []
          },
          "execution_count": 13
        }
      ]
    },
    {
      "cell_type": "code",
      "metadata": {
        "id": "vA4zlQwkPkGs",
        "colab_type": "code",
        "colab": {}
      },
      "source": [
        "# ATRIBUINDO A VARIÁVEL X e Y PARA COMPOR O GRÁFICO POR CATEGORIAS DE ENQUADRAMENTO \n",
        "x=irara_enquadramento['index']\n",
        "y=irara_enquadramento['enquadramento']"
      ],
      "execution_count": 0,
      "outputs": []
    },
    {
      "cell_type": "code",
      "metadata": {
        "id": "DC_8kbVKQBFu",
        "colab_type": "code",
        "colab": {}
      },
      "source": [
        " \n",
        "# DEFININDO RENDERIZADOR DE IMAGEN GRÁFICA COMO COLAB \n",
        "import plotly.io as pio\n",
        "pio.renderers\n",
        "pio.renderers.default=\"colab\""
      ],
      "execution_count": 0,
      "outputs": []
    },
    {
      "cell_type": "code",
      "metadata": {
        "id": "ncMLv-w6PkG7",
        "colab_type": "code",
        "outputId": "89c10828-969e-4c7d-deb1-66056b6366f4",
        "colab": {
          "base_uri": "https://localhost:8080/",
          "height": 542
        }
      },
      "source": [
        "# ALIMENTANDO O GRÁFICOS COM AS INFORMAÇÕES  DE X e Y ENUNCIADOS A CIMA\n",
        "enquadramento=go.Bar(x=x,\n",
        "                     y=y,\n",
        "                     text=y,textposition='auto')\n",
        "data=[enquadramento]\n",
        " \n",
        "layout = go.Layout(title='Beneficiários Auxilio emergencial IRARÁ 1° Parcela',\n",
        "                   yaxis={'title':'Números de Beneficiários'},\n",
        "                   xaxis={'title': 'Categoria de Enquadramento'})\n",
        "# Criando figura que será exibida\n",
        "fig = go.Figure(data=data, layout=layout)\n",
        " \n",
        "py.iplot(fig)"
      ],
      "execution_count": 0,
      "outputs": [
        {
          "output_type": "display_data",
          "data": {
            "text/html": [
              "<html>\n",
              "<head><meta charset=\"utf-8\" /></head>\n",
              "<body>\n",
              "    <div>\n",
              "            <script src=\"https://cdnjs.cloudflare.com/ajax/libs/mathjax/2.7.5/MathJax.js?config=TeX-AMS-MML_SVG\"></script><script type=\"text/javascript\">if (window.MathJax) {MathJax.Hub.Config({SVG: {font: \"STIX-Web\"}});}</script>\n",
              "                <script type=\"text/javascript\">window.PlotlyConfig = {MathJaxConfig: 'local'};</script>\n",
              "        <script src=\"https://cdn.plot.ly/plotly-latest.min.js\"></script>    \n",
              "            <div id=\"1079b05c-2ccb-4040-ba25-80443d522ae8\" class=\"plotly-graph-div\" style=\"height:525px; width:100%;\"></div>\n",
              "            <script type=\"text/javascript\">\n",
              "                \n",
              "                    window.PLOTLYENV=window.PLOTLYENV || {};\n",
              "                    \n",
              "                if (document.getElementById(\"1079b05c-2ccb-4040-ba25-80443d522ae8\")) {\n",
              "                    Plotly.newPlot(\n",
              "                        '1079b05c-2ccb-4040-ba25-80443d522ae8',\n",
              "                        [{\"text\": [9155.0, 1645.0, 1272.0], \"textposition\": \"auto\", \"type\": \"bar\", \"x\": [\"BOLSA FAMILIA\", \"EXTRA CADUN\", \"CADUN NAO BOLSA\"], \"y\": [9155, 1645, 1272]}],\n",
              "                        {\"template\": {\"data\": {\"bar\": [{\"error_x\": {\"color\": \"#2a3f5f\"}, \"error_y\": {\"color\": \"#2a3f5f\"}, \"marker\": {\"line\": {\"color\": \"#E5ECF6\", \"width\": 0.5}}, \"type\": \"bar\"}], \"barpolar\": [{\"marker\": {\"line\": {\"color\": \"#E5ECF6\", \"width\": 0.5}}, \"type\": \"barpolar\"}], \"carpet\": [{\"aaxis\": {\"endlinecolor\": \"#2a3f5f\", \"gridcolor\": \"white\", \"linecolor\": \"white\", \"minorgridcolor\": \"white\", \"startlinecolor\": \"#2a3f5f\"}, \"baxis\": {\"endlinecolor\": \"#2a3f5f\", \"gridcolor\": \"white\", \"linecolor\": \"white\", \"minorgridcolor\": \"white\", \"startlinecolor\": \"#2a3f5f\"}, \"type\": \"carpet\"}], \"choropleth\": [{\"colorbar\": {\"outlinewidth\": 0, \"ticks\": \"\"}, \"type\": \"choropleth\"}], \"contour\": [{\"colorbar\": {\"outlinewidth\": 0, \"ticks\": \"\"}, \"colorscale\": [[0.0, \"#0d0887\"], [0.1111111111111111, \"#46039f\"], [0.2222222222222222, \"#7201a8\"], [0.3333333333333333, \"#9c179e\"], [0.4444444444444444, \"#bd3786\"], [0.5555555555555556, \"#d8576b\"], [0.6666666666666666, \"#ed7953\"], [0.7777777777777778, \"#fb9f3a\"], [0.8888888888888888, \"#fdca26\"], [1.0, \"#f0f921\"]], \"type\": \"contour\"}], \"contourcarpet\": [{\"colorbar\": {\"outlinewidth\": 0, \"ticks\": \"\"}, \"type\": \"contourcarpet\"}], \"heatmap\": [{\"colorbar\": {\"outlinewidth\": 0, \"ticks\": \"\"}, \"colorscale\": [[0.0, \"#0d0887\"], [0.1111111111111111, \"#46039f\"], [0.2222222222222222, \"#7201a8\"], [0.3333333333333333, \"#9c179e\"], [0.4444444444444444, \"#bd3786\"], [0.5555555555555556, \"#d8576b\"], [0.6666666666666666, \"#ed7953\"], [0.7777777777777778, \"#fb9f3a\"], [0.8888888888888888, \"#fdca26\"], [1.0, \"#f0f921\"]], \"type\": \"heatmap\"}], \"heatmapgl\": [{\"colorbar\": {\"outlinewidth\": 0, \"ticks\": \"\"}, \"colorscale\": [[0.0, \"#0d0887\"], [0.1111111111111111, \"#46039f\"], [0.2222222222222222, \"#7201a8\"], [0.3333333333333333, \"#9c179e\"], [0.4444444444444444, \"#bd3786\"], [0.5555555555555556, \"#d8576b\"], [0.6666666666666666, \"#ed7953\"], [0.7777777777777778, \"#fb9f3a\"], [0.8888888888888888, \"#fdca26\"], [1.0, \"#f0f921\"]], \"type\": \"heatmapgl\"}], \"histogram\": [{\"marker\": {\"colorbar\": {\"outlinewidth\": 0, \"ticks\": \"\"}}, \"type\": \"histogram\"}], \"histogram2d\": [{\"colorbar\": {\"outlinewidth\": 0, \"ticks\": \"\"}, \"colorscale\": [[0.0, \"#0d0887\"], [0.1111111111111111, \"#46039f\"], [0.2222222222222222, \"#7201a8\"], [0.3333333333333333, \"#9c179e\"], [0.4444444444444444, \"#bd3786\"], [0.5555555555555556, \"#d8576b\"], [0.6666666666666666, \"#ed7953\"], [0.7777777777777778, \"#fb9f3a\"], [0.8888888888888888, \"#fdca26\"], [1.0, \"#f0f921\"]], \"type\": \"histogram2d\"}], \"histogram2dcontour\": [{\"colorbar\": {\"outlinewidth\": 0, \"ticks\": \"\"}, \"colorscale\": [[0.0, \"#0d0887\"], [0.1111111111111111, \"#46039f\"], [0.2222222222222222, \"#7201a8\"], [0.3333333333333333, \"#9c179e\"], [0.4444444444444444, \"#bd3786\"], [0.5555555555555556, \"#d8576b\"], [0.6666666666666666, \"#ed7953\"], [0.7777777777777778, \"#fb9f3a\"], [0.8888888888888888, \"#fdca26\"], [1.0, \"#f0f921\"]], \"type\": \"histogram2dcontour\"}], \"mesh3d\": [{\"colorbar\": {\"outlinewidth\": 0, \"ticks\": \"\"}, \"type\": \"mesh3d\"}], \"parcoords\": [{\"line\": {\"colorbar\": {\"outlinewidth\": 0, \"ticks\": \"\"}}, \"type\": \"parcoords\"}], \"pie\": [{\"automargin\": true, \"type\": \"pie\"}], \"scatter\": [{\"marker\": {\"colorbar\": {\"outlinewidth\": 0, \"ticks\": \"\"}}, \"type\": \"scatter\"}], \"scatter3d\": [{\"line\": {\"colorbar\": {\"outlinewidth\": 0, \"ticks\": \"\"}}, \"marker\": {\"colorbar\": {\"outlinewidth\": 0, \"ticks\": \"\"}}, \"type\": \"scatter3d\"}], \"scattercarpet\": [{\"marker\": {\"colorbar\": {\"outlinewidth\": 0, \"ticks\": \"\"}}, \"type\": \"scattercarpet\"}], \"scattergeo\": [{\"marker\": {\"colorbar\": {\"outlinewidth\": 0, \"ticks\": \"\"}}, \"type\": \"scattergeo\"}], \"scattergl\": [{\"marker\": {\"colorbar\": {\"outlinewidth\": 0, \"ticks\": \"\"}}, \"type\": \"scattergl\"}], \"scattermapbox\": [{\"marker\": {\"colorbar\": {\"outlinewidth\": 0, \"ticks\": \"\"}}, \"type\": \"scattermapbox\"}], \"scatterpolar\": [{\"marker\": {\"colorbar\": {\"outlinewidth\": 0, \"ticks\": \"\"}}, \"type\": \"scatterpolar\"}], \"scatterpolargl\": [{\"marker\": {\"colorbar\": {\"outlinewidth\": 0, \"ticks\": \"\"}}, \"type\": \"scatterpolargl\"}], \"scatterternary\": [{\"marker\": {\"colorbar\": {\"outlinewidth\": 0, \"ticks\": \"\"}}, \"type\": \"scatterternary\"}], \"surface\": [{\"colorbar\": {\"outlinewidth\": 0, \"ticks\": \"\"}, \"colorscale\": [[0.0, \"#0d0887\"], [0.1111111111111111, \"#46039f\"], [0.2222222222222222, \"#7201a8\"], [0.3333333333333333, \"#9c179e\"], [0.4444444444444444, \"#bd3786\"], [0.5555555555555556, \"#d8576b\"], [0.6666666666666666, \"#ed7953\"], [0.7777777777777778, \"#fb9f3a\"], [0.8888888888888888, \"#fdca26\"], [1.0, \"#f0f921\"]], \"type\": \"surface\"}], \"table\": [{\"cells\": {\"fill\": {\"color\": \"#EBF0F8\"}, \"line\": {\"color\": \"white\"}}, \"header\": {\"fill\": {\"color\": \"#C8D4E3\"}, \"line\": {\"color\": \"white\"}}, \"type\": \"table\"}]}, \"layout\": {\"annotationdefaults\": {\"arrowcolor\": \"#2a3f5f\", \"arrowhead\": 0, \"arrowwidth\": 1}, \"coloraxis\": {\"colorbar\": {\"outlinewidth\": 0, \"ticks\": \"\"}}, \"colorscale\": {\"diverging\": [[0, \"#8e0152\"], [0.1, \"#c51b7d\"], [0.2, \"#de77ae\"], [0.3, \"#f1b6da\"], [0.4, \"#fde0ef\"], [0.5, \"#f7f7f7\"], [0.6, \"#e6f5d0\"], [0.7, \"#b8e186\"], [0.8, \"#7fbc41\"], [0.9, \"#4d9221\"], [1, \"#276419\"]], \"sequential\": [[0.0, \"#0d0887\"], [0.1111111111111111, \"#46039f\"], [0.2222222222222222, \"#7201a8\"], [0.3333333333333333, \"#9c179e\"], [0.4444444444444444, \"#bd3786\"], [0.5555555555555556, \"#d8576b\"], [0.6666666666666666, \"#ed7953\"], [0.7777777777777778, \"#fb9f3a\"], [0.8888888888888888, \"#fdca26\"], [1.0, \"#f0f921\"]], \"sequentialminus\": [[0.0, \"#0d0887\"], [0.1111111111111111, \"#46039f\"], [0.2222222222222222, \"#7201a8\"], [0.3333333333333333, \"#9c179e\"], [0.4444444444444444, \"#bd3786\"], [0.5555555555555556, \"#d8576b\"], [0.6666666666666666, \"#ed7953\"], [0.7777777777777778, \"#fb9f3a\"], [0.8888888888888888, \"#fdca26\"], [1.0, \"#f0f921\"]]}, \"colorway\": [\"#636efa\", \"#EF553B\", \"#00cc96\", \"#ab63fa\", \"#FFA15A\", \"#19d3f3\", \"#FF6692\", \"#B6E880\", \"#FF97FF\", \"#FECB52\"], \"font\": {\"color\": \"#2a3f5f\"}, \"geo\": {\"bgcolor\": \"white\", \"lakecolor\": \"white\", \"landcolor\": \"#E5ECF6\", \"showlakes\": true, \"showland\": true, \"subunitcolor\": \"white\"}, \"hoverlabel\": {\"align\": \"left\"}, \"hovermode\": \"closest\", \"mapbox\": {\"style\": \"light\"}, \"paper_bgcolor\": \"white\", \"plot_bgcolor\": \"#E5ECF6\", \"polar\": {\"angularaxis\": {\"gridcolor\": \"white\", \"linecolor\": \"white\", \"ticks\": \"\"}, \"bgcolor\": \"#E5ECF6\", \"radialaxis\": {\"gridcolor\": \"white\", \"linecolor\": \"white\", \"ticks\": \"\"}}, \"scene\": {\"xaxis\": {\"backgroundcolor\": \"#E5ECF6\", \"gridcolor\": \"white\", \"gridwidth\": 2, \"linecolor\": \"white\", \"showbackground\": true, \"ticks\": \"\", \"zerolinecolor\": \"white\"}, \"yaxis\": {\"backgroundcolor\": \"#E5ECF6\", \"gridcolor\": \"white\", \"gridwidth\": 2, \"linecolor\": \"white\", \"showbackground\": true, \"ticks\": \"\", \"zerolinecolor\": \"white\"}, \"zaxis\": {\"backgroundcolor\": \"#E5ECF6\", \"gridcolor\": \"white\", \"gridwidth\": 2, \"linecolor\": \"white\", \"showbackground\": true, \"ticks\": \"\", \"zerolinecolor\": \"white\"}}, \"shapedefaults\": {\"line\": {\"color\": \"#2a3f5f\"}}, \"ternary\": {\"aaxis\": {\"gridcolor\": \"white\", \"linecolor\": \"white\", \"ticks\": \"\"}, \"baxis\": {\"gridcolor\": \"white\", \"linecolor\": \"white\", \"ticks\": \"\"}, \"bgcolor\": \"#E5ECF6\", \"caxis\": {\"gridcolor\": \"white\", \"linecolor\": \"white\", \"ticks\": \"\"}}, \"title\": {\"x\": 0.05}, \"xaxis\": {\"automargin\": true, \"gridcolor\": \"white\", \"linecolor\": \"white\", \"ticks\": \"\", \"title\": {\"standoff\": 15}, \"zerolinecolor\": \"white\", \"zerolinewidth\": 2}, \"yaxis\": {\"automargin\": true, \"gridcolor\": \"white\", \"linecolor\": \"white\", \"ticks\": \"\", \"title\": {\"standoff\": 15}, \"zerolinecolor\": \"white\", \"zerolinewidth\": 2}}}, \"title\": {\"text\": \"Benefici\\u00e1rios Auxilio emergencial IRAR\\u00c1 1\\u00b0 Parcela\"}, \"xaxis\": {\"title\": {\"text\": \"Categoria de Enquadramento\"}}, \"yaxis\": {\"title\": {\"text\": \"N\\u00fameros de Benefici\\u00e1rios\"}}},\n",
              "                        {\"responsive\": true}\n",
              "                    ).then(function(){\n",
              "                            \n",
              "var gd = document.getElementById('1079b05c-2ccb-4040-ba25-80443d522ae8');\n",
              "var x = new MutationObserver(function (mutations, observer) {{\n",
              "        var display = window.getComputedStyle(gd).display;\n",
              "        if (!display || display === 'none') {{\n",
              "            console.log([gd, 'removed!']);\n",
              "            Plotly.purge(gd);\n",
              "            observer.disconnect();\n",
              "        }}\n",
              "}});\n",
              "\n",
              "// Listen for the removal of the full notebook cells\n",
              "var notebookContainer = gd.closest('#notebook-container');\n",
              "if (notebookContainer) {{\n",
              "    x.observe(notebookContainer, {childList: true});\n",
              "}}\n",
              "\n",
              "// Listen for the clearing of the current output cell\n",
              "var outputEl = gd.closest('.output');\n",
              "if (outputEl) {{\n",
              "    x.observe(outputEl, {childList: true});\n",
              "}}\n",
              "\n",
              "                        })\n",
              "                };\n",
              "                \n",
              "            </script>\n",
              "        </div>\n",
              "</body>\n",
              "</html>"
            ]
          },
          "metadata": {
            "tags": []
          }
        }
      ]
    },
    {
      "cell_type": "code",
      "metadata": {
        "id": "Fev6z4bGPkHK",
        "colab_type": "code",
        "colab": {}
      },
      "source": [
        "# 1°PARCELA-IRARÁ AUXÍLIO EMERGENCIAL! DOS 12.072 APROVADOS 9.155 SÃO BENEFICIÁRIOS DO BOLSA FAMÍLIA \n",
        "# 1.645 SÃO BENEFICIÁRIOS DO EXTRA CADASTRO ÚNICO \n",
        "# 1.272 SÃO BENEFICIÁRIOS DO CADASTRO ÚNICO NÃO BOLSA FAMÍLIA"
      ],
      "execution_count": 0,
      "outputs": []
    }
  ]
}