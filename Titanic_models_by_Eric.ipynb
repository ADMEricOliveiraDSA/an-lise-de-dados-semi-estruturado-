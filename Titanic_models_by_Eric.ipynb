{
  "nbformat": 4,
  "nbformat_minor": 0,
  "metadata": {
    "colab": {
      "name": "Titanic.models.by.Eric",
      "provenance": [],
      "collapsed_sections": [],
      "mount_file_id": "1W5CMFYVAJxTTGefFT71raFrh533nlDlV",
      "authorship_tag": "ABX9TyNK9eMNvUzZLhD+hobcJYIQ",
      "include_colab_link": true
    },
    "kernelspec": {
      "name": "python3",
      "display_name": "Python 3"
    }
  },
  "cells": [
    {
      "cell_type": "markdown",
      "metadata": {
        "id": "view-in-github",
        "colab_type": "text"
      },
      "source": [
        "<a href=\"https://colab.research.google.com/github/EricOliveira17/analise-de-dados-semi-estruturados-/blob/master/Titanic_models_by_Eric.ipynb\" target=\"_parent\"><img src=\"https://colab.research.google.com/assets/colab-badge.svg\" alt=\"Open In Colab\"/></a>"
      ]
    },
    {
      "cell_type": "markdown",
      "metadata": {
        "id": "U3UYaxZj1rwQ",
        "colab_type": "text"
      },
      "source": [
        "By - Eric Oliveira  \"Estudos📚🔬🔍\""
      ]
    },
    {
      "cell_type": "code",
      "metadata": {
        "id": "QZl8ciglFUqt",
        "colab_type": "code",
        "colab": {
          "base_uri": "https://localhost:8080/",
          "height": 71
        },
        "outputId": "07a34707-b9c0-4f15-dc4f-2edf7f3d5e96"
      },
      "source": [
        "# importando bibliotecas para analises\n",
        "import pandas            as pd \n",
        "import numpy             as np\n",
        "import matplotlib.pyplot as plt\n",
        "import seaborn           as sns"
      ],
      "execution_count": 1,
      "outputs": [
        {
          "output_type": "stream",
          "text": [
            "/usr/local/lib/python3.6/dist-packages/statsmodels/tools/_testing.py:19: FutureWarning: pandas.util.testing is deprecated. Use the functions in the public API at pandas.testing instead.\n",
            "  import pandas.util.testing as tm\n"
          ],
          "name": "stderr"
        }
      ]
    },
    {
      "cell_type": "code",
      "metadata": {
        "id": "UK-UhY9xFu4Z",
        "colab_type": "code",
        "colab": {}
      },
      "source": [
        "# Carregando o dataset através da biblioteca seaborn \n",
        "titanic = sns.load_dataset('titanic')"
      ],
      "execution_count": 2,
      "outputs": []
    },
    {
      "cell_type": "code",
      "metadata": {
        "id": "Uz3IQtw4F1mf",
        "colab_type": "code",
        "colab": {
          "base_uri": "https://localhost:8080/",
          "height": 224
        },
        "outputId": "9ff165c1-fe43-4123-a8be-5781023c71ed"
      },
      "source": [
        " \n",
        "# Visualizando primeiras linhas do conjunto de dados \n",
        "titanic.head ()"
      ],
      "execution_count": 3,
      "outputs": [
        {
          "output_type": "execute_result",
          "data": {
            "text/html": [
              "<div>\n",
              "<style scoped>\n",
              "    .dataframe tbody tr th:only-of-type {\n",
              "        vertical-align: middle;\n",
              "    }\n",
              "\n",
              "    .dataframe tbody tr th {\n",
              "        vertical-align: top;\n",
              "    }\n",
              "\n",
              "    .dataframe thead th {\n",
              "        text-align: right;\n",
              "    }\n",
              "</style>\n",
              "<table border=\"1\" class=\"dataframe\">\n",
              "  <thead>\n",
              "    <tr style=\"text-align: right;\">\n",
              "      <th></th>\n",
              "      <th>survived</th>\n",
              "      <th>pclass</th>\n",
              "      <th>sex</th>\n",
              "      <th>age</th>\n",
              "      <th>sibsp</th>\n",
              "      <th>parch</th>\n",
              "      <th>fare</th>\n",
              "      <th>embarked</th>\n",
              "      <th>class</th>\n",
              "      <th>who</th>\n",
              "      <th>adult_male</th>\n",
              "      <th>deck</th>\n",
              "      <th>embark_town</th>\n",
              "      <th>alive</th>\n",
              "      <th>alone</th>\n",
              "    </tr>\n",
              "  </thead>\n",
              "  <tbody>\n",
              "    <tr>\n",
              "      <th>0</th>\n",
              "      <td>0</td>\n",
              "      <td>3</td>\n",
              "      <td>male</td>\n",
              "      <td>22.0</td>\n",
              "      <td>1</td>\n",
              "      <td>0</td>\n",
              "      <td>7.2500</td>\n",
              "      <td>S</td>\n",
              "      <td>Third</td>\n",
              "      <td>man</td>\n",
              "      <td>True</td>\n",
              "      <td>NaN</td>\n",
              "      <td>Southampton</td>\n",
              "      <td>no</td>\n",
              "      <td>False</td>\n",
              "    </tr>\n",
              "    <tr>\n",
              "      <th>1</th>\n",
              "      <td>1</td>\n",
              "      <td>1</td>\n",
              "      <td>female</td>\n",
              "      <td>38.0</td>\n",
              "      <td>1</td>\n",
              "      <td>0</td>\n",
              "      <td>71.2833</td>\n",
              "      <td>C</td>\n",
              "      <td>First</td>\n",
              "      <td>woman</td>\n",
              "      <td>False</td>\n",
              "      <td>C</td>\n",
              "      <td>Cherbourg</td>\n",
              "      <td>yes</td>\n",
              "      <td>False</td>\n",
              "    </tr>\n",
              "    <tr>\n",
              "      <th>2</th>\n",
              "      <td>1</td>\n",
              "      <td>3</td>\n",
              "      <td>female</td>\n",
              "      <td>26.0</td>\n",
              "      <td>0</td>\n",
              "      <td>0</td>\n",
              "      <td>7.9250</td>\n",
              "      <td>S</td>\n",
              "      <td>Third</td>\n",
              "      <td>woman</td>\n",
              "      <td>False</td>\n",
              "      <td>NaN</td>\n",
              "      <td>Southampton</td>\n",
              "      <td>yes</td>\n",
              "      <td>True</td>\n",
              "    </tr>\n",
              "    <tr>\n",
              "      <th>3</th>\n",
              "      <td>1</td>\n",
              "      <td>1</td>\n",
              "      <td>female</td>\n",
              "      <td>35.0</td>\n",
              "      <td>1</td>\n",
              "      <td>0</td>\n",
              "      <td>53.1000</td>\n",
              "      <td>S</td>\n",
              "      <td>First</td>\n",
              "      <td>woman</td>\n",
              "      <td>False</td>\n",
              "      <td>C</td>\n",
              "      <td>Southampton</td>\n",
              "      <td>yes</td>\n",
              "      <td>False</td>\n",
              "    </tr>\n",
              "    <tr>\n",
              "      <th>4</th>\n",
              "      <td>0</td>\n",
              "      <td>3</td>\n",
              "      <td>male</td>\n",
              "      <td>35.0</td>\n",
              "      <td>0</td>\n",
              "      <td>0</td>\n",
              "      <td>8.0500</td>\n",
              "      <td>S</td>\n",
              "      <td>Third</td>\n",
              "      <td>man</td>\n",
              "      <td>True</td>\n",
              "      <td>NaN</td>\n",
              "      <td>Southampton</td>\n",
              "      <td>no</td>\n",
              "      <td>True</td>\n",
              "    </tr>\n",
              "  </tbody>\n",
              "</table>\n",
              "</div>"
            ],
            "text/plain": [
              "   survived  pclass     sex   age  ...  deck  embark_town  alive  alone\n",
              "0         0       3    male  22.0  ...   NaN  Southampton     no  False\n",
              "1         1       1  female  38.0  ...     C    Cherbourg    yes  False\n",
              "2         1       3  female  26.0  ...   NaN  Southampton    yes   True\n",
              "3         1       1  female  35.0  ...     C  Southampton    yes  False\n",
              "4         0       3    male  35.0  ...   NaN  Southampton     no   True\n",
              "\n",
              "[5 rows x 15 columns]"
            ]
          },
          "metadata": {
            "tags": []
          },
          "execution_count": 3
        }
      ]
    },
    {
      "cell_type": "code",
      "metadata": {
        "id": "ZisYXeKrUuto",
        "colab_type": "code",
        "colab": {
          "base_uri": "https://localhost:8080/",
          "height": 68
        },
        "outputId": "7792ba31-a99c-48ba-badb-7282b7fdebf9"
      },
      "source": [
        " \n",
        "#Visualizando distribuição de pessoas por sexo entre os integrantes abordo \n",
        "titanic.sex.value_counts ()"
      ],
      "execution_count": 4,
      "outputs": [
        {
          "output_type": "execute_result",
          "data": {
            "text/plain": [
              "male      577\n",
              "female    314\n",
              "Name: sex, dtype: int64"
            ]
          },
          "metadata": {
            "tags": []
          },
          "execution_count": 4
        }
      ]
    },
    {
      "cell_type": "code",
      "metadata": {
        "id": "mP5rUd2BSW_C",
        "colab_type": "code",
        "colab": {}
      },
      "source": [
        "# Criando função para transformar os valores de sexo que estão como objetos \n",
        "# Para números inteiros onde o número 1 representa \"mulheres\" e o número 0 \"homens\"\n",
        "def sexo_binario (valor):\n",
        "   if valor == \"female\":\n",
        "     return 1\n",
        "   else:\n",
        "     return 0\n",
        " \n",
        "titanic[\"sexo_numerico\"] = titanic[\"sex\"].map(sexo_binario)"
      ],
      "execution_count": 5,
      "outputs": []
    },
    {
      "cell_type": "code",
      "metadata": {
        "id": "g_su3PK4Y1Qv",
        "colab_type": "code",
        "colab": {
          "base_uri": "https://localhost:8080/",
          "height": 88
        },
        "outputId": "aa3a73bf-bfa0-45dd-b7ea-61223ec2548f"
      },
      "source": [
        "# Visualizando distribuição de pessoas por sexo entre os integrantes abordo\n",
        "# Agora com sexo em formato númerico \n",
        "titanic.sexo_numerico.value_counts ()"
      ],
      "execution_count": 6,
      "outputs": [
        {
          "output_type": "execute_result",
          "data": {
            "text/plain": [
              "0    577\n",
              "1    314\n",
              "Name: sexo_numerico, dtype: int64"
            ]
          },
          "metadata": {
            "tags": []
          },
          "execution_count": 6
        }
      ]
    },
    {
      "cell_type": "code",
      "metadata": {
        "id": "Q7SZHpqHlgk6",
        "colab_type": "code",
        "colab": {}
      },
      "source": [
        " \n",
        "# transformando coluna \"idade\" de valor flutuante para valor inteiro\n",
        "titanic[\"age\"] = titanic[\"age\"].fillna(0).astype(int)"
      ],
      "execution_count": 7,
      "outputs": []
    },
    {
      "cell_type": "code",
      "metadata": {
        "id": "Qp7RpKgYtUFu",
        "colab_type": "code",
        "colab": {}
      },
      "source": [
        "#transformando coluna \"custo de embarque\" de valor flutuante para valor inteiro\n",
        "titanic[\"fare\"] = titanic[\"fare\"].astype(int)"
      ],
      "execution_count": 8,
      "outputs": []
    },
    {
      "cell_type": "code",
      "metadata": {
        "id": "4J7rn4o6R6QR",
        "colab_type": "code",
        "colab": {
          "base_uri": "https://localhost:8080/",
          "height": 428
        },
        "outputId": "70d30042-dd01-4300-e2ae-fdd22d704623"
      },
      "source": [
        " \n",
        "# Visualizando informações de todas as colunas \n",
        "titanic.info ()"
      ],
      "execution_count": 9,
      "outputs": [
        {
          "output_type": "stream",
          "text": [
            "<class 'pandas.core.frame.DataFrame'>\n",
            "RangeIndex: 891 entries, 0 to 890\n",
            "Data columns (total 16 columns):\n",
            " #   Column         Non-Null Count  Dtype   \n",
            "---  ------         --------------  -----   \n",
            " 0   survived       891 non-null    int64   \n",
            " 1   pclass         891 non-null    int64   \n",
            " 2   sex            891 non-null    object  \n",
            " 3   age            891 non-null    int64   \n",
            " 4   sibsp          891 non-null    int64   \n",
            " 5   parch          891 non-null    int64   \n",
            " 6   fare           891 non-null    int64   \n",
            " 7   embarked       889 non-null    object  \n",
            " 8   class          891 non-null    category\n",
            " 9   who            891 non-null    object  \n",
            " 10  adult_male     891 non-null    bool    \n",
            " 11  deck           203 non-null    category\n",
            " 12  embark_town    889 non-null    object  \n",
            " 13  alive          891 non-null    object  \n",
            " 14  alone          891 non-null    bool    \n",
            " 15  sexo_numerico  891 non-null    int64   \n",
            "dtypes: bool(2), category(2), int64(7), object(5)\n",
            "memory usage: 87.6+ KB\n"
          ],
          "name": "stdout"
        }
      ]
    },
    {
      "cell_type": "code",
      "metadata": {
        "id": "2E599mN-GnFR",
        "colab_type": "code",
        "colab": {
          "base_uri": "https://localhost:8080/",
          "height": 317
        },
        "outputId": "dce64b6c-c5a7-4c94-f0df-a304959c1eb0"
      },
      "source": [
        "# Visualizando valores descritivos \n",
        "titanic.describe ()"
      ],
      "execution_count": 10,
      "outputs": [
        {
          "output_type": "execute_result",
          "data": {
            "text/html": [
              "<div>\n",
              "<style scoped>\n",
              "    .dataframe tbody tr th:only-of-type {\n",
              "        vertical-align: middle;\n",
              "    }\n",
              "\n",
              "    .dataframe tbody tr th {\n",
              "        vertical-align: top;\n",
              "    }\n",
              "\n",
              "    .dataframe thead th {\n",
              "        text-align: right;\n",
              "    }\n",
              "</style>\n",
              "<table border=\"1\" class=\"dataframe\">\n",
              "  <thead>\n",
              "    <tr style=\"text-align: right;\">\n",
              "      <th></th>\n",
              "      <th>survived</th>\n",
              "      <th>pclass</th>\n",
              "      <th>age</th>\n",
              "      <th>sibsp</th>\n",
              "      <th>parch</th>\n",
              "      <th>fare</th>\n",
              "      <th>sexo_numerico</th>\n",
              "    </tr>\n",
              "  </thead>\n",
              "  <tbody>\n",
              "    <tr>\n",
              "      <th>count</th>\n",
              "      <td>891.000000</td>\n",
              "      <td>891.000000</td>\n",
              "      <td>891.000000</td>\n",
              "      <td>891.000000</td>\n",
              "      <td>891.000000</td>\n",
              "      <td>891.000000</td>\n",
              "      <td>891.000000</td>\n",
              "    </tr>\n",
              "    <tr>\n",
              "      <th>mean</th>\n",
              "      <td>0.383838</td>\n",
              "      <td>2.308642</td>\n",
              "      <td>23.783389</td>\n",
              "      <td>0.523008</td>\n",
              "      <td>0.381594</td>\n",
              "      <td>31.785634</td>\n",
              "      <td>0.352413</td>\n",
              "    </tr>\n",
              "    <tr>\n",
              "      <th>std</th>\n",
              "      <td>0.486592</td>\n",
              "      <td>0.836071</td>\n",
              "      <td>17.597344</td>\n",
              "      <td>1.102743</td>\n",
              "      <td>0.806057</td>\n",
              "      <td>49.703730</td>\n",
              "      <td>0.477990</td>\n",
              "    </tr>\n",
              "    <tr>\n",
              "      <th>min</th>\n",
              "      <td>0.000000</td>\n",
              "      <td>1.000000</td>\n",
              "      <td>0.000000</td>\n",
              "      <td>0.000000</td>\n",
              "      <td>0.000000</td>\n",
              "      <td>0.000000</td>\n",
              "      <td>0.000000</td>\n",
              "    </tr>\n",
              "    <tr>\n",
              "      <th>25%</th>\n",
              "      <td>0.000000</td>\n",
              "      <td>2.000000</td>\n",
              "      <td>6.000000</td>\n",
              "      <td>0.000000</td>\n",
              "      <td>0.000000</td>\n",
              "      <td>7.000000</td>\n",
              "      <td>0.000000</td>\n",
              "    </tr>\n",
              "    <tr>\n",
              "      <th>50%</th>\n",
              "      <td>0.000000</td>\n",
              "      <td>3.000000</td>\n",
              "      <td>24.000000</td>\n",
              "      <td>0.000000</td>\n",
              "      <td>0.000000</td>\n",
              "      <td>14.000000</td>\n",
              "      <td>0.000000</td>\n",
              "    </tr>\n",
              "    <tr>\n",
              "      <th>75%</th>\n",
              "      <td>1.000000</td>\n",
              "      <td>3.000000</td>\n",
              "      <td>35.000000</td>\n",
              "      <td>1.000000</td>\n",
              "      <td>0.000000</td>\n",
              "      <td>31.000000</td>\n",
              "      <td>1.000000</td>\n",
              "    </tr>\n",
              "    <tr>\n",
              "      <th>max</th>\n",
              "      <td>1.000000</td>\n",
              "      <td>3.000000</td>\n",
              "      <td>80.000000</td>\n",
              "      <td>8.000000</td>\n",
              "      <td>6.000000</td>\n",
              "      <td>512.000000</td>\n",
              "      <td>1.000000</td>\n",
              "    </tr>\n",
              "  </tbody>\n",
              "</table>\n",
              "</div>"
            ],
            "text/plain": [
              "         survived      pclass  ...        fare  sexo_numerico\n",
              "count  891.000000  891.000000  ...  891.000000     891.000000\n",
              "mean     0.383838    2.308642  ...   31.785634       0.352413\n",
              "std      0.486592    0.836071  ...   49.703730       0.477990\n",
              "min      0.000000    1.000000  ...    0.000000       0.000000\n",
              "25%      0.000000    2.000000  ...    7.000000       0.000000\n",
              "50%      0.000000    3.000000  ...   14.000000       0.000000\n",
              "75%      1.000000    3.000000  ...   31.000000       1.000000\n",
              "max      1.000000    3.000000  ...  512.000000       1.000000\n",
              "\n",
              "[8 rows x 7 columns]"
            ]
          },
          "metadata": {
            "tags": []
          },
          "execution_count": 10
        }
      ]
    },
    {
      "cell_type": "code",
      "metadata": {
        "id": "F7BmbFpEZgtQ",
        "colab_type": "code",
        "colab": {
          "base_uri": "https://localhost:8080/",
          "height": 162
        },
        "outputId": "353c5191-228b-4704-8152-61abc24f09e6"
      },
      "source": [
        "\n",
        "# Visualizando correlações entre variáveis \n",
        "correlacao = titanic.corr()\n",
        "plt.figure(figsize=(16,6))\n",
        "sns.heatmap(data=correlacao,annot=True)"
      ],
      "execution_count": 11,
      "outputs": [
        {
          "output_type": "execute_result",
          "data": {
            "text/plain": [
              "<matplotlib.axes._subplots.AxesSubplot at 0x7fe899fecfd0>"
            ]
          },
          "metadata": {
            "tags": []
          },
          "execution_count": 11
        },
        {
          "output_type": "display_data",
          "data": {
            "image/png": "[encoded data removed]",
            "text/plain": [
              "<Figure size 1152x432 with 2 Axes>"
            ]
          },
          "metadata": {
            "tags": [],
            "needs_background": "light"
          }
        }
      ]
    },
    {
      "cell_type": "code",
      "metadata": {
        "id": "LNWcGLKcXEu-",
        "colab_type": "code",
        "colab": {}
      },
      "source": [
        "# Atribuindo os atributos preditivos a variável X -(\"independente\")\n",
        "# Atribuindo a variável alvo preditora  Y -(\"dependente\")\n",
        "X = titanic[[\"age\",\"fare\",\"sexo_numerico\",\"pclass\",\"sibsp\"]]\n",
        "Y = titanic[\"survived\"]"
      ],
      "execution_count": 12,
      "outputs": []
    },
    {
      "cell_type": "code",
      "metadata": {
        "id": "ir64HVJ0QdPN",
        "colab_type": "code",
        "colab": {}
      },
      "source": [
        " \n",
        "# importando bibliotecas para modelagem \n",
        "from sklearn.ensemble        import RandomForestClassifier\n",
        "from sklearn.model_selection import train_test_split\n",
        "from sklearn.metrics         import accuracy_score"
      ],
      "execution_count": 13,
      "outputs": []
    },
    {
      "cell_type": "code",
      "metadata": {
        "id": "uJsizOTDRPdH",
        "colab_type": "code",
        "colab": {}
      },
      "source": [
        "# Instânciando modelos\n",
        "modelo_RFC = RandomForestClassifier (bootstrap=True,\n",
        "                                     n_estimators=1000,\n",
        "                                     n_jobs=-1,\n",
        "                                     random_state=0,\n",
        "                                     max_features='sqrt')"
      ],
      "execution_count": 14,
      "outputs": []
    },
    {
      "cell_type": "code",
      "metadata": {
        "id": "GPZdwjewA2bH",
        "colab_type": "code",
        "colab": {}
      },
      "source": [
        "# Divisão dados de treino e teste\n",
        "np.random.seed(0)\n",
        "X_treino,X_valid,Y_treino,Y_valid = train_test_split (X,Y,\n",
        "                                                      test_size=0.5,\n",
        "                                                      random_state=0)"
      ],
      "execution_count": 15,
      "outputs": []
    },
    {
      "cell_type": "code",
      "metadata": {
        "id": "kAD1yuXEdQ0w",
        "colab_type": "code",
        "colab": {
          "base_uri": "https://localhost:8080/",
          "height": 54
        },
        "outputId": "a26eadd3-bb2d-4fad-c4b1-e47ecc197d43"
      },
      "source": [
        " \n",
        "# A forma como os dados são divididos pelo train_test_split\n",
        "X_treino.shape,X_valid.shape,Y_treino.shape,Y_valid.shape"
      ],
      "execution_count": 16,
      "outputs": [
        {
          "output_type": "execute_result",
          "data": {
            "text/plain": [
              "((445, 5), (446, 5), (445,), (446,))"
            ]
          },
          "metadata": {
            "tags": []
          },
          "execution_count": 16
        }
      ]
    },
    {
      "cell_type": "code",
      "metadata": {
        "id": "g65AIgUanDXv",
        "colab_type": "code",
        "colab": {}
      },
      "source": [
        "# MODELO RANDOM FOREST CLASSIFIER \n",
        "# fit \n",
        "modelo_RFC.fit (X_treino,Y_treino)\n",
        "# predict\n",
        "Y_pred = modelo_RFC.predict(X_valid)"
      ],
      "execution_count": 17,
      "outputs": []
    },
    {
      "cell_type": "code",
      "metadata": {
        "id": "mSLYCd5AFK5_",
        "colab_type": "code",
        "colab": {
          "base_uri": "https://localhost:8080/",
          "height": 54
        },
        "outputId": "1e325a01-67eb-4d12-f16e-229f13cc8707"
      },
      "source": [
        "# Precisão do modelo \n",
        "print(\"modelo_RFC Acuracia:{}\".format(accuracy_score(Y_valid,Y_pred)))"
      ],
      "execution_count": 19,
      "outputs": [
        {
          "output_type": "stream",
          "text": [
            "modelo_RFC Acuracia:0.773542600896861\n"
          ],
          "name": "stdout"
        }
      ]
    },
    {
      "cell_type": "markdown",
      "metadata": {
        "id": "oJvZhR2jkp2v",
        "colab_type": "text"
      },
      "source": [
        "A acurácia do modelo é de 77% ou seja o modelo prevê dentro de uma amostra de 100 tripulantes que 77 sobrevivem ou não🚢🔍"
      ]
    }
  ]
}