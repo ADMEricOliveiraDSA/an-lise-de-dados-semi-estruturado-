{
  "nbformat": 4,
  "nbformat_minor": 0,
  "metadata": {
    "colab": {
      "name": "ProjetoDadosAbertosFSA.ipynb",
      "provenance": [],
      "collapsed_sections": [],
      "mount_file_id": "1QDJ_s_7Co07fWr7HAB0ZFNz2howRnQEr",
      "authorship_tag": "ABX9TyPnKNU8BuG5IoeZ75q5R5m7",
      "include_colab_link": true
    },
    "kernelspec": {
      "name": "python3",
      "display_name": "Python 3"
    }
  },
  "cells": [
    {
      "cell_type": "markdown",
      "metadata": {
        "id": "view-in-github",
        "colab_type": "text"
      },
      "source": [
        "<a href=\"https://colab.research.google.com/github/ADMEricOliveiraDSA/an-lise-de-dados-semi-estruturado-/blob/master/ProjetoDadosAbertosFSA.ipynb\" target=\"_parent\"><img src=\"https://colab.research.google.com/assets/colab-badge.svg\" alt=\"Open In Colab\"/></a>"
      ]
    }
  ]
}