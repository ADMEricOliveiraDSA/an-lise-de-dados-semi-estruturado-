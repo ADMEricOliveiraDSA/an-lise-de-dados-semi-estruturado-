{
 "cells": [
  {
   "cell_type": "markdown",
   "metadata": {},
   "source": [
    "## Representação de data e hora"
   ]
  },
  {
   "cell_type": "code",
   "execution_count": 1,
   "metadata": {},
   "outputs": [],
   "source": [
    "# importa o pacote para trabalhar com datas \n",
    "import datetime"
   ]
  },
  {
   "cell_type": "markdown",
   "metadata": {},
   "source": [
    "### Uma data e suas várias partes são representadas usando diferentes funções de data e hora.  Além disso, existem especificadores de formato que desempenham um papel na exibição das partes alfabéticas de uma data, como o nome do mês ou o dia da semana.  O código a seguir mostra a data de hoje e várias partes da data."
   ]
  },
  {
   "cell_type": "code",
   "execution_count": 11,
   "metadata": {},
   "outputs": [
    {
     "name": "stdout",
     "output_type": "stream",
     "text": [
      "A data de hoje : 2021-01-21 11:30:08.316983\n",
      "O ano         : 2021\n",
      "O mês         : 1\n",
      "Nome do mês   : January\n",
      "Dia da semana : 21\n",
      "Nome do dia   : Thursday\n"
     ]
    }
   ],
   "source": [
    "# Pacote datetime função data atual \n",
    "print('A data de hoje :',datetime.datetime.today())\n",
    "# Data do dia / variável para operações \n",
    "date_today = datetime.date.today()\n",
    "\n",
    "print ('O ano         :', date_today.year)\n",
    "print ('O mês         :', date_today.month)\n",
    "print ('Nome do mês   :',date_today.strftime('%B'))\n",
    "print ('Dia da semana :', date_today.day)\n",
    "print ('Nome do dia   :',date_today.strftime('%A'))"
   ]
  },
  {
   "cell_type": "markdown",
   "metadata": {},
   "source": [
    "## Aritmética de data e hora"
   ]
  },
  {
   "cell_type": "markdown",
   "metadata": {},
   "source": [
    "### Para cálculos envolvendo datas, armazenamos as várias datas em variáveis e aplicamos o operador matemático relevante a essas variáveis."
   ]
  },
  {
   "cell_type": "code",
   "execution_count": 17,
   "metadata": {},
   "outputs": [
    {
     "name": "stdout",
     "output_type": "stream",
     "text": [
      "dia1: Thu Jan 21 00:00:00 2021\n",
      "dia2: Tue Jan 21 00:00:00 2020\n",
      "Numero de dias: 366 days, 0:00:00\n",
      "Antes de quatro dias: 2021-01-17\n",
      "Depois de quatro dias: 2021-01-25\n"
     ]
    }
   ],
   "source": [
    "#Captura a data inícial \n",
    "dia1 = datetime.date(2021, 1, 21)\n",
    "print ('dia1:', dia1.ctime())\n",
    "\n",
    "# Captura a segunda data \n",
    "dia2 = datetime.date(2020, 1, 21)\n",
    "print ('dia2:', dia2.ctime())\n",
    "\n",
    "# Encontra a diferença entre as datas\n",
    "print ('Numero de dias:', dia1-dia2)\n",
    "\n",
    "# Variável / data de agora-hoje  \n",
    "date_today  = datetime.date.today() \n",
    "\n",
    "# Cria um delta de quatro dias\n",
    "n_dias = datetime.timedelta(days=4) \n",
    "\n",
    "# Usa Delta para Data Passada\n",
    "dia_passado = date_today - n_dias \n",
    "print ('Antes de quatro dias:', dia_passado)\n",
    "\n",
    "# Usa Delta para Data futura \n",
    "dia_futuro  = date_today + n_dias \n",
    "print ('Depois de quatro dias:', dia_futuro)"
   ]
  },
  {
   "cell_type": "markdown",
   "metadata": {},
   "source": [
    "## Criando datas sintéticas "
   ]
  },
  {
   "cell_type": "code",
   "execution_count": 20,
   "metadata": {},
   "outputs": [],
   "source": [
    "# Importa Pandas \n",
    "import pandas as pd \n",
    "# Cria um Range / Alcanse de datas com intervalos de tempo \n",
    "# de setembro de 2018 a fevereiro de 2021 com função do Pandas \n",
    "range_data = pd.date_range(start=\"2018-09-09\",end=\"2021-02-02\")"
   ]
  },
  {
   "cell_type": "code",
   "execution_count": 23,
   "metadata": {
    "scrolled": true
   },
   "outputs": [
    {
     "name": "stdout",
     "output_type": "stream",
     "text": [
      "Quantos dias há: (878,)\n"
     ]
    }
   ],
   "source": [
    "print('Quantos dias há:', range_data.shape)"
   ]
  },
  {
   "cell_type": "code",
   "execution_count": 25,
   "metadata": {},
   "outputs": [],
   "source": [
    "# Transformar a serie em tabela \n",
    "data_ts = pd.DataFrame(range_data)"
   ]
  },
  {
   "cell_type": "code",
   "execution_count": 28,
   "metadata": {},
   "outputs": [
    {
     "data": {
      "image/png": "[encoded data removed]",
      "text/plain": [
       "<Figure size 432x288 with 1 Axes>"
      ]
     },
     "metadata": {
      "needs_background": "light"
     },
     "output_type": "display_data"
    }
   ],
   "source": [
    "# Importa biblioteca para visualizar gráficos \n",
    "import matplotlib.pyplot as plt \n",
    "%matplotlib inline \n",
    "# Gráfico de linha , serie temporal \n",
    "data_ts.plot();"
   ]
  }
 ],
 "metadata": {
  "kernelspec": {
   "display_name": "Python 3",
   "language": "python",
   "name": "python3"
  },
  "language_info": {
   "codemirror_mode": {
    "name": "ipython",
    "version": 3
   },
   "file_extension": ".py",
   "mimetype": "text/x-python",
   "name": "python",
   "nbconvert_exporter": "python",
   "pygments_lexer": "ipython3",
   "version": "3.8.3"
  }
 },
 "nbformat": 4,
 "nbformat_minor": 4
}
