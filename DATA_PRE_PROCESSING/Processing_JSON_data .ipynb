{
 "cells": [
  {
   "cell_type": "markdown",
   "metadata": {},
   "source": [
    "### Bibliotecas usadas "
   ]
  },
  {
   "cell_type": "code",
   "execution_count": 1,
   "metadata": {},
   "outputs": [],
   "source": [
    "# Importa pandas e json \n",
    "import pandas as pd \n",
    "import json "
   ]
  },
  {
   "cell_type": "markdown",
   "metadata": {},
   "source": [
    "### Criando JSON de exemplo "
   ]
  },
  {
   "cell_type": "code",
   "execution_count": 2,
   "metadata": {},
   "outputs": [],
   "source": [
    "# Criando Dicionário Chave - valor, atribuindo a variável data \n",
    "data = { \n",
    "  \"ID\":[\"1\",\"2\",\"3\",\"4\",\"5\",\"6\",\"7\",\"8\" ],\n",
    "  \"Nome\":[\"Antonio\",\"Maria\",\"Eric\",\"Emily\",\"Joao\",\"Valentina\",\"Erica\",\"Messias\"],\n",
    "  \"Salario\":[\"623.3\",\"515.2\",\"611\",\"729\",\"843.25\",\"578\",\"632.8\",\"722.5\"],\n",
    "  \"Data_Inicio\":[\"1/1/2012\",\"9/23/2013\",\"11/15/2014\",\"5/11/2014\",\"3/27/2015\",\"5/21/2013\",\n",
    "  \"7/30/2013\",\"6/17/2014\"],\n",
    "  \"Departamento\":[\"TI\",\"Operacoes\",\"TI\",\"RH\",\"Financas\",\"TI\",\"Operacoes\",\"Financas\"]\n",
    "}"
   ]
  },
  {
   "cell_type": "markdown",
   "metadata": {},
   "source": [
    "### Escrevendo o arquivo em disco "
   ]
  },
  {
   "cell_type": "code",
   "execution_count": 3,
   "metadata": {},
   "outputs": [],
   "source": [
    "# Escreve na memória o arquivo data.json\n",
    "# Como abertura de arquivo persiste o dado  \n",
    "with open(\"data.json\", \"w\") as out:  \n",
    "    json.dump(data,out) \n"
   ]
  },
  {
   "cell_type": "markdown",
   "metadata": {},
   "source": [
    "### Lendo o arquivo com Pandas "
   ]
  },
  {
   "cell_type": "code",
   "execution_count": 4,
   "metadata": {},
   "outputs": [
    {
     "data": {
      "text/html": [
       "<div>\n",
       "<style scoped>\n",
       "    .dataframe tbody tr th:only-of-type {\n",
       "        vertical-align: middle;\n",
       "    }\n",
       "\n",
       "    .dataframe tbody tr th {\n",
       "        vertical-align: top;\n",
       "    }\n",
       "\n",
       "    .dataframe thead th {\n",
       "        text-align: right;\n",
       "    }\n",
       "</style>\n",
       "<table border=\"1\" class=\"dataframe\">\n",
       "  <thead>\n",
       "    <tr style=\"text-align: right;\">\n",
       "      <th></th>\n",
       "      <th>ID</th>\n",
       "      <th>Nome</th>\n",
       "      <th>Salario</th>\n",
       "      <th>Data_Inicio</th>\n",
       "      <th>Departamento</th>\n",
       "    </tr>\n",
       "  </thead>\n",
       "  <tbody>\n",
       "    <tr>\n",
       "      <th>0</th>\n",
       "      <td>1</td>\n",
       "      <td>Antonio</td>\n",
       "      <td>623.30</td>\n",
       "      <td>1/1/2012</td>\n",
       "      <td>TI</td>\n",
       "    </tr>\n",
       "    <tr>\n",
       "      <th>1</th>\n",
       "      <td>2</td>\n",
       "      <td>Maria</td>\n",
       "      <td>515.20</td>\n",
       "      <td>9/23/2013</td>\n",
       "      <td>Operacoes</td>\n",
       "    </tr>\n",
       "    <tr>\n",
       "      <th>2</th>\n",
       "      <td>3</td>\n",
       "      <td>Eric</td>\n",
       "      <td>611.00</td>\n",
       "      <td>11/15/2014</td>\n",
       "      <td>TI</td>\n",
       "    </tr>\n",
       "    <tr>\n",
       "      <th>3</th>\n",
       "      <td>4</td>\n",
       "      <td>Emily</td>\n",
       "      <td>729.00</td>\n",
       "      <td>5/11/2014</td>\n",
       "      <td>RH</td>\n",
       "    </tr>\n",
       "    <tr>\n",
       "      <th>4</th>\n",
       "      <td>5</td>\n",
       "      <td>Joao</td>\n",
       "      <td>843.25</td>\n",
       "      <td>3/27/2015</td>\n",
       "      <td>Financas</td>\n",
       "    </tr>\n",
       "    <tr>\n",
       "      <th>5</th>\n",
       "      <td>6</td>\n",
       "      <td>Valentina</td>\n",
       "      <td>578.00</td>\n",
       "      <td>5/21/2013</td>\n",
       "      <td>TI</td>\n",
       "    </tr>\n",
       "    <tr>\n",
       "      <th>6</th>\n",
       "      <td>7</td>\n",
       "      <td>Erica</td>\n",
       "      <td>632.80</td>\n",
       "      <td>7/30/2013</td>\n",
       "      <td>Operacoes</td>\n",
       "    </tr>\n",
       "    <tr>\n",
       "      <th>7</th>\n",
       "      <td>8</td>\n",
       "      <td>Messias</td>\n",
       "      <td>722.50</td>\n",
       "      <td>6/17/2014</td>\n",
       "      <td>Financas</td>\n",
       "    </tr>\n",
       "  </tbody>\n",
       "</table>\n",
       "</div>"
      ],
      "text/plain": [
       "   ID       Nome  Salario Data_Inicio Departamento\n",
       "0   1    Antonio   623.30    1/1/2012           TI\n",
       "1   2      Maria   515.20   9/23/2013    Operacoes\n",
       "2   3       Eric   611.00  11/15/2014           TI\n",
       "3   4      Emily   729.00   5/11/2014           RH\n",
       "4   5       Joao   843.25   3/27/2015     Financas\n",
       "5   6  Valentina   578.00   5/21/2013           TI\n",
       "6   7      Erica   632.80   7/30/2013    Operacoes\n",
       "7   8    Messias   722.50   6/17/2014     Financas"
      ]
     },
     "metadata": {},
     "output_type": "display_data"
    }
   ],
   "source": [
    "# Leitura do arquivo com pandas \n",
    "# necessário saber caminho do arquivo no diretório \n",
    "dados = pd.read_json(\"data.json\")\n",
    "# Exibe resultado \n",
    "display(dados)"
   ]
  },
  {
   "cell_type": "markdown",
   "metadata": {},
   "source": [
    "### Lendo arquivo JSON como registros"
   ]
  },
  {
   "cell_type": "code",
   "execution_count": 5,
   "metadata": {},
   "outputs": [
    {
     "data": {
      "text/plain": [
       "'{\"ID\":1,\"Nome\":\"Antonio\",\"Salario\":623.3,\"Data_Inicio\":\"1\\\\/1\\\\/2012\",\"Departamento\":\"TI\"}\\n{\"ID\":2,\"Nome\":\"Maria\",\"Salario\":515.2,\"Data_Inicio\":\"9\\\\/23\\\\/2013\",\"Departamento\":\"Operacoes\"}\\n{\"ID\":3,\"Nome\":\"Eric\",\"Salario\":611.0,\"Data_Inicio\":\"11\\\\/15\\\\/2014\",\"Departamento\":\"TI\"}\\n{\"ID\":4,\"Nome\":\"Emily\",\"Salario\":729.0,\"Data_Inicio\":\"5\\\\/11\\\\/2014\",\"Departamento\":\"RH\"}\\n{\"ID\":5,\"Nome\":\"Joao\",\"Salario\":843.25,\"Data_Inicio\":\"3\\\\/27\\\\/2015\",\"Departamento\":\"Financas\"}\\n{\"ID\":6,\"Nome\":\"Valentina\",\"Salario\":578.0,\"Data_Inicio\":\"5\\\\/21\\\\/2013\",\"Departamento\":\"TI\"}\\n{\"ID\":7,\"Nome\":\"Erica\",\"Salario\":632.8,\"Data_Inicio\":\"7\\\\/30\\\\/2013\",\"Departamento\":\"Operacoes\"}\\n{\"ID\":8,\"Nome\":\"Messias\",\"Salario\":722.5,\"Data_Inicio\":\"6\\\\/17\\\\/2014\",\"Departamento\":\"Financas\"}'"
      ]
     },
     "execution_count": 5,
     "metadata": {},
     "output_type": "execute_result"
    }
   ],
   "source": [
    "# Função Pandas to_json Transforma o arquivo em registros json \n",
    "dados.to_json(orient='records', lines=True)"
   ]
  },
  {
   "cell_type": "markdown",
   "metadata": {},
   "source": [
    "### Leitura de colunas e linhas específicas"
   ]
  },
  {
   "cell_type": "code",
   "execution_count": 6,
   "metadata": {},
   "outputs": [
    {
     "data": {
      "text/html": [
       "<div>\n",
       "<style scoped>\n",
       "    .dataframe tbody tr th:only-of-type {\n",
       "        vertical-align: middle;\n",
       "    }\n",
       "\n",
       "    .dataframe tbody tr th {\n",
       "        vertical-align: top;\n",
       "    }\n",
       "\n",
       "    .dataframe thead th {\n",
       "        text-align: right;\n",
       "    }\n",
       "</style>\n",
       "<table border=\"1\" class=\"dataframe\">\n",
       "  <thead>\n",
       "    <tr style=\"text-align: right;\">\n",
       "      <th></th>\n",
       "      <th>Salario</th>\n",
       "      <th>Nome</th>\n",
       "    </tr>\n",
       "  </thead>\n",
       "  <tbody>\n",
       "    <tr>\n",
       "      <th>1</th>\n",
       "      <td>515.2</td>\n",
       "      <td>Maria</td>\n",
       "    </tr>\n",
       "    <tr>\n",
       "      <th>3</th>\n",
       "      <td>729.0</td>\n",
       "      <td>Emily</td>\n",
       "    </tr>\n",
       "    <tr>\n",
       "      <th>5</th>\n",
       "      <td>578.0</td>\n",
       "      <td>Valentina</td>\n",
       "    </tr>\n",
       "  </tbody>\n",
       "</table>\n",
       "</div>"
      ],
      "text/plain": [
       "   Salario       Nome\n",
       "1    515.2      Maria\n",
       "3    729.0      Emily\n",
       "5    578.0  Valentina"
      ]
     },
     "execution_count": 6,
     "metadata": {},
     "output_type": "execute_result"
    }
   ],
   "source": [
    "# Linhas 1,3,5 colunas Salario e Nome \n",
    "dados.loc[[1,3,5],['Salario','Nome']]"
   ]
  },
  {
   "cell_type": "markdown",
   "metadata": {},
   "source": [
    "### Agrupamento de dados "
   ]
  },
  {
   "cell_type": "code",
   "execution_count": 7,
   "metadata": {},
   "outputs": [
    {
     "data": {
      "text/html": [
       "<div>\n",
       "<style scoped>\n",
       "    .dataframe tbody tr th:only-of-type {\n",
       "        vertical-align: middle;\n",
       "    }\n",
       "\n",
       "    .dataframe tbody tr th {\n",
       "        vertical-align: top;\n",
       "    }\n",
       "\n",
       "    .dataframe thead th {\n",
       "        text-align: right;\n",
       "    }\n",
       "</style>\n",
       "<table border=\"1\" class=\"dataframe\">\n",
       "  <thead>\n",
       "    <tr style=\"text-align: right;\">\n",
       "      <th></th>\n",
       "      <th>Salario</th>\n",
       "    </tr>\n",
       "    <tr>\n",
       "      <th>Departamento</th>\n",
       "      <th></th>\n",
       "    </tr>\n",
       "  </thead>\n",
       "  <tbody>\n",
       "    <tr>\n",
       "      <th>Financas</th>\n",
       "      <td>1565.75</td>\n",
       "    </tr>\n",
       "    <tr>\n",
       "      <th>Operacoes</th>\n",
       "      <td>1148.00</td>\n",
       "    </tr>\n",
       "    <tr>\n",
       "      <th>RH</th>\n",
       "      <td>729.00</td>\n",
       "    </tr>\n",
       "    <tr>\n",
       "      <th>TI</th>\n",
       "      <td>1812.30</td>\n",
       "    </tr>\n",
       "  </tbody>\n",
       "</table>\n",
       "</div>"
      ],
      "text/plain": [
       "              Salario\n",
       "Departamento         \n",
       "Financas      1565.75\n",
       "Operacoes     1148.00\n",
       "RH             729.00\n",
       "TI            1812.30"
      ]
     },
     "execution_count": 7,
     "metadata": {},
     "output_type": "execute_result"
    }
   ],
   "source": [
    "# Agrupa os dados por determinado filtro  com a função Groupby do Pandas\n",
    "# Resulta na soma dos Salários por departamento\n",
    "dados.groupby(by=\"Departamento\")['Salario'].sum().to_frame()"
   ]
  }
 ],
 "metadata": {
  "kernelspec": {
   "display_name": "Python 3",
   "language": "python",
   "name": "python3"
  },
  "language_info": {
   "codemirror_mode": {
    "name": "ipython",
    "version": 3
   },
   "file_extension": ".py",
   "mimetype": "text/x-python",
   "name": "python",
   "nbconvert_exporter": "python",
   "pygments_lexer": "ipython3",
   "version": "3.8.3"
  }
 },
 "nbformat": 4,
 "nbformat_minor": 4
}
