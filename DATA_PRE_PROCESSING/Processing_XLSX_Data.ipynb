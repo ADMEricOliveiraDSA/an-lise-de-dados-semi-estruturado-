{
 "cells": [
  {
   "cell_type": "markdown",
   "metadata": {},
   "source": [
    "## Bibliotecas Usadas "
   ]
  },
  {
   "cell_type": "code",
   "execution_count": 1,
   "metadata": {},
   "outputs": [],
   "source": [
    "# Importes \n",
    "# Dependências ( xlrd , openpyxl )\n",
    "import pandas as pd"
   ]
  },
  {
   "cell_type": "markdown",
   "metadata": {},
   "source": [
    "### No sistema operacional deve-se conter um arquivo do tipo xlsx, advindo de planilha Excel ou Google Planilhas, com diretório acessível pelo usuário."
   ]
  },
  {
   "cell_type": "code",
   "execution_count": 2,
   "metadata": {},
   "outputs": [],
   "source": [
    "# Lendo o arquivo xlsx, por padrão a função do pandas read_excel trás a planilha 1 \n",
    "# Usa-se openpyxl como motor de leitura, pois a biblioteca xlrd não tem mais suporte \n",
    "data = pd.read_excel('Excel_Produtos.xlsx', engine='openpyxl')\n"
   ]
  },
  {
   "cell_type": "code",
   "execution_count": 3,
   "metadata": {},
   "outputs": [
    {
     "data": {
      "text/html": [
       "<div>\n",
       "<style scoped>\n",
       "    .dataframe tbody tr th:only-of-type {\n",
       "        vertical-align: middle;\n",
       "    }\n",
       "\n",
       "    .dataframe tbody tr th {\n",
       "        vertical-align: top;\n",
       "    }\n",
       "\n",
       "    .dataframe thead th {\n",
       "        text-align: right;\n",
       "    }\n",
       "</style>\n",
       "<table border=\"1\" class=\"dataframe\">\n",
       "  <thead>\n",
       "    <tr style=\"text-align: right;\">\n",
       "      <th></th>\n",
       "      <th>id</th>\n",
       "      <th>Data</th>\n",
       "      <th>Produto</th>\n",
       "      <th>Preco</th>\n",
       "    </tr>\n",
       "  </thead>\n",
       "  <tbody>\n",
       "    <tr>\n",
       "      <th>0</th>\n",
       "      <td>1.0</td>\n",
       "      <td>2021-01-16 17:23:44.120</td>\n",
       "      <td>Batata</td>\n",
       "      <td>2.0</td>\n",
       "    </tr>\n",
       "    <tr>\n",
       "      <th>1</th>\n",
       "      <td>2.0</td>\n",
       "      <td>2021-01-16 17:23:44.120</td>\n",
       "      <td>Cenoura</td>\n",
       "      <td>3.0</td>\n",
       "    </tr>\n",
       "    <tr>\n",
       "      <th>2</th>\n",
       "      <td>3.0</td>\n",
       "      <td>2021-01-16 17:23:44.120</td>\n",
       "      <td>Batata</td>\n",
       "      <td>2.0</td>\n",
       "    </tr>\n",
       "    <tr>\n",
       "      <th>3</th>\n",
       "      <td>4.0</td>\n",
       "      <td>2021-01-16 17:23:44.120</td>\n",
       "      <td>Cenoura</td>\n",
       "      <td>3.0</td>\n",
       "    </tr>\n",
       "    <tr>\n",
       "      <th>4</th>\n",
       "      <td>5.0</td>\n",
       "      <td>2021-01-16 17:23:44.120</td>\n",
       "      <td>Tomate</td>\n",
       "      <td>5.0</td>\n",
       "    </tr>\n",
       "    <tr>\n",
       "      <th>5</th>\n",
       "      <td>6.0</td>\n",
       "      <td>2021-01-16 17:23:44.120</td>\n",
       "      <td>Tomate</td>\n",
       "      <td>5.0</td>\n",
       "    </tr>\n",
       "    <tr>\n",
       "      <th>6</th>\n",
       "      <td>7.0</td>\n",
       "      <td>2021-01-16 17:23:44.120</td>\n",
       "      <td>Manga</td>\n",
       "      <td>4.0</td>\n",
       "    </tr>\n",
       "    <tr>\n",
       "      <th>7</th>\n",
       "      <td>8.0</td>\n",
       "      <td>2021-01-16 17:23:44.120</td>\n",
       "      <td>Manga</td>\n",
       "      <td>4.0</td>\n",
       "    </tr>\n",
       "    <tr>\n",
       "      <th>8</th>\n",
       "      <td>9.0</td>\n",
       "      <td>2021-01-16 17:23:44.120</td>\n",
       "      <td>Alho</td>\n",
       "      <td>2.5</td>\n",
       "    </tr>\n",
       "    <tr>\n",
       "      <th>9</th>\n",
       "      <td>10.0</td>\n",
       "      <td>2021-01-16 17:23:44.120</td>\n",
       "      <td>Alho</td>\n",
       "      <td>2.5</td>\n",
       "    </tr>\n",
       "  </tbody>\n",
       "</table>\n",
       "</div>"
      ],
      "text/plain": [
       "     id                    Data  Produto  Preco\n",
       "0   1.0 2021-01-16 17:23:44.120   Batata    2.0\n",
       "1   2.0 2021-01-16 17:23:44.120  Cenoura    3.0\n",
       "2   3.0 2021-01-16 17:23:44.120   Batata    2.0\n",
       "3   4.0 2021-01-16 17:23:44.120  Cenoura    3.0\n",
       "4   5.0 2021-01-16 17:23:44.120   Tomate    5.0\n",
       "5   6.0 2021-01-16 17:23:44.120   Tomate    5.0\n",
       "6   7.0 2021-01-16 17:23:44.120    Manga    4.0\n",
       "7   8.0 2021-01-16 17:23:44.120    Manga    4.0\n",
       "8   9.0 2021-01-16 17:23:44.120     Alho    2.5\n",
       "9  10.0 2021-01-16 17:23:44.120     Alho    2.5"
      ]
     },
     "execution_count": 3,
     "metadata": {},
     "output_type": "execute_result"
    }
   ],
   "source": [
    "# Exibe linhas iniciais \n",
    "data.head(10)"
   ]
  },
  {
   "cell_type": "markdown",
   "metadata": {},
   "source": [
    "## Leitura de várias planilhas do Excel"
   ]
  },
  {
   "cell_type": "markdown",
   "metadata": {},
   "source": [
    "#### Múltiplas planilhas com diferentes formatos de dados também podem ser lidas usando a função read_excel( ). Ele lerá as várias folhas na memória apenas uma vez. No exemplo abaixo, lemos a planilha 1 e a planilha 2 em dois quadros de dados e os imprimimos individualmente."
   ]
  },
  {
   "cell_type": "code",
   "execution_count": 4,
   "metadata": {},
   "outputs": [
    {
     "name": "stdout",
     "output_type": "stream",
     "text": [
      "** Resultado Planilha 1 **\n",
      "    id                    Data  Produto  Preco\n",
      "0  1.0 2021-01-16 17:23:44.120   Batata    2.0\n",
      "1  2.0 2021-01-16 17:23:44.120  Cenoura    3.0\n",
      "2  3.0 2021-01-16 17:23:44.120   Batata    2.0\n",
      "3  4.0 2021-01-16 17:23:44.120  Cenoura    3.0\n",
      "4  5.0 2021-01-16 17:23:44.120   Tomate    5.0\n",
      "\n",
      "** Resultado Planilha 2 **\n",
      "    id                    Data   Produto  Preco\n",
      "0  1.0 2021-01-16 17:23:44.120     Oleo    15.0\n",
      "1  2.0 2021-01-16 17:23:44.120     Oleo    15.0\n",
      "2  3.0 2021-01-16 17:23:44.120  Manteiga   12.0\n",
      "3  4.0 2021-01-16 17:23:44.120  Manteiga   12.0\n",
      "4  5.0 2021-01-16 17:23:44.120   Queijo     7.0\n"
     ]
    }
   ],
   "source": [
    "# O parâmetro sheet_name tem como estimador a planilha por localização de 0..N°\n",
    "# E também por nome  específico da planilha \n",
    "df1 = pd.read_excel(\"Excel_Produtos.xlsx\", sheet_name=0, engine='openpyxl')\n",
    "df2 = pd.read_excel(\"Excel_Produtos.xlsx\", sheet_name=1, engine='openpyxl')   \n",
    "\n",
    "print(\"** Resultado Planilha 1 **\")\n",
    "print(df1.head())\n",
    "print(\"\")\n",
    "print(\"** Resultado Planilha 2 **\")\n",
    "print(df2.head())\n"
   ]
  },
  {
   "cell_type": "markdown",
   "metadata": {},
   "source": [
    "## Unindo as planilhas "
   ]
  },
  {
   "cell_type": "markdown",
   "metadata": {},
   "source": [
    "###  O Pandas oferece vários recursos para combinar facilmente objetos Series, DataFrame e Panel.  No exemplo a seguir, a função concat( ) executa operações de concatenação ao longo de um eixo. Tornando as planilhas parte de um único DataFrame. "
   ]
  },
  {
   "cell_type": "code",
   "execution_count": 5,
   "metadata": {},
   "outputs": [
    {
     "data": {
      "text/html": [
       "<div>\n",
       "<style scoped>\n",
       "    .dataframe tbody tr th:only-of-type {\n",
       "        vertical-align: middle;\n",
       "    }\n",
       "\n",
       "    .dataframe tbody tr th {\n",
       "        vertical-align: top;\n",
       "    }\n",
       "\n",
       "    .dataframe thead th {\n",
       "        text-align: right;\n",
       "    }\n",
       "</style>\n",
       "<table border=\"1\" class=\"dataframe\">\n",
       "  <thead>\n",
       "    <tr style=\"text-align: right;\">\n",
       "      <th></th>\n",
       "      <th>id</th>\n",
       "      <th>Data</th>\n",
       "      <th>Produto</th>\n",
       "      <th>Preco</th>\n",
       "    </tr>\n",
       "  </thead>\n",
       "  <tbody>\n",
       "    <tr>\n",
       "      <th>0</th>\n",
       "      <td>1.0</td>\n",
       "      <td>2021-01-16 17:23:44.120</td>\n",
       "      <td>Batata</td>\n",
       "      <td>2.0</td>\n",
       "    </tr>\n",
       "    <tr>\n",
       "      <th>1</th>\n",
       "      <td>2.0</td>\n",
       "      <td>2021-01-16 17:23:44.120</td>\n",
       "      <td>Cenoura</td>\n",
       "      <td>3.0</td>\n",
       "    </tr>\n",
       "    <tr>\n",
       "      <th>2</th>\n",
       "      <td>3.0</td>\n",
       "      <td>2021-01-16 17:23:44.120</td>\n",
       "      <td>Batata</td>\n",
       "      <td>2.0</td>\n",
       "    </tr>\n",
       "    <tr>\n",
       "      <th>3</th>\n",
       "      <td>4.0</td>\n",
       "      <td>2021-01-16 17:23:44.120</td>\n",
       "      <td>Cenoura</td>\n",
       "      <td>3.0</td>\n",
       "    </tr>\n",
       "    <tr>\n",
       "      <th>4</th>\n",
       "      <td>5.0</td>\n",
       "      <td>2021-01-16 17:23:44.120</td>\n",
       "      <td>Tomate</td>\n",
       "      <td>5.0</td>\n",
       "    </tr>\n",
       "    <tr>\n",
       "      <th>0</th>\n",
       "      <td>1.0</td>\n",
       "      <td>2021-01-16 17:23:44.120</td>\n",
       "      <td>Oleo</td>\n",
       "      <td>15.0</td>\n",
       "    </tr>\n",
       "    <tr>\n",
       "      <th>1</th>\n",
       "      <td>2.0</td>\n",
       "      <td>2021-01-16 17:23:44.120</td>\n",
       "      <td>Oleo</td>\n",
       "      <td>15.0</td>\n",
       "    </tr>\n",
       "    <tr>\n",
       "      <th>2</th>\n",
       "      <td>3.0</td>\n",
       "      <td>2021-01-16 17:23:44.120</td>\n",
       "      <td>Manteiga</td>\n",
       "      <td>12.0</td>\n",
       "    </tr>\n",
       "    <tr>\n",
       "      <th>3</th>\n",
       "      <td>4.0</td>\n",
       "      <td>2021-01-16 17:23:44.120</td>\n",
       "      <td>Manteiga</td>\n",
       "      <td>12.0</td>\n",
       "    </tr>\n",
       "    <tr>\n",
       "      <th>4</th>\n",
       "      <td>5.0</td>\n",
       "      <td>2021-01-16 17:23:44.120</td>\n",
       "      <td>Queijo</td>\n",
       "      <td>7.0</td>\n",
       "    </tr>\n",
       "  </tbody>\n",
       "</table>\n",
       "</div>"
      ],
      "text/plain": [
       "    id                    Data   Produto  Preco\n",
       "0  1.0 2021-01-16 17:23:44.120    Batata    2.0\n",
       "1  2.0 2021-01-16 17:23:44.120   Cenoura    3.0\n",
       "2  3.0 2021-01-16 17:23:44.120    Batata    2.0\n",
       "3  4.0 2021-01-16 17:23:44.120   Cenoura    3.0\n",
       "4  5.0 2021-01-16 17:23:44.120    Tomate    5.0\n",
       "0  1.0 2021-01-16 17:23:44.120     Oleo    15.0\n",
       "1  2.0 2021-01-16 17:23:44.120     Oleo    15.0\n",
       "2  3.0 2021-01-16 17:23:44.120  Manteiga   12.0\n",
       "3  4.0 2021-01-16 17:23:44.120  Manteiga   12.0\n",
       "4  5.0 2021-01-16 17:23:44.120   Queijo     7.0"
      ]
     },
     "execution_count": 5,
     "metadata": {},
     "output_type": "execute_result"
    }
   ],
   "source": [
    "# Unir as Planilhas 1 e 2 por seus índices com concatenação \n",
    "pd.concat([df1.head(),df2.head()])"
   ]
  }
 ],
 "metadata": {
  "kernelspec": {
   "display_name": "Python 3",
   "language": "python",
   "name": "python3"
  },
  "language_info": {
   "codemirror_mode": {
    "name": "ipython",
    "version": 3
   },
   "file_extension": ".py",
   "mimetype": "text/x-python",
   "name": "python",
   "nbconvert_exporter": "python",
   "pygments_lexer": "ipython3",
   "version": "3.8.3"
  }
 },
 "nbformat": 4,
 "nbformat_minor": 4
}
