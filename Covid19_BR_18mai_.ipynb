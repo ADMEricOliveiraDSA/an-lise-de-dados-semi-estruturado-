{
  "nbformat": 4,
  "nbformat_minor": 0,
  "metadata": {
    "kernelspec": {
      "display_name": "Python 3",
      "language": "python",
      "name": "python3"
    },
    "language_info": {
      "codemirror_mode": {
        "name": "ipython",
        "version": 3
      },
      "file_extension": ".py",
      "mimetype": "text/x-python",
      "name": "python",
      "nbconvert_exporter": "python",
      "pygments_lexer": "ipython3",
      "version": "3.7.2"
    },
    "colab": {
      "name": "Covid19-BR_18mai .ipynb",
      "provenance": [],
      "collapsed_sections": [],
      "include_colab_link": true
    }
  },
  "cells": [
    {
      "cell_type": "markdown",
      "metadata": {
        "id": "view-in-github",
        "colab_type": "text"
      },
      "source": [
        "<a href=\"https://colab.research.google.com/github/ADMEricOliveiraDSA/an-lise-de-dados-semi-estruturado-/blob/master/Covid19_BR_18mai_.ipynb\" target=\"_parent\"><img src=\"https://colab.research.google.com/assets/colab-badge.svg\" alt=\"Open In Colab\"/></a>"
      ]
    },
    {
      "cell_type": "code",
      "metadata": {
        "id": "7MBOU6wzrBrO",
        "colab_type": "code",
        "outputId": "8c2e7910-449e-4a85-ee88-6b2cb0962a5b",
        "colab": {
          "base_uri": "https://localhost:8080/",
          "height": 54
        }
      },
      "source": [
        " from google.colab import drive\n",
        "drive.mount('/content/drive')"
      ],
      "execution_count": 0,
      "outputs": [
        {
          "output_type": "stream",
          "text": [
            "Drive already mounted at /content/drive; to attempt to forcibly remount, call drive.mount(\"/content/drive\", force_remount=True).\n"
          ],
          "name": "stdout"
        }
      ]
    },
    {
      "cell_type": "markdown",
      "metadata": {
        "id": "1mleruls1hau",
        "colab_type": "text"
      },
      "source": [
        "ANALISANDO DADOS DO COVID-19/BR , MAIS PRECISAMENTE NA BAHIA "
      ]
    },
    {
      "cell_type": "markdown",
      "metadata": {
        "id": "rIUOC8K82B7w",
        "colab_type": "text"
      },
      "source": [
        "FONTE DOS DADOS ENCONTRA-SE :\n",
        "https://Covid.saude.gov.br"
      ]
    },
    {
      "cell_type": "code",
      "metadata": {
        "id": "qTaKfQ0QmK9T",
        "colab_type": "code",
        "colab": {}
      },
      "source": [
        "# IMPORTANDO BIBLIOTECAS PARA ANÁLISES \n",
        "\n",
        "import pandas as pd \n",
        "import numpy as np \n",
        "import matplotlib.pyplot as plt \n",
        "import seaborn as sns \n",
        "%matplotlib inline"
      ],
      "execution_count": 0,
      "outputs": []
    },
    {
      "cell_type": "code",
      "metadata": {
        "id": "qOYredh2udIv",
        "colab_type": "code",
        "colab": {}
      },
      "source": [
        "# LENDO O ARQUIVO EXCEL COM PANDAS \n",
        "df = pd.read_excel('/content/drive/My Drive/Colab Notebooks/HIST_PAINEL_COVIDBR_20200517.xlsx')"
      ],
      "execution_count": 0,
      "outputs": []
    },
    {
      "cell_type": "code",
      "metadata": {
        "id": "2WEqOhaHmK-T",
        "colab_type": "code",
        "outputId": "f5f57143-32d4-48de-a070-26726ba91418",
        "colab": {
          "base_uri": "https://localhost:8080/",
          "height": 309
        }
      },
      "source": [
        "# VENDO AS ULTIMAS 5 LINHAS DO DATASET \n",
        "df.tail()"
      ],
      "execution_count": 0,
      "outputs": [
        {
          "output_type": "execute_result",
          "data": {
            "text/html": [
              "<div>\n",
              "<style scoped>\n",
              "    .dataframe tbody tr th:only-of-type {\n",
              "        vertical-align: middle;\n",
              "    }\n",
              "\n",
              "    .dataframe tbody tr th {\n",
              "        vertical-align: top;\n",
              "    }\n",
              "\n",
              "    .dataframe thead th {\n",
              "        text-align: right;\n",
              "    }\n",
              "</style>\n",
              "<table border=\"1\" class=\"dataframe\">\n",
              "  <thead>\n",
              "    <tr style=\"text-align: right;\">\n",
              "      <th></th>\n",
              "      <th>regiao</th>\n",
              "      <th>estado</th>\n",
              "      <th>municipio</th>\n",
              "      <th>coduf</th>\n",
              "      <th>codmun</th>\n",
              "      <th>codRegiaoSaude</th>\n",
              "      <th>nomeRegiaoSaude</th>\n",
              "      <th>data</th>\n",
              "      <th>semanaEpi</th>\n",
              "      <th>populacaoTCU2019</th>\n",
              "      <th>casosAcumulado</th>\n",
              "      <th>obitosAcumulado</th>\n",
              "      <th>Recuperadosnovos</th>\n",
              "      <th>emAcompanhamentoNovos</th>\n",
              "    </tr>\n",
              "  </thead>\n",
              "  <tbody>\n",
              "    <tr>\n",
              "      <th>85588</th>\n",
              "      <td>Sul</td>\n",
              "      <td>RS</td>\n",
              "      <td>NaN</td>\n",
              "      <td>43</td>\n",
              "      <td>NaN</td>\n",
              "      <td>NaN</td>\n",
              "      <td>NaN</td>\n",
              "      <td>2020-05-13</td>\n",
              "      <td>20</td>\n",
              "      <td>11377239.0</td>\n",
              "      <td>2917</td>\n",
              "      <td>111</td>\n",
              "      <td>NaN</td>\n",
              "      <td>NaN</td>\n",
              "    </tr>\n",
              "    <tr>\n",
              "      <th>85589</th>\n",
              "      <td>Sul</td>\n",
              "      <td>RS</td>\n",
              "      <td>NaN</td>\n",
              "      <td>43</td>\n",
              "      <td>NaN</td>\n",
              "      <td>NaN</td>\n",
              "      <td>NaN</td>\n",
              "      <td>2020-05-14</td>\n",
              "      <td>20</td>\n",
              "      <td>11377239.0</td>\n",
              "      <td>2997</td>\n",
              "      <td>120</td>\n",
              "      <td>NaN</td>\n",
              "      <td>NaN</td>\n",
              "    </tr>\n",
              "    <tr>\n",
              "      <th>85590</th>\n",
              "      <td>Sul</td>\n",
              "      <td>RS</td>\n",
              "      <td>NaN</td>\n",
              "      <td>43</td>\n",
              "      <td>NaN</td>\n",
              "      <td>NaN</td>\n",
              "      <td>NaN</td>\n",
              "      <td>2020-05-15</td>\n",
              "      <td>20</td>\n",
              "      <td>11377239.0</td>\n",
              "      <td>3597</td>\n",
              "      <td>126</td>\n",
              "      <td>NaN</td>\n",
              "      <td>NaN</td>\n",
              "    </tr>\n",
              "    <tr>\n",
              "      <th>85591</th>\n",
              "      <td>Sul</td>\n",
              "      <td>RS</td>\n",
              "      <td>NaN</td>\n",
              "      <td>43</td>\n",
              "      <td>NaN</td>\n",
              "      <td>NaN</td>\n",
              "      <td>NaN</td>\n",
              "      <td>2020-05-16</td>\n",
              "      <td>20</td>\n",
              "      <td>11377239.0</td>\n",
              "      <td>3695</td>\n",
              "      <td>132</td>\n",
              "      <td>NaN</td>\n",
              "      <td>NaN</td>\n",
              "    </tr>\n",
              "    <tr>\n",
              "      <th>85592</th>\n",
              "      <td>Sul</td>\n",
              "      <td>RS</td>\n",
              "      <td>NaN</td>\n",
              "      <td>43</td>\n",
              "      <td>NaN</td>\n",
              "      <td>NaN</td>\n",
              "      <td>NaN</td>\n",
              "      <td>2020-05-17</td>\n",
              "      <td>21</td>\n",
              "      <td>11377239.0</td>\n",
              "      <td>3735</td>\n",
              "      <td>142</td>\n",
              "      <td>NaN</td>\n",
              "      <td>NaN</td>\n",
              "    </tr>\n",
              "  </tbody>\n",
              "</table>\n",
              "</div>"
            ],
            "text/plain": [
              "      regiao estado  ... Recuperadosnovos  emAcompanhamentoNovos\n",
              "85588    Sul     RS  ...              NaN                    NaN\n",
              "85589    Sul     RS  ...              NaN                    NaN\n",
              "85590    Sul     RS  ...              NaN                    NaN\n",
              "85591    Sul     RS  ...              NaN                    NaN\n",
              "85592    Sul     RS  ...              NaN                    NaN\n",
              "\n",
              "[5 rows x 14 columns]"
            ]
          },
          "metadata": {
            "tags": []
          },
          "execution_count": 46
        }
      ]
    },
    {
      "cell_type": "code",
      "metadata": {
        "id": "wPkSAbcNmK_C",
        "colab_type": "code",
        "outputId": "7a13c68a-a460-4390-a433-7efea4369ef2",
        "colab": {
          "base_uri": "https://localhost:8080/",
          "height": 394
        }
      },
      "source": [
        "# VENDO INFORMAÇÕES SOBRE O DATASET \n",
        "df.info()"
      ],
      "execution_count": 0,
      "outputs": [
        {
          "output_type": "stream",
          "text": [
            "<class 'pandas.core.frame.DataFrame'>\n",
            "RangeIndex: 85593 entries, 0 to 85592\n",
            "Data columns (total 14 columns):\n",
            " #   Column                 Non-Null Count  Dtype  \n",
            "---  ------                 --------------  -----  \n",
            " 0   regiao                 85593 non-null  object \n",
            " 1   estado                 85511 non-null  object \n",
            " 2   municipio              83250 non-null  object \n",
            " 3   coduf                  85593 non-null  int64  \n",
            " 4   codmun                 83750 non-null  float64\n",
            " 5   codRegiaoSaude         83250 non-null  float64\n",
            " 6   nomeRegiaoSaude        83250 non-null  object \n",
            " 7   data                   85593 non-null  object \n",
            " 8   semanaEpi              85593 non-null  int64  \n",
            " 9   populacaoTCU2019       85093 non-null  float64\n",
            " 10  casosAcumulado         85593 non-null  int64  \n",
            " 11  obitosAcumulado        85593 non-null  int64  \n",
            " 12  Recuperadosnovos       29 non-null     float64\n",
            " 13  emAcompanhamentoNovos  29 non-null     float64\n",
            "dtypes: float64(5), int64(4), object(5)\n",
            "memory usage: 9.1+ MB\n"
          ],
          "name": "stdout"
        }
      ]
    },
    {
      "cell_type": "code",
      "metadata": {
        "id": "elIg7cuPmK_0",
        "colab_type": "code",
        "outputId": "8b2ba031-2308-4772-928e-14caaa1ba57f",
        "colab": {
          "base_uri": "https://localhost:8080/",
          "height": 122
        }
      },
      "source": [
        "# LENDO AS COLUNAS DO DATASET \n",
        "df.columns"
      ],
      "execution_count": 0,
      "outputs": [
        {
          "output_type": "execute_result",
          "data": {
            "text/plain": [
              "Index(['regiao', 'estado', 'municipio', 'coduf', 'codmun', 'codRegiaoSaude',\n",
              "       'nomeRegiaoSaude', 'data', 'semanaEpi', 'populacaoTCU2019',\n",
              "       'casosAcumulado', 'obitosAcumulado', 'Recuperadosnovos',\n",
              "       'emAcompanhamentoNovos'],\n",
              "      dtype='object')"
            ]
          },
          "metadata": {
            "tags": []
          },
          "execution_count": 48
        }
      ]
    },
    {
      "cell_type": "code",
      "metadata": {
        "id": "7pOzsSscmLAh",
        "colab_type": "code",
        "outputId": "fb25718e-43eb-4459-ada8-fc0b8ea48ff5",
        "colab": {
          "base_uri": "https://localhost:8080/",
          "height": 317
        }
      },
      "source": [
        "# VENDO VALORES ESTATÍSTICOS DO DATASET \n",
        "df.describe ()"
      ],
      "execution_count": 0,
      "outputs": [
        {
          "output_type": "execute_result",
          "data": {
            "text/html": [
              "<div>\n",
              "<style scoped>\n",
              "    .dataframe tbody tr th:only-of-type {\n",
              "        vertical-align: middle;\n",
              "    }\n",
              "\n",
              "    .dataframe tbody tr th {\n",
              "        vertical-align: top;\n",
              "    }\n",
              "\n",
              "    .dataframe thead th {\n",
              "        text-align: right;\n",
              "    }\n",
              "</style>\n",
              "<table border=\"1\" class=\"dataframe\">\n",
              "  <thead>\n",
              "    <tr style=\"text-align: right;\">\n",
              "      <th></th>\n",
              "      <th>coduf</th>\n",
              "      <th>codmun</th>\n",
              "      <th>codRegiaoSaude</th>\n",
              "      <th>semanaEpi</th>\n",
              "      <th>populacaoTCU2019</th>\n",
              "      <th>casosAcumulado</th>\n",
              "      <th>obitosAcumulado</th>\n",
              "      <th>Recuperadosnovos</th>\n",
              "      <th>emAcompanhamentoNovos</th>\n",
              "    </tr>\n",
              "  </thead>\n",
              "  <tbody>\n",
              "    <tr>\n",
              "      <th>count</th>\n",
              "      <td>85593.000000</td>\n",
              "      <td>83750.000000</td>\n",
              "      <td>83250.000000</td>\n",
              "      <td>85593.000000</td>\n",
              "      <td>8.509300e+04</td>\n",
              "      <td>85593.000000</td>\n",
              "      <td>85593.000000</td>\n",
              "      <td>29.000000</td>\n",
              "      <td>29.000000</td>\n",
              "    </tr>\n",
              "    <tr>\n",
              "      <th>mean</th>\n",
              "      <td>31.431531</td>\n",
              "      <td>315649.671654</td>\n",
              "      <td>31448.769333</td>\n",
              "      <td>18.101130</td>\n",
              "      <td>4.693863e+05</td>\n",
              "      <td>130.937577</td>\n",
              "      <td>8.736299</td>\n",
              "      <td>48853.034483</td>\n",
              "      <td>59081.620690</td>\n",
              "    </tr>\n",
              "    <tr>\n",
              "      <th>std</th>\n",
              "      <td>9.789804</td>\n",
              "      <td>96519.779654</td>\n",
              "      <td>9631.684296</td>\n",
              "      <td>1.883347</td>\n",
              "      <td>6.779322e+06</td>\n",
              "      <td>2625.619792</td>\n",
              "      <td>183.863783</td>\n",
              "      <td>22147.187270</td>\n",
              "      <td>36011.457026</td>\n",
              "    </tr>\n",
              "    <tr>\n",
              "      <th>min</th>\n",
              "      <td>11.000000</td>\n",
              "      <td>110000.000000</td>\n",
              "      <td>11001.000000</td>\n",
              "      <td>9.000000</td>\n",
              "      <td>1.112000e+03</td>\n",
              "      <td>0.000000</td>\n",
              "      <td>0.000000</td>\n",
              "      <td>22130.000000</td>\n",
              "      <td>14062.000000</td>\n",
              "    </tr>\n",
              "    <tr>\n",
              "      <th>25%</th>\n",
              "      <td>24.000000</td>\n",
              "      <td>241200.000000</td>\n",
              "      <td>24007.000000</td>\n",
              "      <td>17.000000</td>\n",
              "      <td>1.361600e+04</td>\n",
              "      <td>1.000000</td>\n",
              "      <td>0.000000</td>\n",
              "      <td>30152.000000</td>\n",
              "      <td>27531.000000</td>\n",
              "    </tr>\n",
              "    <tr>\n",
              "      <th>50%</th>\n",
              "      <td>31.000000</td>\n",
              "      <td>315080.000000</td>\n",
              "      <td>31057.000000</td>\n",
              "      <td>18.000000</td>\n",
              "      <td>2.918500e+04</td>\n",
              "      <td>3.000000</td>\n",
              "      <td>0.000000</td>\n",
              "      <td>42991.000000</td>\n",
              "      <td>51131.000000</td>\n",
              "    </tr>\n",
              "    <tr>\n",
              "      <th>75%</th>\n",
              "      <td>41.000000</td>\n",
              "      <td>410260.000000</td>\n",
              "      <td>41002.000000</td>\n",
              "      <td>20.000000</td>\n",
              "      <td>7.512000e+04</td>\n",
              "      <td>12.000000</td>\n",
              "      <td>1.000000</td>\n",
              "      <td>64957.000000</td>\n",
              "      <td>86619.000000</td>\n",
              "    </tr>\n",
              "    <tr>\n",
              "      <th>max</th>\n",
              "      <td>76.000000</td>\n",
              "      <td>530010.000000</td>\n",
              "      <td>53001.000000</td>\n",
              "      <td>21.000000</td>\n",
              "      <td>2.101471e+08</td>\n",
              "      <td>241080.000000</td>\n",
              "      <td>16118.000000</td>\n",
              "      <td>94122.000000</td>\n",
              "      <td>130840.000000</td>\n",
              "    </tr>\n",
              "  </tbody>\n",
              "</table>\n",
              "</div>"
            ],
            "text/plain": [
              "              coduf         codmun  ...  Recuperadosnovos  emAcompanhamentoNovos\n",
              "count  85593.000000   83750.000000  ...         29.000000              29.000000\n",
              "mean      31.431531  315649.671654  ...      48853.034483           59081.620690\n",
              "std        9.789804   96519.779654  ...      22147.187270           36011.457026\n",
              "min       11.000000  110000.000000  ...      22130.000000           14062.000000\n",
              "25%       24.000000  241200.000000  ...      30152.000000           27531.000000\n",
              "50%       31.000000  315080.000000  ...      42991.000000           51131.000000\n",
              "75%       41.000000  410260.000000  ...      64957.000000           86619.000000\n",
              "max       76.000000  530010.000000  ...      94122.000000          130840.000000\n",
              "\n",
              "[8 rows x 9 columns]"
            ]
          },
          "metadata": {
            "tags": []
          },
          "execution_count": 49
        }
      ]
    },
    {
      "cell_type": "code",
      "metadata": {
        "id": "wOyPL_jmmLB4",
        "colab_type": "code",
        "colab": {}
      },
      "source": [
        "# ATRIBUINDO VARIÁVEL X A VALORES MÁXIMOS DAS COLUNAS SELECIONADAS \n",
        "\n",
        "x =df[['casosAcumulado', 'obitosAcumulado', \n",
        "     'Recuperadosnovos',\n",
        "     'emAcompanhamentoNovos']].max ()"
      ],
      "execution_count": 0,
      "outputs": []
    },
    {
      "cell_type": "code",
      "metadata": {
        "id": "oUxyckfmmLCY",
        "colab_type": "code",
        "outputId": "6f0b15e1-3c80-4c43-ed92-7f3068470081",
        "colab": {
          "base_uri": "https://localhost:8080/",
          "height": 122
        }
      },
      "source": [
        "# RESULTADO NA TELA DAS COLUNAS SELECIONADAS POR VALOR MÁXIMO ATRAVÉS DA VARIÁVEL X \n",
        "x"
      ],
      "execution_count": 0,
      "outputs": [
        {
          "output_type": "execute_result",
          "data": {
            "text/plain": [
              "casosAcumulado           241080.0\n",
              "obitosAcumulado           16118.0\n",
              "Recuperadosnovos          94122.0\n",
              "emAcompanhamentoNovos    130840.0\n",
              "dtype: float64"
            ]
          },
          "metadata": {
            "tags": []
          },
          "execution_count": 51
        }
      ]
    },
    {
      "cell_type": "code",
      "metadata": {
        "id": "qLm8E_ztmLE2",
        "colab_type": "code",
        "outputId": "1b252b7a-5623-4d3a-839c-a9004fdc3cca",
        "colab": {
          "base_uri": "https://localhost:8080/",
          "height": 258
        }
      },
      "source": [
        "# LOCALIZANDO DENTRO DA COLUNA ESTADO OS VALORES REFERENTES A \"BAHIA\"\n",
        "#VALORES MÁXIMOS DO ESTADO DA BAHIA NA DATA DE ÚLTIMA ATUALIZAÇÃO DO DATASET \n",
        "\n",
        "df.loc[df[\"estado\"]==\"BA\"].max ()"
      ],
      "execution_count": 0,
      "outputs": [
        {
          "output_type": "execute_result",
          "data": {
            "text/plain": [
              "regiao                      Nordeste\n",
              "estado                            BA\n",
              "coduf                             29\n",
              "codmun                        293330\n",
              "codRegiaoSaude                 29028\n",
              "data                      2020-05-17\n",
              "semanaEpi                         21\n",
              "populacaoTCU2019         1.48731e+07\n",
              "casosAcumulado                  8443\n",
              "obitosAcumulado                  295\n",
              "Recuperadosnovos                 NaN\n",
              "emAcompanhamentoNovos            NaN\n",
              "dtype: object"
            ]
          },
          "metadata": {
            "tags": []
          },
          "execution_count": 52
        }
      ]
    },
    {
      "cell_type": "code",
      "metadata": {
        "id": "xL2ouekSmLFm",
        "colab_type": "code",
        "colab": {}
      },
      "source": [
        "# ATRIBUINDO VARIÁVEL DF_BA AO OUTPUT ANTERIOR \n",
        "df_ba=df.loc[df[\"estado\"]==\"BA\"]"
      ],
      "execution_count": 0,
      "outputs": []
    },
    {
      "cell_type": "code",
      "metadata": {
        "id": "UPqHsyMLmLF7",
        "colab_type": "code",
        "colab": {}
      },
      "source": [
        "# ATRIBUINDO VARIÁVEL BAHIA AOS DADOS DA VARIÁVEL DF_BDF_BA , FILTRANDO AS COLUNAS ABAIXO \n",
        "\n",
        "bahia = df_ba[['casosAcumulado','obitosAcumulado', 'Recuperadosnovos','emAcompanhamentoNovos']]"
      ],
      "execution_count": 0,
      "outputs": []
    },
    {
      "cell_type": "code",
      "metadata": {
        "id": "LfOk8dWV_rWs",
        "colab_type": "code",
        "outputId": "d720f02a-9a93-4b16-bf1a-7db0af6f618c",
        "colab": {
          "base_uri": "https://localhost:8080/",
          "height": 439
        }
      },
      "source": [
        "# EXIBINDO VARIÁVEL BAHIA FILTRADA \n",
        "#COLUNAS SELECIONADAS \n",
        "bahia"
      ],
      "execution_count": 0,
      "outputs": [
        {
          "output_type": "execute_result",
          "data": {
            "text/html": [
              "<div>\n",
              "<style scoped>\n",
              "    .dataframe tbody tr th:only-of-type {\n",
              "        vertical-align: middle;\n",
              "    }\n",
              "\n",
              "    .dataframe tbody tr th {\n",
              "        vertical-align: top;\n",
              "    }\n",
              "\n",
              "    .dataframe thead th {\n",
              "        text-align: right;\n",
              "    }\n",
              "</style>\n",
              "<table border=\"1\" class=\"dataframe\">\n",
              "  <thead>\n",
              "    <tr style=\"text-align: right;\">\n",
              "      <th></th>\n",
              "      <th>casosAcumulado</th>\n",
              "      <th>obitosAcumulado</th>\n",
              "      <th>Recuperadosnovos</th>\n",
              "      <th>emAcompanhamentoNovos</th>\n",
              "    </tr>\n",
              "  </thead>\n",
              "  <tbody>\n",
              "    <tr>\n",
              "      <th>28462</th>\n",
              "      <td>1</td>\n",
              "      <td>0</td>\n",
              "      <td>NaN</td>\n",
              "      <td>NaN</td>\n",
              "    </tr>\n",
              "    <tr>\n",
              "      <th>28463</th>\n",
              "      <td>1</td>\n",
              "      <td>0</td>\n",
              "      <td>NaN</td>\n",
              "      <td>NaN</td>\n",
              "    </tr>\n",
              "    <tr>\n",
              "      <th>28464</th>\n",
              "      <td>1</td>\n",
              "      <td>0</td>\n",
              "      <td>NaN</td>\n",
              "      <td>NaN</td>\n",
              "    </tr>\n",
              "    <tr>\n",
              "      <th>28465</th>\n",
              "      <td>2</td>\n",
              "      <td>0</td>\n",
              "      <td>NaN</td>\n",
              "      <td>NaN</td>\n",
              "    </tr>\n",
              "    <tr>\n",
              "      <th>28466</th>\n",
              "      <td>2</td>\n",
              "      <td>0</td>\n",
              "      <td>NaN</td>\n",
              "      <td>NaN</td>\n",
              "    </tr>\n",
              "    <tr>\n",
              "      <th>...</th>\n",
              "      <td>...</td>\n",
              "      <td>...</td>\n",
              "      <td>...</td>\n",
              "      <td>...</td>\n",
              "    </tr>\n",
              "    <tr>\n",
              "      <th>34118</th>\n",
              "      <td>6547</td>\n",
              "      <td>236</td>\n",
              "      <td>NaN</td>\n",
              "      <td>NaN</td>\n",
              "    </tr>\n",
              "    <tr>\n",
              "      <th>34119</th>\n",
              "      <td>6955</td>\n",
              "      <td>262</td>\n",
              "      <td>NaN</td>\n",
              "      <td>NaN</td>\n",
              "    </tr>\n",
              "    <tr>\n",
              "      <th>34120</th>\n",
              "      <td>8128</td>\n",
              "      <td>281</td>\n",
              "      <td>NaN</td>\n",
              "      <td>NaN</td>\n",
              "    </tr>\n",
              "    <tr>\n",
              "      <th>34121</th>\n",
              "      <td>8314</td>\n",
              "      <td>286</td>\n",
              "      <td>NaN</td>\n",
              "      <td>NaN</td>\n",
              "    </tr>\n",
              "    <tr>\n",
              "      <th>34122</th>\n",
              "      <td>8443</td>\n",
              "      <td>295</td>\n",
              "      <td>NaN</td>\n",
              "      <td>NaN</td>\n",
              "    </tr>\n",
              "  </tbody>\n",
              "</table>\n",
              "<p>5661 rows × 4 columns</p>\n",
              "</div>"
            ],
            "text/plain": [
              "       casosAcumulado  obitosAcumulado  Recuperadosnovos  emAcompanhamentoNovos\n",
              "28462               1                0               NaN                    NaN\n",
              "28463               1                0               NaN                    NaN\n",
              "28464               1                0               NaN                    NaN\n",
              "28465               2                0               NaN                    NaN\n",
              "28466               2                0               NaN                    NaN\n",
              "...               ...              ...               ...                    ...\n",
              "34118            6547              236               NaN                    NaN\n",
              "34119            6955              262               NaN                    NaN\n",
              "34120            8128              281               NaN                    NaN\n",
              "34121            8314              286               NaN                    NaN\n",
              "34122            8443              295               NaN                    NaN\n",
              "\n",
              "[5661 rows x 4 columns]"
            ]
          },
          "metadata": {
            "tags": []
          },
          "execution_count": 77
        }
      ]
    },
    {
      "cell_type": "code",
      "metadata": {
        "id": "4MBdzDTG9nbu",
        "colab_type": "code",
        "outputId": "7c4e2f77-e81e-44c6-dba3-87ef90a1e85f",
        "colab": {
          "base_uri": "https://localhost:8080/",
          "height": 389
        }
      },
      "source": [
        " # Gráfico exibindo didistribuição de casos acumulado e mortes acumuladas até a data da última atualização do DATASET \n",
        " # Gráfico catplot da biblioteca seaborn \n",
        "sns.catplot(data=bahia)\n",
        "plt.xticks(rotation=35)"
      ],
      "execution_count": 0,
      "outputs": [
        {
          "output_type": "execute_result",
          "data": {
            "text/plain": [
              "(array([0, 1, 2, 3]), <a list of 4 Text major ticklabel objects>)"
            ]
          },
          "metadata": {
            "tags": []
          },
          "execution_count": 93
        },
        {
          "output_type": "display_data",
          "data": {
            "image/png": "[encoded data removed]",
            "text/plain": [
              "<Figure size 360x360 with 1 Axes>"
            ]
          },
          "metadata": {
            "tags": [],
            "needs_background": "light"
          }
        }
      ]
    },
    {
      "cell_type": "code",
      "metadata": {
        "id": "fhJNkI4VH5q4",
        "colab_type": "code",
        "outputId": "2c906d2d-257b-43bf-f845-f2338871f243",
        "colab": {
          "base_uri": "https://localhost:8080/",
          "height": 193
        }
      },
      "source": [
        "# Gráfico exibindo distribuição de casos confirmados e mortes acumuladas \n",
        "# Gráfico do tipo linha ,  da biblioteca seaborn \n",
        "sns.lineplot(data=bahia);"
      ],
      "execution_count": 0,
      "outputs": [
        {
          "output_type": "display_data",
          "data": {
            "image/png": "[encoded data removed]",
            "text/plain": [
              "<Figure size 432x288 with 1 Axes>"
            ]
          },
          "metadata": {
            "tags": [],
            "needs_background": "light"
          }
        }
      ]
    },
    {
      "cell_type": "code",
      "metadata": {
        "id": "Rixv4UhSIqb-",
        "colab_type": "code",
        "outputId": "091ac206-ef50-4a96-a0e1-c865117d0150",
        "colab": {
          "base_uri": "https://localhost:8080/",
          "height": 17
        }
      },
      "source": [
        ""
      ],
      "execution_count": 0,
      "outputs": [
        {
          "output_type": "display_data",
          "data": {
            "text/html": [
              "        <script type=\"text/javascript\">\n",
              "        window.PlotlyConfig = {MathJaxConfig: 'local'};\n",
              "        if (window.MathJax) {MathJax.Hub.Config({SVG: {font: \"STIX-Web\"}});}\n",
              "        if (typeof require !== 'undefined') {\n",
              "        require.undef(\"plotly\");\n",
              "        requirejs.config({\n",
              "            paths: {\n",
              "                'plotly': ['https://cdn.plot.ly/plotly-latest.min']\n",
              "            }\n",
              "        });\n",
              "        require(['plotly'], function(Plotly) {\n",
              "            window._Plotly = Plotly;\n",
              "        });\n",
              "        }\n",
              "        </script>\n",
              "        "
            ]
          },
          "metadata": {
            "tags": []
          }
        }
      ]
    }
  ]
}