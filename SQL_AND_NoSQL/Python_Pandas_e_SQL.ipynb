{
 "cells": [
  {
   "cell_type": "markdown",
   "metadata": {},
   "source": [
    "## SQL com Python + Pandas + SQLalchemy "
   ]
  },
  {
   "cell_type": "code",
   "execution_count": null,
   "metadata": {},
   "outputs": [],
   "source": [
    "# CASO NÃO TENHA AS DEPENDÊNCIAS INSTALADOS \n",
    "! pip install pandas sqlalchemy openpyxl "
   ]
  },
  {
   "cell_type": "code",
   "execution_count": 2,
   "metadata": {
    "scrolled": true
   },
   "outputs": [],
   "source": [
    "# IMPORTAÇÃO DOS PACOTES NECESSÁRIOS \n",
    "from sqlalchemy import create_engine\n",
    "import pandas as pd\n",
    "from pandas.io import sql"
   ]
  },
  {
   "cell_type": "markdown",
   "metadata": {},
   "source": [
    "### Usaremos o SQLite3 como nosso banco de dados relacional, pois é muito leve e fácil de usar.  Embora a biblioteca SQLAlchemy possa se conectar a uma variedade de fontes relacionais, incluindo MySql, Oracle e Postgresql e Mssql.  Primeiro criamos um mecanismo de banco de dados e, em seguida, nos conectamos a ele usando a função to_sql da biblioteca SQLAlchemy. No exemplo a seguir, criamos a tabela relacional usando a função to_sql de um dataframe já criado pela leitura de um arquivo xlsx.  Em seguida, usamos a função read_sql_query do pandas para executar e capturar os resultados de várias consultas SQL."
   ]
  },
  {
   "cell_type": "markdown",
   "metadata": {},
   "source": [
    "## Criando e consultando o banco de dados com SQLite (DQL)"
   ]
  },
  {
   "cell_type": "code",
   "execution_count": 3,
   "metadata": {
    "scrolled": true
   },
   "outputs": [
    {
     "name": "stdout",
     "output_type": "stream",
     "text": [
      "Resultado 1\n",
      "   index  id    name  salary                  start_date        dept\n",
      "0      0   1   Rick      623  2012-01-01 00:00:00.000000          IT\n",
      "1      1   2     Dan     515  2013-09-23 00:00:00.000000  Operations\n",
      "2      2   3   Tusar     611  2014-11-15 00:00:00.000000          IT\n",
      "3      3   4    Ryan     729  2014-05-11 00:00:00.000000          HR\n",
      "4      4   5    Gary     843  2015-03-27 00:00:00.000000     Finance\n",
      "5      5   6   Rasmi     578  2013-05-21 00:00:00.000000          IT\n",
      "6      6   7  Pranab     632  2013-07-30 00:00:00.000000  Operations\n",
      "7      7   8    Guru     722  2014-06-17 00:00:00.000000     Finance\n",
      "\n",
      "Resultado 2\n",
      "         dept  sum(salary)\n",
      "0     Finance         1565\n",
      "1          HR          729\n",
      "2          IT         1812\n",
      "3  Operations         1147\n"
     ]
    }
   ],
   "source": [
    "#Carrega o arquivo Excel com pandas \n",
    "data = pd.read_excel('Planilha_to_SQL.xlsx', engine='openpyxl')\n",
    "\n",
    "# Criação do motor de banco de dados com SQlite rodando em memória \n",
    "engine = create_engine('sqlite:///:memory:')\n",
    "\n",
    "# Armazena o dataframe como uma tabela no disco\n",
    "data.to_sql('data_table', engine)\n",
    "\n",
    "# Primeira Query na tabela relacional \n",
    "# Selecionei a tabela inteira , carregada pelo motor \"engine\".\n",
    "res1 = pd.read_sql_query('SELECT * FROM data_table', engine)\n",
    "print('Resultado 1')\n",
    "print(res1)\n",
    "print('')\n",
    "\n",
    "# Segunda Query\n",
    "# Agupei por departamento e somei os salários distribuidos por departamento da tabela \"data_table\"\n",
    "res2 = pd.read_sql_query('SELECT dept,sum(salary) FROM data_table group by dept', engine)\n",
    "print('Resultado 2')\n",
    "print(res2)\n"
   ]
  },
  {
   "cell_type": "markdown",
   "metadata": {},
   "source": [
    "## Inserindo dados na tabela  ( DML ) e ( DQL )"
   ]
  },
  {
   "cell_type": "markdown",
   "metadata": {},
   "source": [
    "### Também podemos inserir dados em tabelas relacionais usando a função sql.execute disponível no pandas.  No código a seguir o arquivo xlsx anterior é  usado como conjunto de dados de entrada, armazenamos em uma tabela relacional e então inserimos outro registro usando sql.execute."
   ]
  },
  {
   "cell_type": "code",
   "execution_count": 4,
   "metadata": {
    "jupyter": {
     "source_hidden": true
    },
    "scrolled": true
   },
   "outputs": [
    {
     "name": "stdout",
     "output_type": "stream",
     "text": [
      "   id        dept    name  salary                  start_date\n",
      "0   1          IT   Rick    623.0  2012-01-01 00:00:00.000000\n",
      "1   2  Operations     Dan   515.0  2013-09-23 00:00:00.000000\n",
      "2   3          IT   Tusar   611.0  2014-11-15 00:00:00.000000\n",
      "3   4          HR    Ryan   729.0  2014-05-11 00:00:00.000000\n",
      "4   5     Finance    Gary   843.0  2015-03-27 00:00:00.000000\n",
      "5   6          IT   Rasmi   578.0  2013-05-21 00:00:00.000000\n",
      "6   7  Operations  Pranab   632.0  2013-07-30 00:00:00.000000\n",
      "7   8     Finance    Guru   722.0  2014-06-17 00:00:00.000000\n",
      "8   9          IT    Ruby   711.2                  2015-03-27\n"
     ]
    }
   ],
   "source": [
    "data = pd.read_excel('Planilha_to_SQL.xlsx',engine='openpyxl')\n",
    "engine = create_engine('sqlite:///:memory:')\n",
    "\n",
    "# Armazene os dados em uma tabela relacional\n",
    "data.to_sql('data_table', engine)\n",
    "\n",
    "# Inserir a nova linha na tabela / preencher com os valores  \n",
    "sql.execute('INSERT INTO data_table VALUES(?,?,?,?,?,?)', \n",
    "            engine, params=[('id',9,'Ruby',711.20,'2015-03-27','IT')])\n",
    "\n",
    "# Leitura da tabela / Query  com todos atributos mais a nova linha \n",
    "res = pd.read_sql_query('SELECT ID,Dept,Name,Salary,start_date FROM data_table',\n",
    "                        engine)\n",
    "\n",
    "print(res)"
   ]
  },
  {
   "cell_type": "markdown",
   "metadata": {},
   "source": [
    "## Excluindo dados na tabela ( DML ) e ( DQL )"
   ]
  },
  {
   "cell_type": "markdown",
   "metadata": {},
   "source": [
    "### Também podemos deletar dados em tabelas relacionais usando a função sql.execute disponível no pandas.  O código a seguir exclui uma linha com base na condição de entrada fornecida."
   ]
  },
  {
   "cell_type": "code",
   "execution_count": 5,
   "metadata": {},
   "outputs": [
    {
     "name": "stdout",
     "output_type": "stream",
     "text": [
      "   id        dept    name  salary                  start_date\n",
      "0   1          IT   Rick      623  2012-01-01 00:00:00.000000\n",
      "1   2  Operations     Dan     515  2013-09-23 00:00:00.000000\n",
      "2   3          IT   Tusar     611  2014-11-15 00:00:00.000000\n",
      "3   4          HR    Ryan     729  2014-05-11 00:00:00.000000\n",
      "4   6          IT   Rasmi     578  2013-05-21 00:00:00.000000\n",
      "5   7  Operations  Pranab     632  2013-07-30 00:00:00.000000\n",
      "6   8     Finance    Guru     722  2014-06-17 00:00:00.000000\n"
     ]
    }
   ],
   "source": [
    "data = pd.read_excel('Planilha_to_SQL.xlsx',engine='openpyxl')\n",
    "engine = create_engine('sqlite:///:memory:')\n",
    "\n",
    "data.to_sql('data_table', engine)\n",
    "# Excluí linha na tabela onde o nome é igual à Gary \n",
    "sql.execute('Delete from data_table where name = (?) ', engine, params=[('Gary')])\n",
    "# Leitura da tabela com atributos completos, atualizada\n",
    "res = pd.read_sql_query('SELECT ID,Dept,Name,Salary,start_date FROM data_table',engine)\n",
    "# Exibe \n",
    "print(res)"
   ]
  }
 ],
 "metadata": {
  "kernelspec": {
   "display_name": "Python 3",
   "language": "python",
   "name": "python3"
  },
  "language_info": {
   "codemirror_mode": {
    "name": "ipython",
    "version": 3
   },
   "file_extension": ".py",
   "mimetype": "text/x-python",
   "name": "python",
   "nbconvert_exporter": "python",
   "pygments_lexer": "ipython3",
   "version": "3.8.3"
  }
 },
 "nbformat": 4,
 "nbformat_minor": 4
}
