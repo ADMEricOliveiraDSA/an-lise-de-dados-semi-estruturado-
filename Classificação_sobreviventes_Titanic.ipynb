{
  "nbformat": 4,
  "nbformat_minor": 0,
  "metadata": {
    "colab": {
      "name": "Classificação_sobreviventes_Titanic.ipynb",
      "provenance": [],
      "collapsed_sections": [],
      "mount_file_id": "1W5CMFYVAJxTTGefFT71raFrh533nlDlV",
      "authorship_tag": "ABX9TyMeLnkKdwBdV7wj4iCoXANi",
      "include_colab_link": true
    },
    "kernelspec": {
      "name": "python3",
      "display_name": "Python 3"
    }
  },
  "cells": [
    {
      "cell_type": "markdown",
      "metadata": {
        "id": "view-in-github",
        "colab_type": "text"
      },
      "source": [
        "<a href=\"https://colab.research.google.com/github/EricOliveira17/Estudos-em-Data-Science-/blob/master/Classifica%C3%A7%C3%A3o_sobreviventes_Titanic.ipynb\" target=\"_parent\"><img src=\"https://colab.research.google.com/assets/colab-badge.svg\" alt=\"Open In Colab\"/></a>"
      ]
    },
    {
      "cell_type": "markdown",
      "metadata": {
        "id": "U3UYaxZj1rwQ"
      },
      "source": [
        "CLASSIFICANDO SOBREVIVENTES OU NÃO NO NAUFRÁGIO DO TITANIC."
      ]
    },
    {
      "cell_type": "markdown",
      "metadata": {
        "id": "ia3SUIMcpTQU"
      },
      "source": [
        "Bom a proposta da análise é classificar os passageiros entre sobreviventes ou não, logo tenho um problema de classificação, para resolver este tipo de problema usa-se modelos de aprendizado supervisionado para classificação."
      ]
    },
    {
      "cell_type": "code",
      "metadata": {
        "id": "QZl8ciglFUqt"
      },
      "source": [
        "# importando bibliotecas para analises\n",
        "import pandas            as pd \n",
        "import numpy             as np\n",
        "import matplotlib.pyplot as plt\n",
        "import seaborn           as sns"
      ],
      "execution_count": 1,
      "outputs": []
    },
    {
      "cell_type": "code",
      "metadata": {
        "id": "UK-UhY9xFu4Z"
      },
      "source": [
        "# Carregando o dataset através da biblioteca seaborn \n",
        "titanic = sns.load_dataset('titanic')"
      ],
      "execution_count": 2,
      "outputs": []
    },
    {
      "cell_type": "code",
      "metadata": {
        "id": "Uz3IQtw4F1mf",
        "outputId": "e3f358bc-c619-4f3d-e12c-099b3bd42f17",
        "colab": {
          "base_uri": "https://localhost:8080/",
          "height": 224
        }
      },
      "source": [
        " \n",
        "# Visualizando primeiras linhas do conjunto de dados \n",
        "titanic.head ()"
      ],
      "execution_count": 3,
      "outputs": [
        {
          "output_type": "execute_result",
          "data": {
            "text/html": [
              "<div>\n",
              "<style scoped>\n",
              "    .dataframe tbody tr th:only-of-type {\n",
              "        vertical-align: middle;\n",
              "    }\n",
              "\n",
              "    .dataframe tbody tr th {\n",
              "        vertical-align: top;\n",
              "    }\n",
              "\n",
              "    .dataframe thead th {\n",
              "        text-align: right;\n",
              "    }\n",
              "</style>\n",
              "<table border=\"1\" class=\"dataframe\">\n",
              "  <thead>\n",
              "    <tr style=\"text-align: right;\">\n",
              "      <th></th>\n",
              "      <th>survived</th>\n",
              "      <th>pclass</th>\n",
              "      <th>sex</th>\n",
              "      <th>age</th>\n",
              "      <th>sibsp</th>\n",
              "      <th>parch</th>\n",
              "      <th>fare</th>\n",
              "      <th>embarked</th>\n",
              "      <th>class</th>\n",
              "      <th>who</th>\n",
              "      <th>adult_male</th>\n",
              "      <th>deck</th>\n",
              "      <th>embark_town</th>\n",
              "      <th>alive</th>\n",
              "      <th>alone</th>\n",
              "    </tr>\n",
              "  </thead>\n",
              "  <tbody>\n",
              "    <tr>\n",
              "      <th>0</th>\n",
              "      <td>0</td>\n",
              "      <td>3</td>\n",
              "      <td>male</td>\n",
              "      <td>22.0</td>\n",
              "      <td>1</td>\n",
              "      <td>0</td>\n",
              "      <td>7.2500</td>\n",
              "      <td>S</td>\n",
              "      <td>Third</td>\n",
              "      <td>man</td>\n",
              "      <td>True</td>\n",
              "      <td>NaN</td>\n",
              "      <td>Southampton</td>\n",
              "      <td>no</td>\n",
              "      <td>False</td>\n",
              "    </tr>\n",
              "    <tr>\n",
              "      <th>1</th>\n",
              "      <td>1</td>\n",
              "      <td>1</td>\n",
              "      <td>female</td>\n",
              "      <td>38.0</td>\n",
              "      <td>1</td>\n",
              "      <td>0</td>\n",
              "      <td>71.2833</td>\n",
              "      <td>C</td>\n",
              "      <td>First</td>\n",
              "      <td>woman</td>\n",
              "      <td>False</td>\n",
              "      <td>C</td>\n",
              "      <td>Cherbourg</td>\n",
              "      <td>yes</td>\n",
              "      <td>False</td>\n",
              "    </tr>\n",
              "    <tr>\n",
              "      <th>2</th>\n",
              "      <td>1</td>\n",
              "      <td>3</td>\n",
              "      <td>female</td>\n",
              "      <td>26.0</td>\n",
              "      <td>0</td>\n",
              "      <td>0</td>\n",
              "      <td>7.9250</td>\n",
              "      <td>S</td>\n",
              "      <td>Third</td>\n",
              "      <td>woman</td>\n",
              "      <td>False</td>\n",
              "      <td>NaN</td>\n",
              "      <td>Southampton</td>\n",
              "      <td>yes</td>\n",
              "      <td>True</td>\n",
              "    </tr>\n",
              "    <tr>\n",
              "      <th>3</th>\n",
              "      <td>1</td>\n",
              "      <td>1</td>\n",
              "      <td>female</td>\n",
              "      <td>35.0</td>\n",
              "      <td>1</td>\n",
              "      <td>0</td>\n",
              "      <td>53.1000</td>\n",
              "      <td>S</td>\n",
              "      <td>First</td>\n",
              "      <td>woman</td>\n",
              "      <td>False</td>\n",
              "      <td>C</td>\n",
              "      <td>Southampton</td>\n",
              "      <td>yes</td>\n",
              "      <td>False</td>\n",
              "    </tr>\n",
              "    <tr>\n",
              "      <th>4</th>\n",
              "      <td>0</td>\n",
              "      <td>3</td>\n",
              "      <td>male</td>\n",
              "      <td>35.0</td>\n",
              "      <td>0</td>\n",
              "      <td>0</td>\n",
              "      <td>8.0500</td>\n",
              "      <td>S</td>\n",
              "      <td>Third</td>\n",
              "      <td>man</td>\n",
              "      <td>True</td>\n",
              "      <td>NaN</td>\n",
              "      <td>Southampton</td>\n",
              "      <td>no</td>\n",
              "      <td>True</td>\n",
              "    </tr>\n",
              "  </tbody>\n",
              "</table>\n",
              "</div>"
            ],
            "text/plain": [
              "   survived  pclass     sex   age  ...  deck  embark_town  alive  alone\n",
              "0         0       3    male  22.0  ...   NaN  Southampton     no  False\n",
              "1         1       1  female  38.0  ...     C    Cherbourg    yes  False\n",
              "2         1       3  female  26.0  ...   NaN  Southampton    yes   True\n",
              "3         1       1  female  35.0  ...     C  Southampton    yes  False\n",
              "4         0       3    male  35.0  ...   NaN  Southampton     no   True\n",
              "\n",
              "[5 rows x 15 columns]"
            ]
          },
          "metadata": {
            "tags": []
          },
          "execution_count": 3
        }
      ]
    },
    {
      "cell_type": "markdown",
      "metadata": {
        "id": "9m9OqEYgqCOT"
      },
      "source": [
        "### Fase de tratamento dos dados,identificar padrões,valores faltantes, correlações entre variáveis e transformações de variáveis para a seleção dos melhores atributos."
      ]
    },
    {
      "cell_type": "code",
      "metadata": {
        "id": "qP2Wp7J2bWZI",
        "outputId": "b59e23d9-0aae-4447-eb28-e75cc8d087dd",
        "colab": {
          "base_uri": "https://localhost:8080/",
          "height": 289
        }
      },
      "source": [
        "# Visualizando a totalidade de valores faltantes entre as colunas\n",
        "titanic.isnull().sum()"
      ],
      "execution_count": 4,
      "outputs": [
        {
          "output_type": "execute_result",
          "data": {
            "text/plain": [
              "survived         0\n",
              "pclass           0\n",
              "sex              0\n",
              "age            177\n",
              "sibsp            0\n",
              "parch            0\n",
              "fare             0\n",
              "embarked         2\n",
              "class            0\n",
              "who              0\n",
              "adult_male       0\n",
              "deck           688\n",
              "embark_town      2\n",
              "alive            0\n",
              "alone            0\n",
              "dtype: int64"
            ]
          },
          "metadata": {
            "tags": []
          },
          "execution_count": 4
        }
      ]
    },
    {
      "cell_type": "code",
      "metadata": {
        "id": "ZisYXeKrUuto",
        "outputId": "101b36a5-7e3a-4d94-bbe6-4e43d858781a",
        "colab": {
          "base_uri": "https://localhost:8080/",
          "height": 68
        }
      },
      "source": [
        "#Visualizando distribuição de pessoas por sexo entre os integrantes abordo \n",
        "titanic.sex.value_counts ()"
      ],
      "execution_count": 5,
      "outputs": [
        {
          "output_type": "execute_result",
          "data": {
            "text/plain": [
              "male      577\n",
              "female    314\n",
              "Name: sex, dtype: int64"
            ]
          },
          "metadata": {
            "tags": []
          },
          "execution_count": 5
        }
      ]
    },
    {
      "cell_type": "code",
      "metadata": {
        "id": "mP5rUd2BSW_C"
      },
      "source": [
        "# Criando função para transformar os valores de sexo que estão como objetos \n",
        "# Para números inteiros onde o número 1 representa \"mulheres\" e o número 0 \"homens\"\n",
        "def sexo_binario (valor):\n",
        "   if valor == \"female\":\n",
        "     return 1\n",
        "   else:\n",
        "     return 0\n",
        " \n",
        "titanic[\"sexo_numerico\"] = titanic[\"sex\"].map(sexo_binario)"
      ],
      "execution_count": 6,
      "outputs": []
    },
    {
      "cell_type": "code",
      "metadata": {
        "id": "g_su3PK4Y1Qv",
        "outputId": "4a800301-455a-4cb5-aff0-690349b148b5",
        "colab": {
          "base_uri": "https://localhost:8080/",
          "height": 88
        }
      },
      "source": [
        "# Visualizando distribuição de pessoas por sexo entre os integrantes abordo\n",
        "# Agora com sexo em formato númerico \n",
        "titanic.sexo_numerico.value_counts ()"
      ],
      "execution_count": 7,
      "outputs": [
        {
          "output_type": "execute_result",
          "data": {
            "text/plain": [
              "0    577\n",
              "1    314\n",
              "Name: sexo_numerico, dtype: int64"
            ]
          },
          "metadata": {
            "tags": []
          },
          "execution_count": 7
        }
      ]
    },
    {
      "cell_type": "code",
      "metadata": {
        "id": "Q7SZHpqHlgk6"
      },
      "source": [
        " \n",
        "# Substituindo valores ausentes na coluna idade , pela própria média das idades\n",
        "# transformando coluna \"idade\" de valor flutuante para valor inteiro\n",
        "media_idade = titanic[\"age\"].mean ()\n",
        "titanic[\"age\"] = titanic[\"age\"].fillna(media_idade).astype(int)"
      ],
      "execution_count": 8,
      "outputs": []
    },
    {
      "cell_type": "code",
      "metadata": {
        "id": "4J7rn4o6R6QR",
        "outputId": "973a5e23-dd34-489a-c7cf-708a9a1ebf16",
        "colab": {
          "base_uri": "https://localhost:8080/",
          "height": 428
        }
      },
      "source": [
        " \n",
        "# Visualizando informações de todas as colunas \n",
        "titanic.info ()"
      ],
      "execution_count": 9,
      "outputs": [
        {
          "output_type": "stream",
          "text": [
            "<class 'pandas.core.frame.DataFrame'>\n",
            "RangeIndex: 891 entries, 0 to 890\n",
            "Data columns (total 16 columns):\n",
            " #   Column         Non-Null Count  Dtype   \n",
            "---  ------         --------------  -----   \n",
            " 0   survived       891 non-null    int64   \n",
            " 1   pclass         891 non-null    int64   \n",
            " 2   sex            891 non-null    object  \n",
            " 3   age            891 non-null    int64   \n",
            " 4   sibsp          891 non-null    int64   \n",
            " 5   parch          891 non-null    int64   \n",
            " 6   fare           891 non-null    float64 \n",
            " 7   embarked       889 non-null    object  \n",
            " 8   class          891 non-null    category\n",
            " 9   who            891 non-null    object  \n",
            " 10  adult_male     891 non-null    bool    \n",
            " 11  deck           203 non-null    category\n",
            " 12  embark_town    889 non-null    object  \n",
            " 13  alive          891 non-null    object  \n",
            " 14  alone          891 non-null    bool    \n",
            " 15  sexo_numerico  891 non-null    int64   \n",
            "dtypes: bool(2), category(2), float64(1), int64(6), object(5)\n",
            "memory usage: 87.6+ KB\n"
          ],
          "name": "stdout"
        }
      ]
    },
    {
      "cell_type": "code",
      "metadata": {
        "id": "2E599mN-GnFR",
        "outputId": "3fb23bf6-0e14-4f41-e5ea-6fe85eb36ac2",
        "colab": {
          "base_uri": "https://localhost:8080/",
          "height": 317
        }
      },
      "source": [
        "# Visualizando valores descritivos \n",
        "titanic.describe ()"
      ],
      "execution_count": 10,
      "outputs": [
        {
          "output_type": "execute_result",
          "data": {
            "text/html": [
              "<div>\n",
              "<style scoped>\n",
              "    .dataframe tbody tr th:only-of-type {\n",
              "        vertical-align: middle;\n",
              "    }\n",
              "\n",
              "    .dataframe tbody tr th {\n",
              "        vertical-align: top;\n",
              "    }\n",
              "\n",
              "    .dataframe thead th {\n",
              "        text-align: right;\n",
              "    }\n",
              "</style>\n",
              "<table border=\"1\" class=\"dataframe\">\n",
              "  <thead>\n",
              "    <tr style=\"text-align: right;\">\n",
              "      <th></th>\n",
              "      <th>survived</th>\n",
              "      <th>pclass</th>\n",
              "      <th>age</th>\n",
              "      <th>sibsp</th>\n",
              "      <th>parch</th>\n",
              "      <th>fare</th>\n",
              "      <th>sexo_numerico</th>\n",
              "    </tr>\n",
              "  </thead>\n",
              "  <tbody>\n",
              "    <tr>\n",
              "      <th>count</th>\n",
              "      <td>891.000000</td>\n",
              "      <td>891.000000</td>\n",
              "      <td>891.000000</td>\n",
              "      <td>891.000000</td>\n",
              "      <td>891.000000</td>\n",
              "      <td>891.000000</td>\n",
              "      <td>891.000000</td>\n",
              "    </tr>\n",
              "    <tr>\n",
              "      <th>mean</th>\n",
              "      <td>0.383838</td>\n",
              "      <td>2.308642</td>\n",
              "      <td>29.544332</td>\n",
              "      <td>0.523008</td>\n",
              "      <td>0.381594</td>\n",
              "      <td>32.204208</td>\n",
              "      <td>0.352413</td>\n",
              "    </tr>\n",
              "    <tr>\n",
              "      <th>std</th>\n",
              "      <td>0.486592</td>\n",
              "      <td>0.836071</td>\n",
              "      <td>13.013778</td>\n",
              "      <td>1.102743</td>\n",
              "      <td>0.806057</td>\n",
              "      <td>49.693429</td>\n",
              "      <td>0.477990</td>\n",
              "    </tr>\n",
              "    <tr>\n",
              "      <th>min</th>\n",
              "      <td>0.000000</td>\n",
              "      <td>1.000000</td>\n",
              "      <td>0.000000</td>\n",
              "      <td>0.000000</td>\n",
              "      <td>0.000000</td>\n",
              "      <td>0.000000</td>\n",
              "      <td>0.000000</td>\n",
              "    </tr>\n",
              "    <tr>\n",
              "      <th>25%</th>\n",
              "      <td>0.000000</td>\n",
              "      <td>2.000000</td>\n",
              "      <td>22.000000</td>\n",
              "      <td>0.000000</td>\n",
              "      <td>0.000000</td>\n",
              "      <td>7.910400</td>\n",
              "      <td>0.000000</td>\n",
              "    </tr>\n",
              "    <tr>\n",
              "      <th>50%</th>\n",
              "      <td>0.000000</td>\n",
              "      <td>3.000000</td>\n",
              "      <td>29.000000</td>\n",
              "      <td>0.000000</td>\n",
              "      <td>0.000000</td>\n",
              "      <td>14.454200</td>\n",
              "      <td>0.000000</td>\n",
              "    </tr>\n",
              "    <tr>\n",
              "      <th>75%</th>\n",
              "      <td>1.000000</td>\n",
              "      <td>3.000000</td>\n",
              "      <td>35.000000</td>\n",
              "      <td>1.000000</td>\n",
              "      <td>0.000000</td>\n",
              "      <td>31.000000</td>\n",
              "      <td>1.000000</td>\n",
              "    </tr>\n",
              "    <tr>\n",
              "      <th>max</th>\n",
              "      <td>1.000000</td>\n",
              "      <td>3.000000</td>\n",
              "      <td>80.000000</td>\n",
              "      <td>8.000000</td>\n",
              "      <td>6.000000</td>\n",
              "      <td>512.329200</td>\n",
              "      <td>1.000000</td>\n",
              "    </tr>\n",
              "  </tbody>\n",
              "</table>\n",
              "</div>"
            ],
            "text/plain": [
              "         survived      pclass  ...        fare  sexo_numerico\n",
              "count  891.000000  891.000000  ...  891.000000     891.000000\n",
              "mean     0.383838    2.308642  ...   32.204208       0.352413\n",
              "std      0.486592    0.836071  ...   49.693429       0.477990\n",
              "min      0.000000    1.000000  ...    0.000000       0.000000\n",
              "25%      0.000000    2.000000  ...    7.910400       0.000000\n",
              "50%      0.000000    3.000000  ...   14.454200       0.000000\n",
              "75%      1.000000    3.000000  ...   31.000000       1.000000\n",
              "max      1.000000    3.000000  ...  512.329200       1.000000\n",
              "\n",
              "[8 rows x 7 columns]"
            ]
          },
          "metadata": {
            "tags": []
          },
          "execution_count": 10
        }
      ]
    },
    {
      "cell_type": "code",
      "metadata": {
        "id": "F7BmbFpEZgtQ",
        "outputId": "804739d6-c751-4417-fb03-f6e9a1e02bae",
        "colab": {
          "base_uri": "https://localhost:8080/",
          "height": 125
        }
      },
      "source": [
        " \n",
        "# Visualizando correlações entre variáveis \n",
        "correlacao = titanic.corr()\n",
        "plt.figure(figsize=(16,6))\n",
        "sns.heatmap(data=correlacao,annot=True);"
      ],
      "execution_count": 11,
      "outputs": [
        {
          "output_type": "display_data",
          "data": {
            "image/png": "[encoded data removed]",
            "text/plain": [
              "<Figure size 1152x432 with 2 Axes>"
            ]
          },
          "metadata": {
            "tags": [],
            "needs_background": "light"
          }
        }
      ]
    },
    {
      "cell_type": "markdown",
      "metadata": {
        "id": "YYCLe-cjsM_E"
      },
      "source": [
        "### Selecionando as variáveis que melhor se adequam para a classificação dos modelos e aplicando os modelos."
      ]
    },
    {
      "cell_type": "code",
      "metadata": {
        "id": "LNWcGLKcXEu-"
      },
      "source": [
        "# Atribuindo os atributos preditivos a variável X -(\"independente\")\n",
        "# Atribuindo a variável alvo preditora  Y -(\"dependente\")\n",
        "X = titanic[[\"age\",\"fare\",\"sexo_numerico\",\"pclass\",\"sibsp\",\"parch\"]]\n",
        "y = titanic[\"survived\"]"
      ],
      "execution_count": 12,
      "outputs": []
    },
    {
      "cell_type": "code",
      "metadata": {
        "id": "ir64HVJ0QdPN"
      },
      "source": [
        "# importando bibliotecas de modelos de machine learning  \n",
        "from sklearn.ensemble        import RandomForestClassifier\n",
        "from sklearn.tree            import DecisionTreeClassifier\n",
        "from sklearn.linear_model    import LogisticRegression\n",
        "from sklearn.model_selection import train_test_split"
      ],
      "execution_count": 13,
      "outputs": []
    },
    {
      "cell_type": "code",
      "metadata": {
        "id": "tyhLUDg0LQ2l"
      },
      "source": [
        "# Metricas de avaliação\n",
        "from sklearn.metrics         import accuracy_score, f1_score, precision_score, confusion_matrix"
      ],
      "execution_count": 14,
      "outputs": []
    },
    {
      "cell_type": "code",
      "metadata": {
        "id": "GPZdwjewA2bH"
      },
      "source": [
        "# Divisão dados de treino e teste\n",
        "np.random.seed(0)\n",
        "X_treino,X_valid,y_treino,y_valid = train_test_split (X,y,\n",
        "                                                      test_size=0.5,\n",
        "                                                      random_state=2)"
      ],
      "execution_count": 15,
      "outputs": []
    },
    {
      "cell_type": "code",
      "metadata": {
        "id": "kAD1yuXEdQ0w",
        "outputId": "9123b3d0-d878-4d52-a089-ab3bc1fd9e99",
        "colab": {
          "base_uri": "https://localhost:8080/",
          "height": 54
        }
      },
      "source": [
        " \n",
        "# A forma como os dados são divididos pelo train_test_split\n",
        "X_treino.shape,X_valid.shape,y_treino.shape,y_valid.shape"
      ],
      "execution_count": 16,
      "outputs": [
        {
          "output_type": "execute_result",
          "data": {
            "text/plain": [
              "((445, 6), (446, 6), (445,), (446,))"
            ]
          },
          "metadata": {
            "tags": []
          },
          "execution_count": 16
        }
      ]
    },
    {
      "cell_type": "markdown",
      "metadata": {
        "id": "sBmmQrt2nJcJ"
      },
      "source": [
        "#### Primeiro modelo - Floresta Aleatória Classificador  (mix de árvores de decisão) - método ensemble(conjunto)"
      ]
    },
    {
      "cell_type": "code",
      "metadata": {
        "id": "uJsizOTDRPdH"
      },
      "source": [
        "# Instânciando modelo\n",
        "#1°\n",
        "modelo_RFC = RandomForestClassifier (bootstrap=True,\n",
        "                                     n_estimators=1000,\n",
        "                                     n_jobs=-1,\n",
        "                                     random_state=42,\n",
        "                                     max_features='sqrt')"
      ],
      "execution_count": 17,
      "outputs": []
    },
    {
      "cell_type": "code",
      "metadata": {
        "id": "g65AIgUanDXv"
      },
      "source": [
        "# MODELO RANDOM FOREST CLASSIFIER \n",
        "# fit \n",
        "modelo_RFC.fit (X_treino,y_treino)\n",
        "# predict\n",
        "y_pred = modelo_RFC.predict(X_valid)"
      ],
      "execution_count": 18,
      "outputs": []
    },
    {
      "cell_type": "code",
      "metadata": {
        "id": "mSLYCd5AFK5_",
        "outputId": "616c7645-0e90-4198-d7ff-6bdd8c99dcf8",
        "colab": {
          "base_uri": "https://localhost:8080/",
          "height": 122
        }
      },
      "source": [
        "# Precisão do modelo_RFC\n",
        "print(\"modelo_RFC Acuracia:{}\".format(accuracy_score(y_valid,y_pred)))\n",
        "print(\"f1_score:{}\".format(f1_score(y_valid,y_pred)))\n",
        "print(\"precision_score:{}\".format(precision_score(y_valid,y_pred)))\n",
        "print(\"matriz_confusao:{}\".format(confusion_matrix(y_valid,y_pred)))"
      ],
      "execution_count": 19,
      "outputs": [
        {
          "output_type": "stream",
          "text": [
            "modelo_RFC Acuracia:0.8139013452914798\n",
            "f1_score:0.7580174927113702\n",
            "precision_score:0.7784431137724551\n",
            "matriz_confusao:[[233  37]\n",
            " [ 46 130]]\n"
          ],
          "name": "stdout"
        }
      ]
    },
    {
      "cell_type": "markdown",
      "metadata": {
        "id": "oJvZhR2jkp2v"
      },
      "source": [
        "A acurácia do modelo é de 81% ou seja o modelo classifica dentro de uma amostra de 100 tripulantes que 81 sobrevivem ou não🚢🔍"
      ]
    },
    {
      "cell_type": "markdown",
      "metadata": {
        "id": "iODLK1g05UCg"
      },
      "source": [
        "##Vou verificar se eu e minha família sobreviveriamos ao náufrago do Titanic.\n",
        " \n",
        "No array do numpy vou considerar a idade do tripulante,valor médio de embarque(32.20),sexo(0 = homem,1 = mulher),número da classe (2, segunda classe),acompanhados(1,sim), quantidade de pais e filhos a bordo(2)"
      ]
    },
    {
      "cell_type": "code",
      "metadata": {
        "id": "qboOLX2Gn5Yd"
      },
      "source": [
        "# Listando os atributos de acordo aos dados de treino (X) recebidos no período de seleção de features(variáveis preditoras) no início da análise.\n",
        " \n",
        "Eric = np.array([22, 32.2, 0, 2, 1, 2]).reshape((1, -1))\n",
        "Emily = np.array([14, 32.2, 1, 2, 1, 2]).reshape((1, -1))\n",
        "Maria = np.array([47, 32.2, 1, 2, 1, 2]).reshape((1, -1))\n",
        "Antonio = np.array([57, 32.2, 0, 2, 1, 2]).reshape((1, -1))"
      ],
      "execution_count": 20,
      "outputs": []
    },
    {
      "cell_type": "code",
      "metadata": {
        "id": "hN7yLh7N1vBM",
        "outputId": "848d5a92-f059-47a1-fba5-74b4e60c22ff",
        "colab": {
          "base_uri": "https://localhost:8080/",
          "height": 122
        }
      },
      "source": [
        "print(\"Eric:   \\t{}\".format(modelo_RFC.predict(Eric)[0]))\n",
        "print(\"Emily:  \\t{}\".format(modelo_RFC.predict(Emily)[0]))\n",
        "print(\"Maria:  \\t{}\".format(modelo_RFC.predict(Maria)[0]))\n",
        "print(\"Antonio:\\t{}\".format(modelo_RFC.predict(Antonio)[0]))\n",
        " \n",
        "print(\"O RESULTADO COM  NÚMERO (1) SIGNIFICA QUE É SOBREVIVENTE E COM (0) NÃO SOBREVIVENTE\")"
      ],
      "execution_count": 21,
      "outputs": [
        {
          "output_type": "stream",
          "text": [
            "Eric:   \t0\n",
            "Emily:  \t1\n",
            "Maria:  \t1\n",
            "Antonio:\t0\n",
            "O RESULTADO COM  NÚMERO (1) SIGNIFICA QUE É SOBREVIVENTE E COM (0) NÃO SOBREVIVENTE\n"
          ],
          "name": "stdout"
        }
      ]
    },
    {
      "cell_type": "markdown",
      "metadata": {
        "id": "AvWSSJybBaw-"
      },
      "source": [
        "\n",
        "  Como resultado minha mãe e minha irmã foram sobreviventes ! E eu e meu pai não. Mesmo ambos pagando o mesmo valor de embarque,na mesma classe,acompanhados, diferenciados apenas na idade e no sexo em relação a minha mãe e irmã.\n",
        "\n",
        "Fica no ar aquelas frazes no filme \"primeiro as mulheres e crianças\", e acaba se confirmando aqui nesta previsão."
      ]
    },
    {
      "cell_type": "markdown",
      "metadata": {
        "id": "6JXVWkSNmTuO"
      },
      "source": [
        "#### Segundo modelo - Árvore de Decisão classificador"
      ]
    },
    {
      "cell_type": "code",
      "metadata": {
        "id": "u-gUM30vBLG2"
      },
      "source": [
        "# Instanciando modelo_Tree\n",
        " #2°\n",
        "modelo_Tree = DecisionTreeClassifier (max_depth=3,\n",
        "                                      max_features='sqrt',\n",
        "                                      random_state=42)"
      ],
      "execution_count": 22,
      "outputs": []
    },
    {
      "cell_type": "code",
      "metadata": {
        "id": "RWU2XQrD1N-T"
      },
      "source": [
        "# MODELO DECISION TREE CLASSIFIER \n",
        "#fit\n",
        "modelo_Tree.fit (X_treino,y_treino)\n",
        "#predict\n",
        "y_pred = modelo_Tree.predict(X_valid)"
      ],
      "execution_count": 23,
      "outputs": []
    },
    {
      "cell_type": "code",
      "metadata": {
        "id": "Y_8p-LsY4jCU",
        "outputId": "db499a8e-5f42-42aa-bb6a-8d833ef6d3b6",
        "colab": {
          "base_uri": "https://localhost:8080/",
          "height": 122
        }
      },
      "source": [
        " # Precisão do modelo_Tree\n",
        "print(\"modelo_Tree Acuracia:{}\".format(accuracy_score(y_valid,y_pred)))\n",
        "print(\"f1_score:{}\".format(f1_score(y_valid,y_pred)))\n",
        "print(\"precision_score:{}\".format(precision_score(y_valid,y_pred)))\n",
        "print(\"matriz_confusao:{}\".format(confusion_matrix(y_valid,y_pred)))"
      ],
      "execution_count": 24,
      "outputs": [
        {
          "output_type": "stream",
          "text": [
            "modelo_Tree Acuracia:0.8183856502242153\n",
            "f1_score:0.7326732673267328\n",
            "precision_score:0.8740157480314961\n",
            "matriz_confusao:[[254  16]\n",
            " [ 65 111]]\n"
          ],
          "name": "stdout"
        }
      ]
    },
    {
      "cell_type": "markdown",
      "metadata": {
        "id": "QQJ7iNPumsRY"
      },
      "source": [
        "#### Terceiro modelo - Regressão Logística"
      ]
    },
    {
      "cell_type": "code",
      "metadata": {
        "id": "H1tgZOoYEq0b"
      },
      "source": [
        "# Instanciando modelo_Lreg\n",
        "#3°\n",
        "modelo_Lreg = LogisticRegression(n_jobs=-1,\n",
        "                                 random_state=42)"
      ],
      "execution_count": 25,
      "outputs": []
    },
    {
      "cell_type": "code",
      "metadata": {
        "id": "GN-ijXdcJZvS"
      },
      "source": [
        "# MODELO LOGISTIC REGRESSION\n",
        "#fit\n",
        "modelo_Lreg.fit(X_treino,y_treino)\n",
        "#predict\n",
        "y_pred = modelo_Lreg.predict(X_valid)"
      ],
      "execution_count": 26,
      "outputs": []
    },
    {
      "cell_type": "code",
      "metadata": {
        "id": "QLFmQtRKKGTS",
        "outputId": "c5516a22-7366-4100-faf3-6751530be173",
        "colab": {
          "base_uri": "https://localhost:8080/",
          "height": 122
        }
      },
      "source": [
        " # Precisão do modelo_Lreg\n",
        "print(\"modelo_Lreg Acuracia:{}\".format(accuracy_score(y_valid,y_pred)))\n",
        "print(\"f1_score:{}\".format(f1_score(y_valid,y_pred)))\n",
        "print(\"precision_score:{}\".format(precision_score(y_valid,y_pred)))\n",
        "print(\"matriz_confusao:{}\".format(confusion_matrix(y_valid,y_pred)))"
      ],
      "execution_count": 27,
      "outputs": [
        {
          "output_type": "stream",
          "text": [
            "modelo_Lreg Acuracia:0.8026905829596412\n",
            "f1_score:0.7283950617283949\n",
            "precision_score:0.7972972972972973\n",
            "matriz_confusao:[[240  30]\n",
            " [ 58 118]]\n"
          ],
          "name": "stdout"
        }
      ]
    },
    {
      "cell_type": "markdown",
      "metadata": {
        "id": "lHo1x_tRoXB1"
      },
      "source": [
        "Isto é o fim !"
      ]
    }
  ]
}